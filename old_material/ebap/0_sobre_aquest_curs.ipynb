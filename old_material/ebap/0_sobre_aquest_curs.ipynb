{
 "cells": [
  {
   "attachments": {},
   "cell_type": "markdown",
   "metadata": {},
   "source": [
    "# Unitat 1. Sobre aquest curs\n",
    "\n",
    "**Curs de formació per l'Escola Balear d'Administració Pública (EBAP)**: \n",
    "\n",
    "- Títol: \"Manipulació i anàlisi de dades basat en el llenguatge de programació Python\"\n",
    "- Codi:  FG24 GOI0074 221 (Mallorca)\n",
    "- Formació General: 2024\n",
    "- Durada: dies 23, 25, 27, i 30 de setembre i 2 d'octubre de 9 a 13 hores.\n",
    "\n",
    "**Benvinguts i Benvingudes!**"
   ]
  },
  {
   "attachments": {},
   "cell_type": "markdown",
   "metadata": {},
   "source": [
    "## Equip docent\n",
    "\n",
    "- [Isaac Lera](https://personal.uib.cat/isaac.lera)\n",
    "- [Biel Moyà](https://personal.uib.cat/gabriel.moya)\n",
    "\n",
    "**Breu presentació**\n",
    "\n",
    "- Professors Titulars d'Universitat. Doctors en informàtica per la UIB.\n",
    "- Membres del Laboratori d'Aplicacions de la Intel·ligència Artificial ([LAIA](https://laia.uib.cat/)).\n",
    "- La nostra docència està relacionada amb la programació a diferents assignatures al grau d'informàtica i a estudis de postgrau com [MADM](http://madm.uib.es/) i [MUSI](https://estudis.uib.cat/estudis-de-master/master/MUSI/).\n",
    "- Hem impartit 4 cursos d'estiu de Python per a personal científic i 2 cursos de Python avançats per personal intern de la UIB i SOCIB.\n",
    "- Python és el llenguatge transversal usat a la nostra recerca: problemes d'optimització de recursos i IA amb imatges, respectivament."
   ]
  },
  {
   "attachments": {},
   "cell_type": "markdown",
   "metadata": {},
   "source": [
    "## Objectius\n",
    "\n",
    "El curs té com a objectiu l'adquisició de coneixements i habilitats per utilitzar un llenguatge de programació tan potent i senzill com és Python. <br/> L'objectiu és que esdevingui una eina més del vostre repertori i complementi les vostres necessitats en:\n",
    "\n",
    "- Càrrega i manipulació de dades.\n",
    "- Anàlisi de dades.\n",
    "- Visualització de dades.\n",
    "\n",
    "A més, en cadascun d'aquests passos intermedis, tindreu la possibilitat d'integrar els resultats en les vostres eines més habituals: editors de text, fulls de càlcul, editors PDF, etc"
   ]
  },
  {
   "cell_type": "markdown",
   "metadata": {},
   "source": [
    "### I des del nostre punt de vista: què pot aportar un llenguatge de programació amb respecte una eina específica?\n",
    "\n",
    "Llenguatge de programació (com Python):\n",
    "\n",
    "- **Flexibilitat i personalització**: Un llenguatge de programació com Python permet una gran flexibilitat per dissenyar i personalitzar solucions. Pots escriure el teu propi codi per adaptar les eines d'anàlisi de dades a les necessitats específiques del teu projecte.\n",
    "- **Àmplia gamma de biblioteques**: Python compta amb un vast ecosistema de biblioteques i paquets (com pandas, NumPy, SciPy, matplotlib, seaborn, scikit-learn, entre d'altres) que cobreixen gairebé tots els aspectes de la manipulació, anàlisi i visualització de dades, així com l'aprenentatge automàtic.\n",
    "- **Automatització i repetibilitat**: Amb Python, és possible automatitzar processos i tasques repetitives, la qual cosa és ideal per a treballs que es repeteixen sovint o que han de ser escalables. El codi escrit es pot reutilitzar fàcilment, modificant-lo segons sigui necessari.\n",
    "- **Integració amb altres sistemes**: Python es pot integrar amb altres llenguatges i plataformes, permetent una major interoperabilitat amb altres sistemes d'informació i tecnologies.\n",
    "- **Desenvolupament i experimentació**: Python facilita el desenvolupament de models complexos d'aprenentatge automàtic i d'anàlisi de dades, a més d'oferir la possibilitat de prototipar i experimentar amb nous algorismes de forma ràpida.\n",
    "- **Comunitat i suport**: Python té una gran comunitat activa que proporciona suport, documentació i recursos, la qual cosa facilita l'aprenentatge i la resolució de problemes.\n",
    "\n",
    "\n",
    "Eina específica (com Power BI, Excel, etc.):\n",
    "\n",
    "- **Facilitat d'ús**: Aquest tipus d'eines son intuïtives i visualment orientades, la qual cosa facilita la creació de taules, gràfics i informes sense necessitat de programació.\n",
    "- **Integració amb altres productes (de Microsoft, Google, etc.)**"
   ]
  },
  {
   "attachments": {},
   "cell_type": "markdown",
   "metadata": {},
   "source": [
    "## El llenguatge Python\n",
    "\n",
    "[Python](https://www.python.org/) és un llenguatge interpretat amb una sintaxi tan senzilla que, conjuntament amb les funcionalitats de les nombroses llibreries disponibles, permet crear processos complexos amb només unes poques línies de codi!\n",
    "\n",
    "- Python és el llenguatge més demandat en nivell professional (Font [Tiobe index](https://www.tiobe.com/tiobe-index/) 2023).\n",
    "- És el llenguatge dominant en l'anàlisi de dades.\n",
    "- Disposa de nombroses llibreries per a la Intel·ligència Artificial.\n",
    "- Moltes eines ofereixen compatibilitat per a la integració de codi Python dins del seu propi entorn.\n",
    "- Es pot utilitzar com a servei web, per exemple, amb [Google Colab](https://colab.research.google.com/).\n"
   ]
  },
  {
   "attachments": {},
   "cell_type": "markdown",
   "metadata": {},
   "source": [
    "#### Com funciona Python?\n",
    "\n",
    "- És un llenguatge interpretat. Què significa això? Es pot executar directament des del terminal (*Faig una prova*).\n",
    "- Permet entorns interactius com Jupyter Notebooks i la seva integració en altres eines.\n",
    "- També hi ha editors de codi professionals disponibles.\n",
    "- Està integrat en moltes eines de programari lliure... i fins i tot a [Excel](https://www.microsoft.com/en-us/microsoft-365/python-in-excel).\n"
   ]
  },
  {
   "attachments": {},
   "cell_type": "markdown",
   "metadata": {},
   "source": [
    "#### Per què és tan pràctic Python?\n",
    "- Una sintaxi senzilla.\n",
    "- No hi ha tipologia de variables.\n",
    "- Mètodes i comportaments molt semblant entre diferents tipus de variables.\n",
    "\n",
    "\n",
    "Exemple:"
   ]
  },
  {
   "cell_type": "code",
   "execution_count": null,
   "metadata": {},
   "outputs": [
    {
     "data": {
      "image/png": "[encoded data removed]",
      "text/plain": [
       "<Figure size 640x480 with 1 Axes>"
      ]
     },
     "metadata": {},
     "output_type": "display_data"
    }
   ],
   "source": [
    "# Un primer exemple\n",
    "\n",
    "## Importació de llibreries\n",
    "import pandas as pd\n",
    "import seaborn as sns\n",
    "import matplotlib.pyplot as plt\n",
    "\n",
    "# Dades\n",
    "paisos = pd.read_csv(\"data/WHO.csv\")\n",
    "# Selecció: ordenació i agafem 10 mostres\n",
    "filtre = paisos.sort_values(by=\"Adult literacy rate (%)\")[:10]\n",
    "\n",
    "# Visualització: selecció de les sèries i tipus de plot\n",
    "ax = sns.barplot(data=filtre, x=\"Country\", y=\"Adult literacy rate (%)\")\n",
    "ax.bar_label(ax.containers[0], fontsize=10) #  un petit detail\n",
    "plt.show()"
   ]
  },
  {
   "attachments": {},
   "cell_type": "markdown",
   "metadata": {},
   "source": [
    "#### Ecosistema de llibreries\n",
    "\n",
    "- Existeixen llibreries per a pràcticament qualsevol disciplina: biologia, química, física, xarxes, IA, aprenentatge automàtic, integració amb base de dades, integració amb gestió d'arquitectures Web, etc.\n",
    "  \n",
    "- <img src=\"images/Top-10-Python-Libraries-Used-1.png\" style=\"width:40%\"/>\n",
    "- [Pandas](https://pandas.pydata.org/)\n",
    "- [Seaborn](https://seaborn.pydata.org/)"
   ]
  },
  {
   "cell_type": "markdown",
   "metadata": {},
   "source": [
    "## Material del curs\n",
    "\n",
    "Tot el material d'aquest curs estarà disponible en línia en format web i pdf. També tot aquest codi està accessible dins de l'entorn de Google Colab i Github.\n",
    "\n",
    "Fem una prova! Pitja aquest botó [![Open in Colab](https://colab.research.google.com/assets/colab-badge.png)](https://colab.research.google.com/github/wisaaco/Curs_FG24GOI0074221/blob/main/lessons/0_sobre_aquest_curs.ipynb) (Si no funciona el botó podeu copiar el següent [enllaç](https://colab.research.google.com/github/wisaaco/Curs_FG24GOI0074221/blob/main/lessons/0_sobre_aquest_curs.ipynb)  (Botó dret i copiar l'enllaç)\n",
    ")\n",
    "\n",
    "\n",
    "## Temari\n",
    "\n",
    "Contingut de la unitat 1: Introducció al llenguatge de programació Python.\n",
    "\n",
    "- Conceptes bàsics d’un llenguatge de programació.\n",
    "- La importància de Python al món científic i tecnològic.\n",
    "- Diferències amb eines d’anàlisi de dades: fulls de càlcul, R, o solucions com a PowerBI.\n",
    "\n",
    "Contingut de la unitat 2: Infraestructura bàsica d’execució \n",
    "\n",
    "- Concepte de quadern: notebooks.\n",
    "- Format de text amb Markdown.\n",
    "- Execució de codi.\n",
    "- Maquetació d’informes.\n",
    "- Activitat.\n",
    "\n",
    "Contingut de la unitat 3: Variables i estructures bàsiques de Python\n",
    "\n",
    "- Variables bàsiques.\n",
    "- Variables complexes.\n",
    "- Funcions i mètodes.\n",
    "- Us de llibreries.\n",
    "- Activitat.\n",
    "\n",
    "Contingut de la unitat 4: Llibreria Pandas. Càrrega i emmagatzemament de dades  \n",
    "\n",
    "- Càrrega selectiva de dades en formats: csv, xlsx i altres formats.\n",
    "- Composició dels principals elements de Pandas: índexs i columnes en sèries i dataframes.\n",
    "- Selecció i filtratge d’informació.\n",
    "- Activitat.\n",
    "\n",
    "Contingut de la unitat 5: Manipulació i visualització\n",
    "\n",
    "- Manipulació de dataframes i operacions aritmètiques.\n",
    "- Agrupació i concatenació.\n",
    "- Activitat.\n",
    "- Tractament d’informació desconeguda.\n",
    "- Preparació de dades per a la visualització.\n",
    "- Llibrería Seaborn.\n",
    "- Activitat.\n"
   ]
  },
  {
   "attachments": {},
   "cell_type": "markdown",
   "metadata": {},
   "source": [
    "### Recursos complementaris\n",
    "\n",
    "- https://wesmckinney.com/book/\n",
    "- Intel·ligències generatives com ChatGPT (Alerta! al·lucinacions, compromís i dedicació)"
   ]
  },
  {
   "cell_type": "markdown",
   "metadata": {},
   "source": [
    "[![License: CC BY 4.0](https://img.shields.io/badge/License-CC_BY_4.0-lightgrey.svg)](https://creativecommons.org/licenses/by/4.0/) <br/>\n",
    "Isaac Lera and Gabriel Moyà <br/>\n",
    "Universitat de les Illes Balears <br/>\n",
    "isaac.lera@uib.edu, gabriel.moya@uib.edu"
   ]
  }
 ],
 "metadata": {
  "kernelspec": {
   "display_name": "my397",
   "language": "python",
   "name": "python3"
  },
  "language_info": {
   "codemirror_mode": {
    "name": "ipython",
    "version": 3
   },
   "file_extension": ".py",
   "mimetype": "text/x-python",
   "name": "python",
   "nbconvert_exporter": "python",
   "pygments_lexer": "ipython3",
   "version": "3.11.0rc2"
  },
  "orig_nbformat": 4
 },
 "nbformat": 4,
 "nbformat_minor": 2
}
