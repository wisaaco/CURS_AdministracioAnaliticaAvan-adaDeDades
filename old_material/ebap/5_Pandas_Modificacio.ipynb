{
 "cells": [
  {
   "cell_type": "markdown",
   "metadata": {
    "collapsed": false
   },
   "source": [
    "<div align=\"center\">\n",
    "\n",
    "[![Open In Colab](https://colab.research.google.com/assets/colab-badge.png)](https://colab.research.google.com/github/wisaaco/Curs_FG24GOI0074221/blob/main/lessons/5_Pandas_Modificacio.ipynb)\n",
    "\n",
    "\n",
    "Si no funciona el botó podeu copiar el següent [enllaç](https://colab.research.google.com/github/wisaaco/Curs_FG24GOI0074221/blob/main/lessons/5_Pandas_Modificacio.ipynb)\n",
    "</div>"
   ]
  },
  {
   "cell_type": "markdown",
   "metadata": {
    "collapsed": false
   },
   "source": [
    "# Unitat 5: Manipulació i visualització\n",
    "\n",
    "Continguts:\n",
    "\n",
    "**5A**\n",
    "- Manipulació de dataframes i operacions aritmètiques.\n",
    "- Agrupació i concatenació.\n",
    "- Activitat.\n",
    "  \n",
    "**5B**\n",
    "\n",
    "- Tractament d’informació desconeguda.\n",
    "\n",
    "**5C**\n",
    "\n",
    "- Preparació de dades per a la visualització.\n",
    "- Llibrería Seaborn.\n",
    "- Activitat.\n"
   ]
  },
  {
   "cell_type": "code",
   "execution_count": null,
   "metadata": {
    "collapsed": false
   },
   "outputs": [],
   "source": [
    "import pandas as pd"
   ]
  },
  {
   "cell_type": "code",
   "execution_count": null,
   "metadata": {
    "collapsed": false
   },
   "outputs": [],
   "source": [
    "df2 = pd.DataFrame([('Foreign Cinema', 'Restaurant', 289.0),\n",
    "                   ('Liho Liho', 'Restaurant', 224.0),\n",
    "                   ('500 Club', 'bar', 80.5),\n",
    "                   ('The Square', 'bar', 25.30)],\n",
    "           columns=('name', 'type', 'AvgBill')\n",
    "                 )\n",
    "df2"
   ]
  },
  {
   "cell_type": "markdown",
   "metadata": {
    "collapsed": false
   },
   "source": [
    "## Afegir columnes\n",
    "\n",
    "Tenim diverses maneres d'afegir columnes a un _dataFrame_:\n",
    "\n",
    "- Mitjançant el nom de la columna que volem afegir, tal com afegim una clau nova a un diccionari.\n",
    "- `insert`: és un mètode que necessita 3 paràmetres. La posició on volem afegir la columna (`loc`), el seu nom (`column`) i la llista de valors (`value`).\n",
    "- `assign`: molt semblant a l'anterior, però permet afegir múltiples columnes.\n",
    "\n",
    "Vegem-ne alguns exemples:"
   ]
  },
  {
   "cell_type": "code",
   "execution_count": null,
   "metadata": {
    "collapsed": false
   },
   "outputs": [],
   "source": [
    "df2['Day'] = \"Monday\" # Com un diccionari. un ùnic valor a la nova sèrie\n",
    "df2"
   ]
  },
  {
   "cell_type": "code",
   "execution_count": null,
   "metadata": {
    "collapsed": false
   },
   "outputs": [],
   "source": [
    "df2['Day'] = ['Monday', 'Tuesday', 'Wednesday', 'Thursday']\n",
    "df2"
   ]
  },
  {
   "cell_type": "code",
   "execution_count": null,
   "metadata": {
    "collapsed": false
   },
   "outputs": [],
   "source": [
    "#Emprarem el mètode insert. Indicant on volem inserir aquesta columna amb el paràmetre loc\n",
    "\n",
    "df2.insert(loc=1, column=\"Stars\", value=[2,2,3,4])\n",
    "df2"
   ]
  },
  {
   "cell_type": "markdown",
   "metadata": {
    "collapsed": false
   },
   "source": [
    "El mètode `assing` permet afegir múltiples columnes en una sola operació. És interessant veure que la columna anomenada _AvgHalfBill_ és el resultat de dividir una columna entre 2."
   ]
  },
  {
   "cell_type": "code",
   "execution_count": null,
   "metadata": {
    "collapsed": false
   },
   "outputs": [],
   "source": [
    "df3 = df2.assign(AvgHalfBill=df2.AvgBill / 2, Michelin_Star=3)\n",
    "df3"
   ]
  },
  {
   "cell_type": "markdown",
   "metadata": {
    "collapsed": false
   },
   "source": [
    "## Afegir files\n",
    "\n",
    "Per afegir files (una nova mostra) a un _dataframe_ tenim el mètode `concat` que concatena dos o més _dataFrames_ separats per comes."
   ]
  },
  {
   "cell_type": "code",
   "execution_count": null,
   "metadata": {
    "collapsed": false
   },
   "outputs": [],
   "source": [
    "df_files = df2.copy() # Fem una còpia de tota la informació\n",
    "\n",
    "#Cream un diccionari\n",
    "fila = {\"name\":\"Isaacs\", \"type\":\"bar\" ,\"AvgBill\":[148.2], \"day\":\"Friday\"}\n",
    "\n",
    "nou_df = pd.concat([df_files, pd.DataFrame(fila)])"
   ]
  },
  {
   "cell_type": "code",
   "execution_count": null,
   "metadata": {
    "collapsed": false
   },
   "outputs": [],
   "source": [
    "nou_df"
   ]
  },
  {
   "cell_type": "markdown",
   "metadata": {
    "collapsed": false
   },
   "source": [
    "## Eliminar columnes i files\n",
    "\n",
    "Molts cops tendrem la necessitat d'eliminar informació que no ens és interessant.\n",
    "\n",
    "### Columnes\n",
    "\n",
    "Tenim el mètode `drop` que ens proporciona un nou _dataFrame_ sense la(es) fila(es) o la(les) columna(es) que seleccionem.\n",
    "Si volem eliminar columnes podem fer-ho especificant la llista de columnes al paràmetre `columns` de la següent manera:"
   ]
  },
  {
   "cell_type": "code",
   "execution_count": null,
   "metadata": {
    "collapsed": false
   },
   "outputs": [],
   "source": [
    "df_no_michelin = df3.drop(columns=[\"Michelin_Star\"]) # Eliminamos la última columna que hemos creado\n",
    "df_no_michelin"
   ]
  },
  {
   "cell_type": "markdown",
   "metadata": {
    "collapsed": false
   },
   "source": [
    "Anem a veure com ha quedat el dataframe del qual hem eliminat una columna:"
   ]
  },
  {
   "cell_type": "code",
   "execution_count": null,
   "metadata": {
    "collapsed": false
   },
   "outputs": [],
   "source": [
    "df3"
   ]
  },
  {
   "cell_type": "markdown",
   "metadata": {
    "collapsed": false
   },
   "source": [
    "### Files\n",
    "Per poder eliminar files, fem servir la mateixa funció `drop`, aquesta vegada sense el paràmetre que hem fet servir anteriorment, simplement indiquem els índexs a eliminar:"
   ]
  },
  {
   "cell_type": "code",
   "execution_count": null,
   "metadata": {
    "collapsed": false
   },
   "outputs": [],
   "source": [
    "df_less_rows = df_no_michelin.drop([1,3])\n",
    "df_less_rows"
   ]
  },
  {
   "cell_type": "markdown",
   "metadata": {},
   "source": [
    "#### Eliminació de files segons un criteri"
   ]
  },
  {
   "cell_type": "code",
   "execution_count": null,
   "metadata": {},
   "outputs": [],
   "source": [
    "dfs1 = df3[df3.Stars>=3] # per una selecció?\n",
    "dfs1"
   ]
  },
  {
   "cell_type": "code",
   "execution_count": null,
   "metadata": {},
   "outputs": [],
   "source": [
    "df3.drop(df3.Stars>=3) #! requereix l'index"
   ]
  },
  {
   "cell_type": "code",
   "execution_count": null,
   "metadata": {},
   "outputs": [],
   "source": [
    "df3[df3.Stars>=3].index"
   ]
  },
  {
   "cell_type": "code",
   "execution_count": null,
   "metadata": {},
   "outputs": [],
   "source": [
    "df3.drop(df3[df3.Stars>=3].index)"
   ]
  },
  {
   "cell_type": "code",
   "execution_count": null,
   "metadata": {},
   "outputs": [],
   "source": [
    "df3 #! Alerta amb els canvis"
   ]
  },
  {
   "cell_type": "code",
   "execution_count": null,
   "metadata": {},
   "outputs": [],
   "source": [
    "df3.drop(df3[df3.Stars>=3].index, inplace=True)\n",
    "df3"
   ]
  },
  {
   "cell_type": "markdown",
   "metadata": {},
   "source": [
    "## Concatenació i unió de dataframes\n",
    "\n",
    "A vegades les dades venem en diferents fitxers i necessiten un únic fitxer, aquest procés implica una concatenació de dataframes. I en altres ocasions, les dades són complementàries és a dir, hi ha noves columnes d'un dataframe i això es coneix com fer operacions d'unió (joins)."
   ]
  },
  {
   "cell_type": "markdown",
   "metadata": {},
   "source": [
    "**Concatenació**"
   ]
  },
  {
   "cell_type": "code",
   "execution_count": null,
   "metadata": {},
   "outputs": [],
   "source": [
    "df1 = pd.DataFrame([('Foreign Cinema', 'Restaurant', 289.0),\n",
    "                   ('Liho Liho', 'Restaurant', 224.0),\n",
    "                   ('500 Club', 'bar', 80.5),\n",
    "                   ('The Square', 'bar', 25.30)],\n",
    "           columns=('name', 'type', 'AvgBill')\n",
    "                 )\n",
    "df1"
   ]
  },
  {
   "cell_type": "code",
   "execution_count": null,
   "metadata": {},
   "outputs": [],
   "source": [
    "df2 = pd.DataFrame([('Biels', 'Quiosquet', 389.0),\n",
    "                   ('Barkus', 'Bar', 24.0),\n",
    "                   ('Blue Wall', 'bar', 80.5),\n",
    "                   ('Bounty Hunters', 'Social Club', 125.30)],\n",
    "           columns=('name', 'type', 'AvgBill')\n",
    "                 )\n",
    "df2"
   ]
  },
  {
   "cell_type": "code",
   "execution_count": null,
   "metadata": {},
   "outputs": [],
   "source": [
    "dfAll = pd.concat([df1,df2])\n",
    "dfAll"
   ]
  },
  {
   "cell_type": "code",
   "execution_count": null,
   "metadata": {},
   "outputs": [],
   "source": [
    "dfAll = dfAll.reset_index()\n",
    "dfAll"
   ]
  },
  {
   "cell_type": "code",
   "execution_count": null,
   "metadata": {},
   "outputs": [],
   "source": [
    "dfAll.drop(columns=[\"index\"])"
   ]
  },
  {
   "cell_type": "code",
   "execution_count": null,
   "metadata": {},
   "outputs": [],
   "source": [
    "# https://pandas.pydata.org/docs/reference/api/pandas.concat.html\n",
    "dfAll = pd.concat([df1,df2],ignore_index=True)\n",
    "dfAll"
   ]
  },
  {
   "cell_type": "markdown",
   "metadata": {},
   "source": [
    "**Unió**\n",
    "\n",
    "Més informació: https://pandas.pydata.org/docs/user_guide/merging.html"
   ]
  },
  {
   "cell_type": "code",
   "execution_count": null,
   "metadata": {},
   "outputs": [],
   "source": [
    "df1 = pd.DataFrame([('Jhon', 1, \"Italy\"),\n",
    "                   ('Pep', 2, \"Germany\"),\n",
    "                   ('William', 3, \"Finland\"),\n",
    "                   ('Snake', 4, \"Italy\")],\n",
    "           columns=('name', 'ID', 'Country')\n",
    "                 )\n",
    "df1"
   ]
  },
  {
   "cell_type": "code",
   "execution_count": null,
   "metadata": {},
   "outputs": [],
   "source": [
    "df2 = pd.DataFrame([(1, 145.0, 3000.1),\n",
    "                   ( 2, 189.2, 2030.2),\n",
    "                   ( 3, 129.0, 3000.0),\n",
    "                   ( 4, 198.1, 4020.2)],\n",
    "           columns=('DNI', 'Weight', 'Salary')\n",
    "                 )\n",
    "df2"
   ]
  },
  {
   "cell_type": "code",
   "execution_count": null,
   "metadata": {},
   "outputs": [],
   "source": [
    "# https://pandas.pydata.org/docs/reference/api/pandas.DataFrame.merge.html\n",
    "\n",
    "df1.merge(df2)"
   ]
  },
  {
   "cell_type": "code",
   "execution_count": null,
   "metadata": {},
   "outputs": [],
   "source": [
    "df1.merge(df2, left_on='ID', right_on='DNI')"
   ]
  },
  {
   "cell_type": "code",
   "execution_count": null,
   "metadata": {},
   "outputs": [],
   "source": [
    "df2 = pd.DataFrame([(1, 145.0, 3000.1), #No 2\n",
    "                   ( 3, 129.0, 3000.0), # Multiples 3\n",
    "                   ( 3, 159.0, 4000.0),\n",
    "                   ( 3, 109.0, 5000.0),\n",
    "                   ( 4, 198.1, 4020.2),\n",
    "                   ( 5, 200.0, 5000.2)], #a new one \n",
    "           columns=('DNI', 'Weight', 'Salary')\n",
    "                 )\n",
    "df2"
   ]
  },
  {
   "cell_type": "code",
   "execution_count": null,
   "metadata": {},
   "outputs": [],
   "source": [
    "df1.merge(df2, left_on='ID', right_on='DNI')"
   ]
  },
  {
   "cell_type": "code",
   "execution_count": null,
   "metadata": {},
   "outputs": [],
   "source": [
    "df1.merge(df2, left_on='ID', right_on='DNI',how=\"left\")"
   ]
  },
  {
   "cell_type": "code",
   "execution_count": null,
   "metadata": {},
   "outputs": [],
   "source": [
    "df1.merge(df2, left_on='ID', right_on='DNI',how=\"right\")"
   ]
  },
  {
   "cell_type": "code",
   "execution_count": null,
   "metadata": {},
   "outputs": [],
   "source": [
    "df1.merge(df2, left_on='ID', right_on='DNI',how=\"inner\")"
   ]
  },
  {
   "cell_type": "code",
   "execution_count": null,
   "metadata": {},
   "outputs": [],
   "source": [
    "df1.merge(df2,how=\"cross\")"
   ]
  },
  {
   "cell_type": "markdown",
   "metadata": {
    "collapsed": false
   },
   "source": [
    "## <span style=\"color:red\">Activitat</span>\n",
    "Donat el següent dataframe:"
   ]
  },
  {
   "cell_type": "code",
   "execution_count": 42,
   "metadata": {},
   "outputs": [],
   "source": [
    "import pandas as pd\n",
    "\n",
    "# cream un diccionari amb les dades\n",
    "data = {'País': ['Estados Unidos', 'China', 'Japón', 'Alemania', 'Reino Unido', 'India', 'Francia', 'Italia', 'Brasil', 'Canadá'],\n",
    "        'PIB (billones de dólares)': [21.44, 15.54, 5.15, 4.17, 2.62, 2.61, 2.58, 1.93, 1.67, 1.65],\n",
    "        'Inflación (%)': [1.8, 2.9, 0.2, 1.6, 2.2, 5.0, 1.2, 0.9, 3.7, 1.8],\n",
    "        'Tasa de desempleo (%)': [3.7, 3.6, 2.9, 3.2, 3.8, 6.6, 8.1, 10.0, 13.9, 5.6],\n",
    "        'Índice de competitividad': [85.6, 83.1, 82.5, 80.9, 78.9, 64.4, 78.0, 70.3, 59.5, 77.2]}\n",
    "\n",
    "# cream el dataframe\n",
    "df_economia = pd.DataFrame(data)"
   ]
  },
  {
   "cell_type": "code",
   "execution_count": 43,
   "metadata": {},
   "outputs": [],
   "source": [
    "# 1. Afegeix una columna al dataframe que sigui la població de cada país segons la següent llista: `poblacion = [328.2, 1393, 126.5, 83.2, 66.9, 1380, 66.99, 60.3, 212.6, 38.1]`\n"
   ]
  },
  {
   "cell_type": "code",
   "execution_count": null,
   "metadata": {},
   "outputs": [],
   "source": [
    "# 2. Afegeix una columna addicional que calculi el PIB per càpita per a cada país en dòlars dividint el PIB de cada país per la població.\n"
   ]
  },
  {
   "cell_type": "code",
   "execution_count": 44,
   "metadata": {},
   "outputs": [],
   "source": [
    "# 3. Seleccionar els països amb una tasa d'atur major a 8.0\n"
   ]
  },
  {
   "cell_type": "code",
   "execution_count": 45,
   "metadata": {},
   "outputs": [],
   "source": [
    "#4 . Crea un nou dataframe eliminant els països anteriorment seleccionats."
   ]
  },
  {
   "cell_type": "markdown",
   "metadata": {},
   "source": [
    "## <span style=\"color:red\">Activitat</span>"
   ]
  },
  {
   "cell_type": "markdown",
   "metadata": {},
   "source": [
    "Donat els dos següents dataframes, es demana: calcular la quantitat d'ajuda rebuda per cada municipi en funció del nombre total d'habitants. "
   ]
  },
  {
   "cell_type": "code",
   "execution_count": 46,
   "metadata": {},
   "outputs": [
    {
     "name": "stdout",
     "output_type": "stream",
     "text": [
      "Dataframe de Municipios:\n",
      "        Nombre  Código Postal  Población\n",
      "0   Municipio1          60494      39232\n",
      "1   Municipio2          65125      15315\n",
      "2   Municipio3          15306      34075\n",
      "3   Municipio4          43936      10127\n",
      "4   Municipio5          77013      19470\n",
      "5   Municipio6          73691      10158\n",
      "6   Municipio7          63075       7214\n",
      "7   Municipio8          49755      41525\n",
      "8   Municipio9          72468      17417\n",
      "9  Municipio10          56930      35902\n",
      "\n",
      "Dataframe de Ayudas:\n",
      "         Nombre  Ayuda Económica (en euros)  Número de Beneficiarios\n",
      "0   Municipio10                        9989                       72\n",
      "1    Municipio3                        1230                       23\n",
      "2    Municipio5                        2528                       48\n",
      "3    Municipio2                        7534                       80\n",
      "4    Municipio2                        1018                       47\n",
      "5    Municipio6                        9086                      100\n",
      "6    Municipio8                        6458                       25\n",
      "7    Municipio9                        4996                       80\n",
      "8    Municipio2                        6328                       52\n",
      "9    Municipio6                        2031                       79\n",
      "10   Municipio7                        4130                       36\n",
      "11   Municipio6                        4632                       87\n",
      "12  Municipio10                        4909                       80\n",
      "13   Municipio4                        3334                       85\n",
      "14   Municipio9                        9896                       46\n",
      "15   Municipio8                        8339                       66\n",
      "16   Municipio8                        2494                       21\n",
      "17   Municipio9                        2318                       86\n",
      "18   Municipio5                        6243                       59\n",
      "19   Municipio1                        9322                       50\n"
     ]
    }
   ],
   "source": [
    "import pandas as pd\n",
    "import random\n",
    "\n",
    "random.seed(0)\n",
    "\n",
    "nombres = [f'Municipio{i}' for i in range(1, 11)] \n",
    "\n",
    "data_municipios = {\n",
    "    'Nombre': nombres,\n",
    "    'Código Postal': [random.randint(10000, 99999) for _ in range(10)],\n",
    "    'Población': [random.randint(1000, 50000) for _ in range(10)]  # Añadimos un atributo aleatorio, en este caso \"Población\"\n",
    "}\n",
    "\n",
    "df_municipios = pd.DataFrame(data_municipios)\n",
    "\n",
    "\n",
    "data_ayudas = {\n",
    "    'Nombre': [random.choice(nombres) for _ in range(20)],\n",
    "    'Ayuda Económica (en euros)': [random.randint(1000, 10000) for _ in range(20)],\n",
    "    'Número de Beneficiarios': [random.randint(10, 100) for _ in range(20)]\n",
    "}\n",
    "\n",
    "df_ayudas = pd.DataFrame(data_ayudas)\n",
    "\n",
    "print(\"Dataframe de Municipios:\")\n",
    "print(df_municipios)\n",
    "\n",
    "print(\"\\nDataframe de Ayudas:\")\n",
    "print(df_ayudas)\n"
   ]
  },
  {
   "cell_type": "code",
   "execution_count": 47,
   "metadata": {},
   "outputs": [],
   "source": [
    "# calcular la quantitat d'ajuda rebuda per cada municipi en funció del nombre total d'habitants. "
   ]
  },
  {
   "cell_type": "markdown",
   "metadata": {},
   "source": [
    "# Unitat 5.b: Tractament de informacio desconeguda: Valors NaN, None, NaT"
   ]
  },
  {
   "cell_type": "markdown",
   "metadata": {},
   "source": [
    "\n",
    "\n",
    "Els valors desconeguts `NaN`, `None` i `NaT` són elements que es poden trobar en els dataframes i que indiquen que les dades no existeixen o no estan disponibles. Cadascun d'aquests valors s'utilitza en un context específic:\n",
    "\n",
    "- `NaN` (Not a Number): NaN és una representació especial per als valors numèrics que no són vàlids o no estan disponibles. Es fa servir principalment en sèries o dataframes amb dades numèriques. Quan realitzem operacions matemàtiques o estadístiques en dades que contenen `NaN`, el resultat sovint serà `NaN`. Per a identificar `NaN` en Pandas, pots utilitzar la funció `pd.isna()` o `pd.isnan()`.\n",
    "\n",
    "- `None`: `None` és una constant especial en Python que s'utilitza per representar la manca d'un valor o la no disponibilitat d'una variable. Per verificar si un valor és `None`, pots utilitzar l'operador d'igualtat (`==`) o la funció pd.isna().\n",
    "\n",
    "- `NaT` (Not a Timestamp): `NaT` és una representació especial per als valors de data i hora (datetime) que no estan disponibles o no estan definits. Aquest valor s'utilitza principalment en columnes que contenen dates i hores. Pots identificar `NaT` utilitzant la funció `pd.isna()` o `pd.isnull()` en columnes de dates.\n",
    "\n",
    "Emprant el fitxer WHO.csv:\n"
   ]
  },
  {
   "cell_type": "code",
   "execution_count": 9,
   "metadata": {},
   "outputs": [
    {
     "data": {
      "text/plain": [
       "Country                            0\n",
       "CountryID                          0\n",
       "Continent                          0\n",
       "Adolescent fertility rate (%)     25\n",
       "Adult literacy rate (%)           71\n",
       "                                  ..\n",
       "Under_five_mortality_from_IHME    32\n",
       "Under_five_mortality_rate         21\n",
       "Urban_population                  14\n",
       "Urban_population_growth           14\n",
       "Urban_population_pct_of_total     14\n",
       "Length: 358, dtype: int64"
      ]
     },
     "execution_count": 9,
     "metadata": {},
     "output_type": "execute_result"
    }
   ],
   "source": [
    "import pandas as pd\n",
    "df = pd.read_csv(\"data/WHO.csv\")\n",
    "\n",
    "# Contabiliza cuántos paises tienen algún valor NaN en cualquiera de sus columnas.\n",
    "df.isna().sum()"
   ]
  },
  {
   "cell_type": "code",
   "execution_count": 26,
   "metadata": {},
   "outputs": [
    {
     "name": "stdout",
     "output_type": "stream",
     "text": [
      "176\n"
     ]
    },
    {
     "data": {
      "text/plain": [
       "'Taiwan'"
      ]
     },
     "execution_count": 26,
     "metadata": {},
     "output_type": "execute_result"
    }
   ],
   "source": [
    "# ¿Cuál es el país con mayor número de muestras desconocidas?\n",
    "index_row = df.isna().sum(axis=1).argmax()\n",
    "print(index_row)\n",
    "df.loc[index_row].Country"
   ]
  },
  {
   "cell_type": "markdown",
   "metadata": {},
   "source": [
    "Les operacions de _Pandas_ es troben preparades per treballar amb aquests valors faltants, per observar-ho consultarem la documentació de l'operació de [suma](https://pandas.pydata.org/docs/reference/api/pandas.DataFrame.sum.html#pandas.DataFrame.sum).\n",
    "\n",
    "Per altra banda, la mateixa llibreria ens permet inferir i substituir aquests valors amb altres:\n",
    "\n",
    "De manera general podem dir que tenim 2 opcions:\n",
    "\n",
    "- [fillna](https://pandas.pydata.org/docs/reference/api/pandas.DataFrame.fillna.html): Basicament substitueix els valors `Nan` per una constant o pel valor de la fila/columna anterior.\n",
    "- [interpolate](https://pandas.pydata.org/docs/reference/api/pandas.DataFrame.interpolate.html) Omple els valors `NaN` mitjançant un mètode d'interpolació. Té sentit en sèries temporals amb observacions properes.\n",
    "\n",
    "Una altra tècnica que també es pot usar (encara que pot ser perillos segons l'estudi) és la d'eliminar aquelles files i columnes que contenen aquest tipus de valors: [dropna](https://pandas.pydata.org/pandas-docs/stable/reference/api/pandas.DataFrame.dropna.html).\n",
    "\n",
    "Per tenir més informació d'aquest tema podeu llegir la [documentació](https://pandas.pydata.org/pandas-docs/stable/user_guide/missing_data.html#missing-data)\n",
    "\n",
    "\n"
   ]
  },
  {
   "cell_type": "markdown",
   "metadata": {},
   "source": [
    "## <span style=\"color:red\">Activitat</span>"
   ]
  },
  {
   "cell_type": "code",
   "execution_count": 40,
   "metadata": {},
   "outputs": [],
   "source": [
    "# Dins les dades de WHO.csv, quants valors `Nan` la columna `Adult literacy rate (%)`?\n",
    "df = pd.read_csv(\"data/WHO.csv\")\n",
    "serie = df[\"Adult literacy rate (%)\"]\n",
    "\n"
   ]
  },
  {
   "cell_type": "code",
   "execution_count": 41,
   "metadata": {},
   "outputs": [
    {
     "data": {
      "text/plain": [
       "78.87175572519085"
      ]
     },
     "execution_count": 41,
     "metadata": {},
     "output_type": "execute_result"
    }
   ],
   "source": [
    "# Calcula la mitjana d'aquesta sèrie?\n",
    "serie.mean()"
   ]
  },
  {
   "cell_type": "code",
   "execution_count": 39,
   "metadata": {},
   "outputs": [
    {
     "data": {
      "text/plain": [
       "51.14950495049505"
      ]
     },
     "execution_count": 39,
     "metadata": {},
     "output_type": "execute_result"
    }
   ],
   "source": [
    "# Substitueix els valors `Nan` per zeros. Quina és la nova mitjana?\n"
   ]
  },
  {
   "cell_type": "code",
   "execution_count": null,
   "metadata": {},
   "outputs": [],
   "source": [
    "# Substitueix els valors `Nan` pel valor anterior. Quina és la nova mitjana?\n"
   ]
  },
  {
   "cell_type": "markdown",
   "metadata": {
    "collapsed": false
   },
   "source": [
    "[![License: CC BY 4.0](https://img.shields.io/badge/License-CC_BY_4.0-lightgrey.svg)](https://creativecommons.org/licenses/by/4.0/) <br/>\n",
    "Isaac Lera and Gabriel Moya <br/>\n",
    "Universitat de les Illes Balears <br/>\n",
    "isaac.lera@uib.edu, gabriel.moya@uib.edu"
   ]
  }
 ],
 "metadata": {
  "kernelspec": {
   "display_name": "my397",
   "language": "python",
   "name": "python3"
  },
  "language_info": {
   "codemirror_mode": {
    "name": "ipython",
    "version": 3
   },
   "file_extension": ".py",
   "mimetype": "text/x-python",
   "name": "python",
   "nbconvert_exporter": "python",
   "pygments_lexer": "ipython3",
   "version": "3.11.0rc2"
  },
  "vscode": {
   "interpreter": {
    "hash": "8b38137d60f5ef6101ebd11fd805c6415d52a5c999d13278488bced8392256b3"
   }
  }
 },
 "nbformat": 4,
 "nbformat_minor": 0
}
