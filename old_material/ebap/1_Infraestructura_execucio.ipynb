{
 "cells": [
  {
   "attachments": {},
   "cell_type": "markdown",
   "metadata": {},
   "source": [
    "# Unitat 2: Infraestructura bàsica d’execució\n",
    "\n",
    "Continguts:\n",
    "\n",
    "- Concepte de quadern: notebooks.\n",
    "- Format de text amb Markdown.\n",
    "- Execució de codi.\n",
    "- Maquetació d’informes.\n",
    "- Activitat."
   ]
  },
  {
   "cell_type": "markdown",
   "metadata": {},
   "source": [
    "## Introducció"
   ]
  },
  {
   "cell_type": "markdown",
   "metadata": {},
   "source": [
    "Python com a qualsevol llenguatge de programació està pensat per executar totes les linies de codi d'un manera lineal i continua. \n",
    "\n",
    "Per exemple, el fitxer anomenat `el_script.py' amb aquest contingut:\n",
    "<div style=\"background: #F2F2F2;\n",
    "        color: black;\n",
    "        border: 3px solid #535353;\n",
    "        margin: 0px auto;\n",
    "        width: 456px;\n",
    "        padding: 10px;\n",
    "        border-radius: 10px;\">\n",
    "\n",
    "import pandas as pd <br/>\n",
    "import seaborn as sns<br/>\n",
    "import matplotlib.pyplot as plt<br/>\n",
    "\n",
    "\n",
    "paisos = pd.read_csv(\"data/WHO.csv\")<br/>\n",
    "filtre = paisos.sort_values(by=\"Adult literacy rate (%)\")[:10]<br/>\n",
    "\n",
    "ax = sns.barplot(data=filtre, x=\"Country\", y=\"Adult literacy rate (%)\")<br/>\n",
    "ax.bar_label(ax.containers[0], fontsize=10) <br/>\n",
    "ax.figure.savefig('bar_plot.png')<br/>\n",
    "\n",
    "</div>  \n",
    "podem invocar l'execució amb la comanda `python3 el_script.py`per consola.\n",
    "Si tenim el compilador de python instal·lat al nostre sistema podem executar programes de python."
   ]
  },
  {
   "cell_type": "markdown",
   "metadata": {
    "vscode": {
     "languageId": "plaintext"
    }
   },
   "source": [
    "Per altra banda, com és un llenguatge interpretat es pot executar linia per linea, hi ha aixo també té certes avantatges\n",
    "\n",
    "Exemple:\n"
   ]
  },
  {
   "cell_type": "code",
   "execution_count": 4,
   "metadata": {},
   "outputs": [],
   "source": [
    "import pandas as pd"
   ]
  },
  {
   "cell_type": "code",
   "execution_count": 5,
   "metadata": {},
   "outputs": [],
   "source": [
    "import seaborn as sns\n",
    "import matplotlib.pyplot as plt"
   ]
  },
  {
   "cell_type": "code",
   "execution_count": 6,
   "metadata": {},
   "outputs": [],
   "source": [
    "paisos = pd.read_csv(\"data/WHO.csv\")"
   ]
  },
  {
   "cell_type": "code",
   "execution_count": 8,
   "metadata": {},
   "outputs": [
    {
     "data": {
      "text/plain": [
       "(202, 358)"
      ]
     },
     "execution_count": 8,
     "metadata": {},
     "output_type": "execute_result"
    }
   ],
   "source": [
    "paisos.shape"
   ]
  },
  {
   "cell_type": "markdown",
   "metadata": {},
   "source": [
    "## Diferències clau entre script i cuadern (notebook)\n",
    "\n",
    "### 1. **Format, Estructura i Interactivitat**\n",
    "\n",
    "- **Script**: Un script és un fitxer de codi font (per exemple, un `.py` en Python) que conté una seqüència d'instruccions que s'executen de principi a fi. Els scripts solen tenir una estructura lineal, on el codi es llegeix i s'executa seqüencialment.\n",
    "\n",
    "- **Notebook**: Un notebook (per exemple, un Jupyter Notebook) està dividit en cel·les que poden contenir codi, text, imatges, etc. Les cel·les es poden executar de manera independent, permetent un flux de treball interactiu. Això és útil per desenvolupar i provar codi de manera incremental.\n",
    "\n",
    "### 2. **Documentació i Presentació**\n",
    "\n",
    "- **Script**: La documentació en un script normalment es limita a comentaris dins del codi i a docstrings. És menys visual i no tan adequada per a la presentació de resultats o la narrativa.\n",
    "\n",
    "- **Notebook**: Els notebooks permeten combinar codi amb text explicatiu (utilitzant Markdown), gràfics incrustats, taules, i més. Això els fa ideals per a la documentació interactiva, la presentació de resultats i la creació de tutorials.\n",
    "\n",
    "### 3. **Ús i Escenaris d'Aplicació**\n",
    "\n",
    "- **Script**: Els scripts són ideals per a automatitzar tasques repetitives, crear aplicacions de línia de comandes, o escriure codi que es pretén executar sense supervisió, com cron jobs o scripts de servidor.\n",
    "\n",
    "- **Notebook**: Els notebooks són populars en la ciència de dades, l’aprenentatge automàtic, l’ensenyament, i l’exploració de dades. Són molt útils per a l'anàlisi exploratòria de dades i la investigació, on es requereix ajustar i experimentar amb el codi en temps real.\n",
    "\n",
    "### 4. **Rendiment**\n",
    "\n",
    "- **Script**: Els scripts sovint s’executen més ràpidament que els notebooks, ja que no tenen la sobrecàrrega de l’entorn interactiu ni la necessitat de mantenir l’estat de la sessió en la memòria.\n",
    "\n",
    "- **Notebook**: Els notebooks poden tenir una mica de sobrecàrrega a causa de l'entorn interactiu i la necessitat de carregar tota la sessió en memòria, cosa que pot afectar el rendiment, especialment amb grans conjunts de dades o càlculs complexos.\n",
    "\n",
    "### 5. **Gestió de l'Estat i Depuració**\n",
    "\n",
    "- **Script**: En executar un script, l'estat (variables, resultats intermedis, etc.) no persisteix més enllà de l'execució. Cada vegada que executem el script, es comença de zero.\n",
    "\n",
    "- **Notebook**: En un notebook, l'estat es manté entre l'execució de cel·les, el que permet inspeccionar variables, modificar-les, i executar codi basant-se en resultats intermedis. Això pot facilitar la depuració i el desenvolupament iteratiu."
   ]
  },
  {
   "cell_type": "markdown",
   "metadata": {},
   "source": [
    "## L'entorn de Google Colab \n",
    "\n",
    "[Google Colab](https://colab.research.google.com/) ofereix un entorn d'execució de Python integrat al seu ecosistema, basat en l'editor Jupyter Notebook. <br/> Jupyter és un projecte de codi obert creat el 2014 que permet l'execució interactiva de petites parts de codi, fet que facilita l'aprenentatge.\n",
    "\n",
    "Colab és un servei gratuït de Google, i només cal tenir un compte d'usuari de Google per utilitzar-lo.\n",
    "Alternativament, es pot instal·lar Python i Jupyter Notebook al vostre sistema de manera directa o utilitzar gestors com [Anaconda](https://www.anaconda.com/), que ofereixen una instal·lació integrada.\n",
    "\n",
    "En aquest curs, farem servir l'opció més fàcil: Google Colab.\n"
   ]
  },
  {
   "cell_type": "markdown",
   "metadata": {},
   "source": [
    "<div align=\"center\">\n",
    "\n",
    "[![Open In Colab](https://colab.research.google.com/assets/colab-badge.png)](https://colab.research.google.com/github/wisaaco/Curs_FG24GOI0074221/blob/main/lessons/1_Infraestructura_execucio.ipynb)\n",
    "\n",
    "Si no funciona el botó podeu copiar el següent [enllaç](https://colab.research.google.com/github/wisaaco/Curs_FG24GOI0074221/blob/main/lessons/1_Infraestructura_execucio.ipynb) (Botó dret i copiar l'enllaç)\n",
    "\n",
    "</div>"
   ]
  },
  {
   "cell_type": "markdown",
   "metadata": {},
   "source": [
    "### Tipus de cel·les\n",
    "\n",
    "Dins de l'editor de Jupyter Notebook trobem dos tipus de cel·les: de codi o de text en format Markdown. Podem entremesclar cel·les i els resultats intermedis de codi es conserven en tot el document. Això dona la capacitat d'emprar els notebooks com informes intercalant codi i gràfiques amb text descriptiu.\n",
    "\n",
    "Per exemple, tota aquesta documentació està feta amb Jupyter Notebooks (Nota: existeixen eines que permeten crear PDFs d'un notebook).\n",
    "\n",
    "Referències a manuals de Markdown:\n",
    "- https://jupyterbook.org/en/stable/basics/organize.html\n",
    "- https://tutorialmarkdown.com/sintaxis\n",
    " "
   ]
  },
  {
   "cell_type": "markdown",
   "metadata": {},
   "source": [
    "### Creació i edició\n",
    "- Creació: cerqueu el símbol de + (o de codi o de text/markdown).\n",
    "- Edició: doble click damunt la cel·la."
   ]
  },
  {
   "cell_type": "markdown",
   "metadata": {
    "vscode": {
     "languageId": "plaintext"
    }
   },
   "source": [
    "\n",
    "Provem l'entorn de Google Colab editant aquestes cel·les amb sintaxi Markdown:\n",
    "\n",
    "```md\n",
    "# Heading 1\n",
    "## Heading 2\n",
    "### Heading 3\n",
    "#### Heading 4\n",
    "##### Heading 5\n",
    "###### Heading 6\n",
    "\n",
    "```"
   ]
  },
  {
   "cell_type": "markdown",
   "metadata": {},
   "source": [
    "#### <span style=\"color:red\">Activitat</span> <br>\n",
    " \n",
    "Copia a una cel·la de markdown el contigut d'aquesta i completa els estils restants:"
   ]
  },
  {
   "cell_type": "markdown",
   "metadata": {},
   "source": [
    "```\n",
    "# Hola\n",
    "## Heading 2\n",
    "### Heading 3\n",
    "pendent\n",
    "##### Heading 5\n",
    "pendent\n",
    "```"
   ]
  },
  {
   "cell_type": "markdown",
   "metadata": {},
   "source": [
    "Salt de línia: <br>\n",
    "```\n",
    "(un bot de línia (enter)) o <br>\n",
    "```"
   ]
  },
  {
   "cell_type": "markdown",
   "metadata": {},
   "source": [
    "***\n",
    "Separadors de línia\n",
    "\n",
    "---\n",
    "o un altra\n",
    "\n"
   ]
  },
  {
   "cell_type": "markdown",
   "metadata": {},
   "source": [
    "\n",
    "***Negreta***\n",
    "\n",
    "\n",
    "Esto es un **texto en negrita**. <br>\n",
    "Esto es un texto parcialmente en ne**gri**ta.\n",
    "\n",
    "Esto es un __texto en negrita__.<br>\n",
    "\n",
    "\n",
    "***Cursiva***\n",
    "\n",
    "Esto es un *texto en cursiva*.<br>\n",
    "Esto es un texto parcialmente en cu*rsi*va.\n",
    "\n",
    "Esto es un _texto en cursiva_.<br>\n",
    "\n",
    "***Negreta i cursiva***\n",
    "\n",
    "Esto es un ***texto en negrita y cursiva***.<br>\n",
    "Esto es un ___texto en negrita y cursiva___.<br>\n",
    "Esto es un texto parcialmente en ne***grita y cursi***va.<br>\n",
    "Esto es un texto parcialmente en ne ___grita y cursi___ va.\n",
    "\n",
    "***Enllaços***\n",
    "\n",
    "Markdown permet afegir enllaços a altres planes web:\n",
    "\n",
    "Això és [un enllaç](http://hola.com).\n",
    "\n",
    "***Llista***\n",
    "\n",
    "Podem llistar elements:\n",
    "\n",
    "- A\n",
    "- B\n",
    "  - B1. Hola\n",
    "  - B2. Adeu\n",
    "- C\n",
    "\n",
    "També fer enumeracions i combinar-les amb les llistes:\n",
    "\n",
    "1. Primer\n",
    "2. Segon\n",
    "3.  Tercer\n",
    "    - Llista\n",
    "    - Llista 1\n",
    "    - Llista 2"
   ]
  },
  {
   "cell_type": "markdown",
   "metadata": {},
   "source": [
    "**Codi**\n",
    "\n",
    "En alggunes ocasions pot resultar interessant posar codi en les nostres cel·les _markdown_, encara que aquest mai s'executarà:\n",
    "\n",
    "\n",
    "```\n",
    "df = pd.read_csv(\"fitxer.csv)\n",
    "```"
   ]
  },
  {
   "cell_type": "markdown",
   "metadata": {},
   "source": [
    "**Taules**\n",
    "\n",
    "No sempre estàn suportades per tots els entorns, sobretot s'usen per informació senzilla:\n",
    "\n",
    " Hora   | L | M | Mx\n",
    "---|-------|--------|-----\n",
    "9:00 | Python | Excel | PowerBI\n",
    "11:00|  Java | HTML | C++"
   ]
  },
  {
   "cell_type": "markdown",
   "metadata": {},
   "source": [
    "#### <span style=\"color:red\">Activitat</span>\n",
    " \n",
    "En aquest [enllaç](https://tutorialmarkdown.com/sintaxis#imagenes) s'explica com introduir una **imatge** a una cel·la de markdown. \n",
    "\n",
    "Objectius intermedis:\n",
    "\n",
    "- Com penjar una imatge o un document a Google Drive?\n",
    "- Quina ruta/path té aquest fitxer?\n",
    "- Entendre certes restriccions de seguretat d'aquesta eina de Google. \n"
   ]
  },
  {
   "cell_type": "markdown",
   "metadata": {},
   "source": [
    "### Limitacions de Google Colab \n",
    "\n",
    "Una advertència important a recordar quan feu servir Colab és que els fitxers que hi pengeu no estaran disponibles per sempre. Colab és un entorn temporal amb un temps d'inactivitat de 90 minuts i un temps d'espera absolut de 12 hores. Això vol dir que el temps d'execució es desconnectarà si s'ha mantingut inactiu durant 90 minuts o si ha estat en ús durant 12 hores. En desconnectar, perds totes les teves variables, estats, paquets instal·lats i fitxers i es connectarà a un entorn completament nou i net en tornar a connectar-te.A més, Colab té una limitació d'espai en disc de 108 GB, dels quals només 77 GB estan disponibles per a l'usuari. Tot i que això hauria de ser suficient per a la majoria de les tasques, tingueu-ho en compte mentre treballeu amb conjunts de dades més grans, com ara dades d'imatge o de vídeo."
   ]
  },
  {
   "cell_type": "markdown",
   "metadata": {},
   "source": [
    "#### <span style=\"color:red\">Activitat Final</span>\n",
    "\n",
    "Intenta crear la següent maquetació:\n",
    "\n",
    "<img src=\"images/activitat_notebook_0.png\"/>"
   ]
  },
  {
   "cell_type": "markdown",
   "metadata": {},
   "source": [
    "[![License: CC BY 4.0](https://img.shields.io/badge/License-CC_BY_4.0-lightgrey.svg)](https://creativecommons.org/licenses/by/4.0/) <br/>\n",
    "Isaac Lera and Gabriel Moya <br/>\n",
    "Universitat de les Illes Balears <br/>\n",
    "isaac.lera@uib.edu, gabriel.moya@uib.edu"
   ]
  }
 ],
 "metadata": {
  "kernelspec": {
   "display_name": "my397",
   "language": "python",
   "name": "python3"
  },
  "language_info": {
   "codemirror_mode": {
    "name": "ipython",
    "version": 3
   },
   "file_extension": ".py",
   "mimetype": "text/x-python",
   "name": "python",
   "nbconvert_exporter": "python",
   "pygments_lexer": "ipython3",
   "version": "3.11.0"
  },
  "orig_nbformat": 4
 },
 "nbformat": 4,
 "nbformat_minor": 2
}
