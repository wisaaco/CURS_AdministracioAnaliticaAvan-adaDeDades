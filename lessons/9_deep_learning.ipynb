{
 "cells": [
  {
   "metadata": {},
   "cell_type": "markdown",
   "source": [
    "# Unitat 9: Aprenentatge Profund\n",
    "\n",
    "Contingut de la unitat:\n",
    "\n",
    "- Perceptró multicapa\n",
    "- Pytorch\n",
    "- Una xarxa neural\n",
    "- Activitat"
   ],
   "id": "ac594b299c3bc233"
  },
  {
   "metadata": {},
   "cell_type": "markdown",
   "source": [
    "## Perceptró multicapa\n",
    "\n",
    "Un Perceptró Multicapa (Multi-Layer Perceptron, _MLP_) és un tipus de xarxa neuronal artificial que funciona de manera similar als mètodes supervisats com SVM (Support Vector Machine) o Random Forest (RF), però amb una estructura més flexible i potent. L’MLP està format per capes de neurones artificials, on cada capa està connectada a la següent. Les dades entren per la primera capa (capa d'entrada), es processen a través d’una o més capes ocultes, i finalment la xarxa dona un resultat a la capa de sortida. A diferència d'altres algorismes d'aprenentatge automàtic que depenen de la creació manual de característiques o regles, l’MLP és capaç d’aprendre relacions complexes entre les dades de manera automàtica ajustant els pesos de les connexions durant el procés d'entrenament, amb un mètode conegut com a retropropagació o propagació cap enrere. \n",
    "\n",
    " Com hem comentat, estan formades per capes de neurones organitzades de manera seqüencial. Aquestes capes estan estructurades en tres components principals:\n",
    "\n",
    "1. **Capa d'entrada**:\n",
    "\n",
    "    - És la capa inicial que rep les dades d'entrada (per exemple, imatges, textos, o valors numèrics).\n",
    "    - El nombre de neurones en aquesta capa és igual al nombre de característiques o atributs de les dades d'entrada.\n",
    "\n",
    "2. **Capes ocultes**:\n",
    "\n",
    "    - Les capes ocultes són les intermèdies entre l'entrada i la sortida.\n",
    "    - Cada neurona d'una capa oculta està connectada a totes les neurones de la capa anterior i a la següent. Aquest tipus de connexió s'anomena totalment connectada o _fully connected_.\n",
    "    - Les neurones d'aquestes capes transformen les dades mitjançant una funció d'activació (per exemple, ReLU, sigmoid, tanh) per capturar relacions no lineals entre les dades.\n",
    "    - Un MLP pot tenir una o més capes ocultes, i el nombre de neurones per capa pot variar. Considerem un MLP com una xarxa profunda a partir de 3 capes ocultes.\n",
    "\n",
    "3. **Capa de sortida**:\n",
    "\n",
    "    - La capa final dona els resultats desitjats del model.\n",
    "    - El nombre de neurones a la capa de sortida depèn del tipus de tasca:\n",
    "        - Per tasques de classificació, hi haurà una neurona per a cada classe.\n",
    "        - Per tasques de regressió, hi haurà una sola neurona que representi el valor de sortida.\n",
    "        - Podem tenir altres mides en la capa de sortida en configuracions de xarxes més avançades.\n",
    "\n",
    "### Propietats clau:\n",
    "\n",
    "   - Pesos i bias: Cada connexió entre neurones té un pes associat, i les neurones tenen un bias. Aquests paràmetres s'actualitzen durant l'entrenament per aprendre a realitzar la tasca.\n",
    "   - Funció de pèrdua: S'utilitza una funció de pèrdua (per exemple, MSE per regressió, cross-entropy per classificació) per mesurar l'error entre la sortida prevista i la sortida real.\n",
    "   - Optimització: Els nous pesos es calculen i s'ajusten mitjançant un algorisme d'optimització com el gradient descendent per minimitzar la funció de pèrdua mitjançant la propagació d'aquests de la darrera capa cap a la primera.\n",
    "\n",
    "\n",
    "A continuació podem observar l'esquema elemental d'aquesta xarxa:\n",
    "\n",
    "![Esquema MLP](images/MultiLayerPerceptron.png \"MLP\")\n"
   ],
   "id": "edd0b9a3004e35ca"
  },
  {
   "metadata": {},
   "cell_type": "markdown",
   "source": [
    "## Pytorch\n",
    "\n",
    "Pytorch és una biblioteca de programari de codi obert dins l'àmbit d'aprenentatge automàtic, està escrita en Python, C++ i CUDA, i basada en la biblioteca del programari Torch del llenguatge LUA. PyTorch va ser desenvolupada inicialment pel departament d'intel·ligència artificial de l'empresa Facebook i l'empresa Uber.\n",
    "\n",
    "Algunes de les seves característiques principals són:\n",
    "1. **Tensor computation (similar a NumPy)**: PyTorch proporciona operacions eficients sobre tensors, una estructura de dades similar als arrays de NumPy però amb capacitat per executar càlculs en GPU o CPU.\n",
    " Això permet aprofitar la potència de les GPUs per millorar la velocitat de càlcul, cosa crucial en l'entrenament de models grans de xarxes neuronals.\n",
    "\n",
    "2. **Autograd (Diferenciació automàtica)**: PyTorch té un sistema integrat per a la diferenciació automàtica, anomenat Autograd. Això significa que calcula automàticament el gradient de les operacions sobre tensors, cosa essencial per entrenar models d'aprenentatge profund amb tècniques com el gradient descendent.\n",
    "\n",
    "3. **Estructures dinàmiques de gràfics computacionals**: PyTorch crea gràfics de computació de manera dinàmica, a diferència d'altres frameworks com TensorFlow que utilitzen gràfics estàtics. Això facilita el debugging i la prototipatge ràpid, ja que el gràfic es crea durant la pròpia execució, el que fa que sigui més intuïtiu i flexible per treballar.\n",
    "\n",
    "4. **Integració amb altres biblioteques Python**: PyTorch es pot integrar fàcilment amb altres paquets de Python com NumPy, SciPy i Pandas, facilitant el desenvolupament d'aplicacions complexes. També és compatible amb altres biblioteques d'aprenentatge profund com Torchvision per a la manipulació de dades visuals.\n",
    "\n",
    "5. **Suport per a CUDA i GPUs**: PyTorch fa ús de CUDA per a aprofitar el càlcul en GPUs de manera eficient. Això permet una millora de rendiment considerable durant l'entrenament de models de grans dimensions, ja que les operacions sobre tensors es poden delegar a la GPU fàcilment amb PyTorch.\n",
    "\n",
    "6. **Modularitat i flexibilitat**: La seva arquitectura modular permet construir models complexos amb més flexibilitat i senzillesa. Els usuaris poden personalitzar capes, funcions de pèrdua, optimitzadors, etc., cosa que facilita l'experimentació. També té un ecosistema ric de biblioteques complementàries (com TorchText, TorchVision, TorchAudio) que s'utilitzen per treballar amb dades de text, imatge, i àudio.\n",
    "\n",
    "7. **Models preentrenats i Transfer Learning**: PyTorch ofereix accés a una àmplia gamma de models preentrenats que es poden utilitzar directament o amb ajustaments menors mitjançant el Transfer Learning. Això és molt útil per a tasques com la classificació d'imatges, la detecció d'objectes, etc., sense necessitat d'entrenar el model des de zero.\n",
    "\n",
    "8. **Comunitat activa i recursos abundants**: PyTorch té una comunitat molt activa, amb molts recursos educatius, tutorials i documentació extensa. A més, la comunitat d’investigació en IA sovint fa servir PyTorch, el que significa que hi ha moltes implementacions de papers acadèmics i models d’avantguarda disponibles.\n",
    "\n",
    "9. **API intuïtiva i fàcil d'usar**: PyTorch està dissenyat per ser intuïtiu per a desenvolupadors i investigadors. La seva API és fàcil de comprendre i utilitzar, cosa que facilita tant el prototipatge ràpid com la producció d'aplicacions escalables.\n",
    "\n",
    "\n",
    "Si ens trobem programant en l'entorn de Google Colab aquesta llibreria (com la majoria) ja es troba instal·lada, però si estam treballant en un entorn local, ens l'haurem d'instal·lar. Al següent [enllaç](https://pytorch.org/get-started/locally/) podreu trobar les instruccions per fer-ho.\n",
    "\n",
    "Començarem a conèixer aquesta llibreria mitjançant l'execució d'un exemple molt senzill. "
   ],
   "id": "ea42cc35f1e8964a"
  },
  {
   "metadata": {},
   "cell_type": "markdown",
   "source": [
    "### Una xarxa neural\n",
    "\n",
    "El problema que volem resoldre és la creació d'una xarxa que sigui capaç de realitzar la predicció del valor mitjà de l'habitatge per als districtes de Califòrnia. Aquest tipus de conjunts es coneixen amb el nom d'exemples de joguina, ja que estan preparats per aconseguir bons resultats amb models relativament simples,.\n",
    "\n",
    " Cada observació és un grup de blocs censals. La variable objectiu és el valor mitjà de l'habitatge en 100.000 USD l'any 1990 i hi ha 8 característiques d'entrada, cadascuna que descriu alguna cosa sobre la casa.\n",
    "\n",
    " - MedInc: ingressos mitjans al grup de blocs.\n",
    " - HouseAge: edat mitjana dels blocs.\n",
    " - AveRooms: nombre mitjà d'habitacions per llar.\n",
    " - AveBedrms: nombre mitjà d'habitacions per llar.\n",
    " - Population: nombre de persones que viuen als blocs.\n",
    " - AveOccup: nombre mitjà de membres de la llar.\n",
    " - Latitude: latitud del centroide del grup de blocs.\n",
    " - Longitude: longitud del centroide del grup de blocs.\n",
    "\n",
    "Aquestes dades tenen la particularitat que diverses característiques es troben en una escala molt diferent. Per exemple, el nombre d'habitacions per habitatge acostuma a ser petit, però la població per bloc sol ser gran. A més, la majoria de les característiques haurien de ser positives, però la longitud ha de ser negativa, recordau que som Califòrnia. El maneig d'aquesta diversitat de dades és un repte per a alguns models d'aprenentatge automàtic i l'hem de resoldre."
   ],
   "id": "5bddd075820e225b"
  },
  {
   "metadata": {
    "ExecuteTime": {
     "end_time": "2024-09-23T15:17:48.526354Z",
     "start_time": "2024-09-23T15:17:44.225601Z"
    }
   },
   "cell_type": "code",
   "source": [
    "## Importam les llibreries necessaries\n",
    "import torch\n",
    "import torch.nn as nn\n",
    "import math\n",
    "import torch.optim as optim\n",
    "import numpy as np\n",
    "import matplotlib.pyplot as plt"
   ],
   "id": "346eaa68c5c2d2e9",
   "outputs": [],
   "execution_count": 2
  },
  {
   "metadata": {},
   "cell_type": "markdown",
   "source": [
    "### Definició de la xarxa\n",
    "\n",
    "Com ja sabem per la secció anterior, aquest és un problema de regressió, a diferència dels problemes de classificació, la variable de sortida és un valor continu. En el cas de les xarxes neuronals, normalment s'utilitza l'activació lineal a la capa de sortida (és a dir, sense activació) de manera que el rang de sortida teòricament pot ser des de l'infinit negatiu fins a l'infinit positiu.\n",
    "\n",
    "El mòdul [torch.nn](https://pytorch.org/docs/stable/nn.html) conté els blocs basics per la construcció de les xarxes. Utilitzarem `nn.Sequential` per definir el nostre model com una seqüència de capes. Aquest és un mòdul que conté altres mòduls i els aplica per produir una sortida. El capa lineal `nn.Linear` calcula la sortida de l'entrada mitjançant una funció lineal i opera els tensors interns pel seu pes i biaix. La capa `nn.ReLU`  aplica una activació no lineal als valors d'entrada d'una xarxa neuronal, convertint tots els valors negatius en zero i deixant els positius tal com són. Aquesta operació introdueix no-linearitat, fent possible que la xarxa pugui aprendre relacions complexes entre les dades. \n",
    "\n",
    "A més de la xarxa també definirem els paràmetres de l'entrenament. En aquest cas:\n",
    "\n",
    "- **Funció de pèrdua**: És la funció que volem minimitzar mitjançant l'entrenament, es a dir, l'indicador de com de bé la xarxa està aprenent. En aquest cas emprarem el `MSE (Mean Squared Error)` error quadratic mitjà [wiki](https://ca.wikipedia.org/wiki/Error_quadr%C3%A0tic_mig).\n",
    "- **Rati d'aprenentatge (_Learning Rate_)**: Representa la velocitat o el pas amb el qual un model d'aprenentatge automàtic ajusta els pesos i els paràmetres durant el procés d'entrenament.\n",
    "- **Algorisme d'Optimització**: Tècnica que s'empra per ajustar els pesos i paràmetres d'un model durant el procés d'entrenament. El seu objectiu principal és minimitzar la funció de pèrdua del model. Els optimitzadors determinen com s‟actualitzen els paràmetres del model en funció de l'error calculat (és dependent de la funció de pèrdua elegida). En el nostre exemple emprarem `Adam` ja que és el més popular.\n",
    "\n",
    "Com no tenim coneixents previs, provarem el disseny tradicional d'una xarxa neuronal, és a dir, l'estructura de la piràmide. Una estructura piramidal és aquella en la que el nombre de neurones de cada capa disminueixi a mesura que la xarxa avança cap a la sortida. El nombre de característiques d'entrada és fix, però  definirem un nombre alt de neurones a la primera capa oculta i reduïrem gradualment el seu nombre a les capes posteriors. Com que en aquest conjunt de dades només hem de predir un valor la capa final només hauria de tenir una neurona."
   ],
   "id": "d8b7114896715019"
  },
  {
   "metadata": {
    "ExecuteTime": {
     "end_time": "2024-09-23T15:17:53.858003Z",
     "start_time": "2024-09-23T15:17:52.171772Z"
    }
   },
   "cell_type": "code",
   "source": [
    "model = nn.Sequential(\n",
    "    nn.Linear(8, 12),  # Tenim 8 característiques\n",
    "    nn.ReLU(), # introduïm l'activació no lineal a la nostra xarxa.\n",
    "    nn.Linear(12, 6), # anam eliminant dimensionalitat a cada capa\n",
    "    nn.ReLU(),\n",
    "    nn.Linear(6, 1) # tenim una única sortida, el valor a predir\n",
    ")\n",
    "\n",
    "\n",
    "loss_fn = nn.MSELoss()  # mean square error\n",
    "optimizer = optim.Adam(model.parameters(), lr=0.0001)"
   ],
   "id": "af6626eb3b40976f",
   "outputs": [],
   "execution_count": 3
  },
  {
   "metadata": {},
   "cell_type": "markdown",
   "source": [
    "### Obtenció de les dades\n",
    "\n",
    "Com és un conjunt ja preparat, el podem obtenir directament de la llibreria `Sci-kit` que ja coneixem. El dividirem en dos subconjunts, seguint les bones pràctiques de l'àrea, un per entrenar i l'altra per avaluar.\n"
   ],
   "id": "4182008fe080adea"
  },
  {
   "metadata": {
    "ExecuteTime": {
     "end_time": "2024-09-23T15:17:57.387652Z",
     "start_time": "2024-09-23T15:17:55.876576Z"
    }
   },
   "cell_type": "code",
   "source": [
    "from sklearn.model_selection import train_test_split\n",
    "from sklearn.datasets import fetch_california_housing\n",
    "\n",
    "# Obtenim les dades\n",
    "data = fetch_california_housing()\n",
    "X, y = data.data, data.target\n",
    " \n",
    "# Les dividim en els dos conjunts que hem mencionat. El d'entrenament té el 70% de les dades\n",
    "X_train, X_test, y_train, y_test = train_test_split(X, y, train_size=0.7, shuffle=True)\n",
    " \n",
    "# Convertim les estructures Numpy a tensors compatibles amb Pytorch\n",
    "X_train = torch.tensor(X_train, dtype=torch.float32)\n",
    "y_train = torch.tensor(y_train, dtype=torch.float32).reshape(-1, 1)\n",
    "X_test = torch.tensor(X_test, dtype=torch.float32)\n",
    "y_test = torch.tensor(y_test, dtype=torch.float32).reshape(-1, 1)"
   ],
   "id": "5eaeb9d72f24dfd1",
   "outputs": [],
   "execution_count": 4
  },
  {
   "metadata": {},
   "cell_type": "markdown",
   "source": [
    "### Entrenament\n",
    "\n",
    "L'entrenament es duu a terme en forma de bucle, el nombre de cops que s'ha de realitzar aquest bucle es realitzarà és un hiperparàmetre que nosaltres haurem de decidir. A cada iteració de l'entrenament la xarxa realitza una predicció sobre les dades d'entrada i després es calcula l'error mitjà de totes les mostres emprant la funció de pèrdua com a referència d'aquesta manera es sap com s'han de modificar els pesos de la xarxa per aconseguir un bon resultat final. Per tal d'aconseguir un equilibri entre el gran cost que suposaria fer una predicció de cada observació de manera individual i la poca importància que tendría cada observació en la mitja de l'error si es fessin totes les prediccions de cop, es sol cercar un camí intermedi que consisteix a dividir el conjunt de dades en grups anomenats _batches_. \n",
    "\n",
    "Al bucle d'entrenament, la llibreria [tqdm](https://tqdm.github.io/) s'utilitza per configurar una barra de progrés i en cada pas, es calcula i informa del MSE en aquella iteració. Podeu veure com ha canviat el MSE configurant el paràmetre `disable=False` de la funció `tqdm`.\n",
    "\n",
    "\n"
   ],
   "id": "9836104fd382a38b"
  },
  {
   "metadata": {
    "ExecuteTime": {
     "end_time": "2024-09-23T15:21:20.791386Z",
     "start_time": "2024-09-23T15:18:00.051859Z"
    }
   },
   "cell_type": "code",
   "source": [
    "import copy\n",
    "import numpy as np\n",
    "import torch\n",
    "import tqdm\n",
    "\n",
    "n_epochs = 100   # nombre d'iteracions del bucle d'entrenament\n",
    "batch_size = 10  # nombre d'elements que té cada batch\n",
    "batch_start = torch.arange(0, len(X_train), batch_size)\n",
    " \n",
    "# Ens servirà per guardar el millor model\n",
    "best_mse = np.inf   # init to infinity\n",
    "best_weights = None\n",
    "history = []\n",
    " \n",
    "for epoch in range(n_epochs):\n",
    "    model.train() # Posam el model en mode entrenament \n",
    "    \n",
    "    with tqdm.tqdm(batch_start, unit=\"batch\", mininterval=0, disable=True) as bar:\n",
    "        bar.set_description(f\"Epoch {epoch}\")\n",
    "        \n",
    "        for start in bar:\n",
    "            # agafam un batch\n",
    "            X_batch = X_train[start:start+batch_size]\n",
    "            y_batch = y_train[start:start+batch_size]\n",
    "            # realitzem la predicció (passa envant)\n",
    "            y_pred = model(X_batch)\n",
    "            loss = loss_fn(y_pred, y_batch)\n",
    "            # realitzem la passa enrere\n",
    "            optimizer.zero_grad()\n",
    "            loss.backward()\n",
    "            # actualitzem els pesos\n",
    "            optimizer.step()\n",
    "            \n",
    "            bar.set_postfix(mse=float(loss))\n",
    "    # avaluem el model\n",
    "    model.eval()\n",
    "    y_pred = model(X_test)\n",
    "    mse = loss_fn(y_pred, y_test)\n",
    "    mse = float(mse)\n",
    "    history.append(mse)\n",
    "    if mse < best_mse: # si és el millor en realitzem una copia\n",
    "        best_mse = mse\n",
    "        best_weights = copy.deepcopy(model.state_dict())\n",
    " \n",
    "# carregam el millor model\n",
    "model.load_state_dict(best_weights)\n",
    "print(f\"MSE amb el millor model: {best_mse}\")\n",
    "plt.plot(history)\n",
    "plt.show()"
   ],
   "id": "a8e02af2434837c6",
   "outputs": [
    {
     "name": "stdout",
     "output_type": "stream",
     "text": [
      "MSE amb el millor model: 0.611165463924408\n"
     ]
    },
    {
     "data": {
      "text/plain": [
       "<Figure size 640x480 with 1 Axes>"
      ],
      "image/png": "[encoded data removed]"
     },
     "metadata": {},
     "output_type": "display_data"
    }
   ],
   "execution_count": 5
  },
  {
   "metadata": {},
   "cell_type": "markdown",
   "source": [
    "A l'eix horitzontal podem veure les diferents èpoques d'entrenament i a l'eix vertical com l'error de la predicció de la xarxa es redueix, en les primeres èpoques de manera més ràpida i després es comença a estabilitzar. Hi ha un moment en el qual afegir èpoques no millora l'entrenament.\n",
    "\n",
    "## Activitat\n",
    "\n",
    "En primer lloc, posarem tot el codi en una mateixa cel·la, d'aquesta manera ens serà més senzill poder fer canvis sense tenir errors o resultats incoherents.\n",
    "\n",
    "Una de les majors fonts d'error en executar els nostres entrenaments és tornar a entrenar models que ja s'havien entrenat en execucions anteriors. A cada nou entrenament **hem de crear un objecte nou**, si tenim tot el codi en la mateixa cel·la obligarem a redefinir totes les variables i evitarem aquests errors.\n",
    "\n",
    "Un cop tinguem més experiència amb aquesta llibreria podrem organitzar el codi d'altres maneres."
   ],
   "id": "d987e21f65f2cfec"
  },
  {
   "metadata": {},
   "cell_type": "code",
   "outputs": [],
   "execution_count": null,
   "source": [
    "import copy\n",
    "import numpy as np\n",
    "import torch\n",
    "import tqdm\n",
    "\n",
    "model = nn.Sequential(\n",
    "    nn.Linear(8, 6),  # Tenim 8 característiques\n",
    "    nn.ReLU(), # introduïm l'activació no lineal a la nostra xarxa.\n",
    "    ## TODO: Afegir noves capes\n",
    "    nn.Linear(6, 1) # tenim una única sortida, el valor a predir\n",
    ")\n",
    "\n",
    "\n",
    "loss_fn = nn.MSELoss()  # mean square error\n",
    "optimizer = optim.Adam(model.parameters(), lr=0.0001)\n",
    "\n",
    "\n",
    "n_epochs = 100   # nombre d'iteracions del bucle d'entrenament\n",
    "batch_size = 10  # nombre d'elements que té cada batch\n",
    "batch_start = torch.arange(0, len(X_train), batch_size)\n",
    " \n",
    "# Ens servirà per guardar el millor model\n",
    "best_mse = np.inf   # init to infinity\n",
    "best_weights = None\n",
    "history = []\n",
    " \n",
    "for epoch in range(n_epochs):\n",
    "    model.train() # Posam el model en mode entrenament \n",
    "    \n",
    "    with tqdm.tqdm(batch_start, unit=\"batch\", mininterval=0, disable=True) as bar:\n",
    "        bar.set_description(f\"Epoch {epoch}\")\n",
    "        \n",
    "        for start in bar:\n",
    "            # agafam un batch\n",
    "            X_batch = X_train[start:start+batch_size]\n",
    "            y_batch = y_train[start:start+batch_size]\n",
    "            # realitzem la predicció (passa envant)\n",
    "            y_pred = model(X_batch)\n",
    "            loss = loss_fn(y_pred, y_batch)\n",
    "            # realitzem la passa enrere\n",
    "            optimizer.zero_grad()\n",
    "            loss.backward()\n",
    "            # actualitzem els pesos\n",
    "            optimizer.step()\n",
    "            \n",
    "            bar.set_postfix(mse=float(loss))\n",
    "    # avaluem el model\n",
    "    model.eval()\n",
    "    y_pred = model(X_test)\n",
    "    mse = loss_fn(y_pred, y_test)\n",
    "    mse = float(mse)\n",
    "    history.append(mse)\n",
    "    if mse < best_mse: # si és el millor en realitzem una copia\n",
    "        best_mse = mse\n",
    "        best_weights = copy.deepcopy(model.state_dict())\n",
    " \n",
    "# carregam el millor model\n",
    "model.load_state_dict(best_weights)\n",
    "print(f\"MSE amb el millor model: {best_mse}\")\n",
    "plt.plot(history)\n",
    "plt.show()\n"
   ],
   "id": "f67f2871ed39d3d"
  },
  {
   "metadata": {},
   "cell_type": "markdown",
   "source": [
    "1. Prova noves configuracions de la xarxa afegint capes ocultes al `model`. Quina és la configuració que dona el menor error? \n",
    "2. En la descripció del conjunt de dades hem dit que la seva particularitat és que les dades estan a diferent escala. Torna a realitzar el procés de càrrega de dades, però abans de transformar-les a tensors, prova de normalitzar-les (pots mirar [aquest tutorial](https://interactivechaos.com/es/manual/tutorial-de-machine-learning/standardscaler)). Després, entrena un nou model i compara els resultats obtinguts.\n",
    "\n"
   ],
   "id": "52b321f0ced37a8"
  }
 ],
 "metadata": {
  "kernelspec": {
   "display_name": "Python 3",
   "language": "python",
   "name": "python3"
  },
  "language_info": {
   "codemirror_mode": {
    "name": "ipython",
    "version": 2
   },
   "file_extension": ".py",
   "mimetype": "text/x-python",
   "name": "python",
   "nbconvert_exporter": "python",
   "pygments_lexer": "ipython2",
   "version": "2.7.6"
  }
 },
 "nbformat": 4,
 "nbformat_minor": 5
}
