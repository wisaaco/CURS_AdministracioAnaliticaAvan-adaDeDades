{
 "cells": [
  {
   "cell_type": "markdown",
   "metadata": {},
   "source": [
    "<div align=\"center\">\n",
    "\n",
    "[![Open In Colab](https://colab.research.google.com/assets/colab-badge.png)](https://colab.research.google.com/github/wisaaco/CURS_AdministracioAnaliticaAvancadaDeDades/blob/main/lessons/1_python.ipynb)\n",
    "\n",
    "Si no funciona el botó podeu copiar el següent [enllaç](https://colab.research.google.com/github/wisaaco/CURS_AdministracioAnaliticaAvancadaDeDades/blob/main/lessons/1_python.ipynb)\n",
    "\n",
    "</div>"
   ]
  },
  {
   "cell_type": "markdown",
   "metadata": {},
   "source": [
    "# Unitat 3. Preparació de dades"
   ]
  },
  {
   "cell_type": "markdown",
   "metadata": {},
   "source": [
    "En aquesta unitat veurem tres punts esencials en la preparació de dades:\n",
    "- Neteja de dades\n",
    "- Normalizatció o Transformació\n",
    "- Anàlisi Estadística Prèvia"
   ]
  },
  {
   "cell_type": "markdown",
   "metadata": {},
   "source": [
    "## 3.1.  Neteja de Dades\n",
    "- 3.1.1. Detecció de valors mancants\n",
    "  - Ús de pandas per detectar valors nuls (isnull(), notnull())\n",
    "  - Visualització de valors mancants amb seaborn (heatmap)\n",
    "- 3.1.2. Imputació de dades mancants\n",
    "  - Omplir amb mitjanes, medians, modals (fillna())\n",
    "  - Imputació avançada amb SimpleImputer de sklearn\n",
    "- 3.1.3. Eliminació de dades duplicades\n",
    "  -  Ús de drop_duplicates()\n",
    "- 3.1.4. Correcció de dades inconsistents\n",
    "  - Estandardització de formats (majúscules/minúscules, dates, etc.)\n",
    "  - Ús de replace() per corregir valors erronis"
   ]
  },
  {
   "cell_type": "markdown",
   "metadata": {},
   "source": [
    "### 3.1.1. Detecció de valors mancants\n",
    "\n",
    "Pandas utilitza diferents valors sentinella per representar un valor mancant o desconegut (també conegut com a NA) depenent del tipus de dada: numpy.nan per a tipus de dades NumPy, NaT per a temps de NumPy, NA per a cadenes de text i enters\n"
   ]
  },
  {
   "cell_type": "code",
   "execution_count": 1,
   "metadata": {},
   "outputs": [
    {
     "data": {
      "text/html": [
       "<div>\n",
       "<style scoped>\n",
       "    .dataframe tbody tr th:only-of-type {\n",
       "        vertical-align: middle;\n",
       "    }\n",
       "\n",
       "    .dataframe tbody tr th {\n",
       "        vertical-align: top;\n",
       "    }\n",
       "\n",
       "    .dataframe thead th {\n",
       "        text-align: right;\n",
       "    }\n",
       "</style>\n",
       "<table border=\"1\" class=\"dataframe\">\n",
       "  <thead>\n",
       "    <tr style=\"text-align: right;\">\n",
       "      <th></th>\n",
       "      <th>CountryID</th>\n",
       "      <th>Continent</th>\n",
       "      <th>Adolescent fertility rate (%)</th>\n",
       "      <th>Adult literacy rate (%)</th>\n",
       "      <th>Gross national income per capita (PPP international $)</th>\n",
       "      <th>Net primary school enrolment ratio female (%)</th>\n",
       "      <th>Net primary school enrolment ratio male (%)</th>\n",
       "      <th>Population (in thousands) total</th>\n",
       "      <th>Population annual growth rate (%)</th>\n",
       "      <th>Population in urban areas (%)</th>\n",
       "      <th>...</th>\n",
       "      <th>Total_CO2_emissions</th>\n",
       "      <th>Total_income</th>\n",
       "      <th>Total_reserves</th>\n",
       "      <th>Trade_balance_goods_and_services</th>\n",
       "      <th>Under_five_mortality_from_CME</th>\n",
       "      <th>Under_five_mortality_from_IHME</th>\n",
       "      <th>Under_five_mortality_rate</th>\n",
       "      <th>Urban_population</th>\n",
       "      <th>Urban_population_growth</th>\n",
       "      <th>Urban_population_pct_of_total</th>\n",
       "    </tr>\n",
       "  </thead>\n",
       "  <tbody>\n",
       "    <tr>\n",
       "      <th>count</th>\n",
       "      <td>202.000000</td>\n",
       "      <td>202.000000</td>\n",
       "      <td>177.000000</td>\n",
       "      <td>131.000000</td>\n",
       "      <td>178.000000</td>\n",
       "      <td>179.000000</td>\n",
       "      <td>179.000000</td>\n",
       "      <td>1.930000e+02</td>\n",
       "      <td>193.000000</td>\n",
       "      <td>193.000000</td>\n",
       "      <td>...</td>\n",
       "      <td>1.860000e+02</td>\n",
       "      <td>1.780000e+02</td>\n",
       "      <td>128.000000</td>\n",
       "      <td>1.710000e+02</td>\n",
       "      <td>181.000000</td>\n",
       "      <td>170.000000</td>\n",
       "      <td>181.000000</td>\n",
       "      <td>1.880000e+02</td>\n",
       "      <td>188.000000</td>\n",
       "      <td>188.000000</td>\n",
       "    </tr>\n",
       "    <tr>\n",
       "      <th>mean</th>\n",
       "      <td>101.500000</td>\n",
       "      <td>3.579208</td>\n",
       "      <td>59.457627</td>\n",
       "      <td>78.871756</td>\n",
       "      <td>11250.112360</td>\n",
       "      <td>84.033520</td>\n",
       "      <td>85.698324</td>\n",
       "      <td>3.409805e+04</td>\n",
       "      <td>1.297927</td>\n",
       "      <td>54.911917</td>\n",
       "      <td>...</td>\n",
       "      <td>1.483596e+05</td>\n",
       "      <td>2.015567e+11</td>\n",
       "      <td>57.253516</td>\n",
       "      <td>3.424012e+08</td>\n",
       "      <td>56.677624</td>\n",
       "      <td>54.356471</td>\n",
       "      <td>56.677624</td>\n",
       "      <td>1.665763e+07</td>\n",
       "      <td>2.165851</td>\n",
       "      <td>55.195213</td>\n",
       "    </tr>\n",
       "    <tr>\n",
       "      <th>std</th>\n",
       "      <td>58.456537</td>\n",
       "      <td>1.808263</td>\n",
       "      <td>49.105286</td>\n",
       "      <td>20.415760</td>\n",
       "      <td>12586.753417</td>\n",
       "      <td>17.788047</td>\n",
       "      <td>15.451212</td>\n",
       "      <td>1.304957e+05</td>\n",
       "      <td>1.163864</td>\n",
       "      <td>23.554182</td>\n",
       "      <td>...</td>\n",
       "      <td>6.133091e+05</td>\n",
       "      <td>9.400689e+11</td>\n",
       "      <td>138.669298</td>\n",
       "      <td>5.943043e+10</td>\n",
       "      <td>60.060929</td>\n",
       "      <td>61.160556</td>\n",
       "      <td>60.060929</td>\n",
       "      <td>5.094867e+07</td>\n",
       "      <td>1.596628</td>\n",
       "      <td>23.742122</td>\n",
       "    </tr>\n",
       "    <tr>\n",
       "      <th>min</th>\n",
       "      <td>1.000000</td>\n",
       "      <td>1.000000</td>\n",
       "      <td>0.000000</td>\n",
       "      <td>23.600000</td>\n",
       "      <td>260.000000</td>\n",
       "      <td>6.000000</td>\n",
       "      <td>11.000000</td>\n",
       "      <td>2.000000e+00</td>\n",
       "      <td>-2.500000</td>\n",
       "      <td>10.000000</td>\n",
       "      <td>...</td>\n",
       "      <td>2.565000e+01</td>\n",
       "      <td>5.190000e+07</td>\n",
       "      <td>0.990000</td>\n",
       "      <td>-7.140000e+11</td>\n",
       "      <td>2.900000</td>\n",
       "      <td>3.000000</td>\n",
       "      <td>2.900000</td>\n",
       "      <td>1.545600e+04</td>\n",
       "      <td>-1.160000</td>\n",
       "      <td>10.000000</td>\n",
       "    </tr>\n",
       "    <tr>\n",
       "      <th>25%</th>\n",
       "      <td>51.250000</td>\n",
       "      <td>2.000000</td>\n",
       "      <td>19.000000</td>\n",
       "      <td>68.400000</td>\n",
       "      <td>2112.500000</td>\n",
       "      <td>79.000000</td>\n",
       "      <td>79.500000</td>\n",
       "      <td>1.340000e+03</td>\n",
       "      <td>0.500000</td>\n",
       "      <td>36.000000</td>\n",
       "      <td>...</td>\n",
       "      <td>1.672615e+03</td>\n",
       "      <td>3.317500e+09</td>\n",
       "      <td>16.292500</td>\n",
       "      <td>-1.210000e+09</td>\n",
       "      <td>12.400000</td>\n",
       "      <td>8.475000</td>\n",
       "      <td>12.400000</td>\n",
       "      <td>9.171623e+05</td>\n",
       "      <td>1.105000</td>\n",
       "      <td>35.650000</td>\n",
       "    </tr>\n",
       "    <tr>\n",
       "      <th>50%</th>\n",
       "      <td>101.500000</td>\n",
       "      <td>3.000000</td>\n",
       "      <td>46.000000</td>\n",
       "      <td>86.500000</td>\n",
       "      <td>6175.000000</td>\n",
       "      <td>90.000000</td>\n",
       "      <td>90.000000</td>\n",
       "      <td>6.762000e+03</td>\n",
       "      <td>1.300000</td>\n",
       "      <td>57.000000</td>\n",
       "      <td>...</td>\n",
       "      <td>1.021157e+04</td>\n",
       "      <td>1.145000e+10</td>\n",
       "      <td>28.515000</td>\n",
       "      <td>-2.240000e+08</td>\n",
       "      <td>29.980000</td>\n",
       "      <td>27.600000</td>\n",
       "      <td>29.980000</td>\n",
       "      <td>3.427661e+06</td>\n",
       "      <td>1.945000</td>\n",
       "      <td>57.300000</td>\n",
       "    </tr>\n",
       "    <tr>\n",
       "      <th>75%</th>\n",
       "      <td>151.750000</td>\n",
       "      <td>5.000000</td>\n",
       "      <td>91.000000</td>\n",
       "      <td>95.300000</td>\n",
       "      <td>14502.500000</td>\n",
       "      <td>96.000000</td>\n",
       "      <td>96.000000</td>\n",
       "      <td>2.173200e+04</td>\n",
       "      <td>2.100000</td>\n",
       "      <td>73.000000</td>\n",
       "      <td>...</td>\n",
       "      <td>6.549217e+04</td>\n",
       "      <td>8.680000e+10</td>\n",
       "      <td>55.310000</td>\n",
       "      <td>1.024000e+09</td>\n",
       "      <td>88.700000</td>\n",
       "      <td>82.900000</td>\n",
       "      <td>88.700000</td>\n",
       "      <td>9.837113e+06</td>\n",
       "      <td>3.252500</td>\n",
       "      <td>72.750000</td>\n",
       "    </tr>\n",
       "    <tr>\n",
       "      <th>max</th>\n",
       "      <td>202.000000</td>\n",
       "      <td>7.000000</td>\n",
       "      <td>199.000000</td>\n",
       "      <td>99.800000</td>\n",
       "      <td>60870.000000</td>\n",
       "      <td>100.000000</td>\n",
       "      <td>100.000000</td>\n",
       "      <td>1.328474e+06</td>\n",
       "      <td>4.300000</td>\n",
       "      <td>100.000000</td>\n",
       "      <td>...</td>\n",
       "      <td>5.776432e+06</td>\n",
       "      <td>1.100000e+13</td>\n",
       "      <td>1334.860000</td>\n",
       "      <td>1.390000e+11</td>\n",
       "      <td>267.000000</td>\n",
       "      <td>253.700000</td>\n",
       "      <td>267.000000</td>\n",
       "      <td>5.270000e+08</td>\n",
       "      <td>7.850000</td>\n",
       "      <td>100.000000</td>\n",
       "    </tr>\n",
       "  </tbody>\n",
       "</table>\n",
       "<p>8 rows × 357 columns</p>\n",
       "</div>"
      ],
      "text/plain": [
       "        CountryID   Continent  Adolescent fertility rate (%)  \\\n",
       "count  202.000000  202.000000                     177.000000   \n",
       "mean   101.500000    3.579208                      59.457627   \n",
       "std     58.456537    1.808263                      49.105286   \n",
       "min      1.000000    1.000000                       0.000000   \n",
       "25%     51.250000    2.000000                      19.000000   \n",
       "50%    101.500000    3.000000                      46.000000   \n",
       "75%    151.750000    5.000000                      91.000000   \n",
       "max    202.000000    7.000000                     199.000000   \n",
       "\n",
       "       Adult literacy rate (%)  \\\n",
       "count               131.000000   \n",
       "mean                 78.871756   \n",
       "std                  20.415760   \n",
       "min                  23.600000   \n",
       "25%                  68.400000   \n",
       "50%                  86.500000   \n",
       "75%                  95.300000   \n",
       "max                  99.800000   \n",
       "\n",
       "       Gross national income per capita (PPP international $)  \\\n",
       "count                                         178.000000        \n",
       "mean                                        11250.112360        \n",
       "std                                         12586.753417        \n",
       "min                                           260.000000        \n",
       "25%                                          2112.500000        \n",
       "50%                                          6175.000000        \n",
       "75%                                         14502.500000        \n",
       "max                                         60870.000000        \n",
       "\n",
       "       Net primary school enrolment ratio female (%)  \\\n",
       "count                                     179.000000   \n",
       "mean                                       84.033520   \n",
       "std                                        17.788047   \n",
       "min                                         6.000000   \n",
       "25%                                        79.000000   \n",
       "50%                                        90.000000   \n",
       "75%                                        96.000000   \n",
       "max                                       100.000000   \n",
       "\n",
       "       Net primary school enrolment ratio male (%)  \\\n",
       "count                                   179.000000   \n",
       "mean                                     85.698324   \n",
       "std                                      15.451212   \n",
       "min                                      11.000000   \n",
       "25%                                      79.500000   \n",
       "50%                                      90.000000   \n",
       "75%                                      96.000000   \n",
       "max                                     100.000000   \n",
       "\n",
       "       Population (in thousands) total  Population annual growth rate (%)  \\\n",
       "count                     1.930000e+02                         193.000000   \n",
       "mean                      3.409805e+04                           1.297927   \n",
       "std                       1.304957e+05                           1.163864   \n",
       "min                       2.000000e+00                          -2.500000   \n",
       "25%                       1.340000e+03                           0.500000   \n",
       "50%                       6.762000e+03                           1.300000   \n",
       "75%                       2.173200e+04                           2.100000   \n",
       "max                       1.328474e+06                           4.300000   \n",
       "\n",
       "       Population in urban areas (%)  ...  Total_CO2_emissions  Total_income  \\\n",
       "count                     193.000000  ...         1.860000e+02  1.780000e+02   \n",
       "mean                       54.911917  ...         1.483596e+05  2.015567e+11   \n",
       "std                        23.554182  ...         6.133091e+05  9.400689e+11   \n",
       "min                        10.000000  ...         2.565000e+01  5.190000e+07   \n",
       "25%                        36.000000  ...         1.672615e+03  3.317500e+09   \n",
       "50%                        57.000000  ...         1.021157e+04  1.145000e+10   \n",
       "75%                        73.000000  ...         6.549217e+04  8.680000e+10   \n",
       "max                       100.000000  ...         5.776432e+06  1.100000e+13   \n",
       "\n",
       "       Total_reserves  Trade_balance_goods_and_services  \\\n",
       "count      128.000000                      1.710000e+02   \n",
       "mean        57.253516                      3.424012e+08   \n",
       "std        138.669298                      5.943043e+10   \n",
       "min          0.990000                     -7.140000e+11   \n",
       "25%         16.292500                     -1.210000e+09   \n",
       "50%         28.515000                     -2.240000e+08   \n",
       "75%         55.310000                      1.024000e+09   \n",
       "max       1334.860000                      1.390000e+11   \n",
       "\n",
       "       Under_five_mortality_from_CME  Under_five_mortality_from_IHME  \\\n",
       "count                     181.000000                      170.000000   \n",
       "mean                       56.677624                       54.356471   \n",
       "std                        60.060929                       61.160556   \n",
       "min                         2.900000                        3.000000   \n",
       "25%                        12.400000                        8.475000   \n",
       "50%                        29.980000                       27.600000   \n",
       "75%                        88.700000                       82.900000   \n",
       "max                       267.000000                      253.700000   \n",
       "\n",
       "       Under_five_mortality_rate  Urban_population  Urban_population_growth  \\\n",
       "count                 181.000000      1.880000e+02               188.000000   \n",
       "mean                   56.677624      1.665763e+07                 2.165851   \n",
       "std                    60.060929      5.094867e+07                 1.596628   \n",
       "min                     2.900000      1.545600e+04                -1.160000   \n",
       "25%                    12.400000      9.171623e+05                 1.105000   \n",
       "50%                    29.980000      3.427661e+06                 1.945000   \n",
       "75%                    88.700000      9.837113e+06                 3.252500   \n",
       "max                   267.000000      5.270000e+08                 7.850000   \n",
       "\n",
       "       Urban_population_pct_of_total  \n",
       "count                     188.000000  \n",
       "mean                       55.195213  \n",
       "std                        23.742122  \n",
       "min                        10.000000  \n",
       "25%                        35.650000  \n",
       "50%                        57.300000  \n",
       "75%                        72.750000  \n",
       "max                       100.000000  \n",
       "\n",
       "[8 rows x 357 columns]"
      ]
     },
     "execution_count": 1,
     "metadata": {},
     "output_type": "execute_result"
    }
   ],
   "source": [
    "import pandas as pd\n",
    "df = pd.read_csv(\"data/WHO.csv\")\n",
    "df.describe()"
   ]
  },
  {
   "cell_type": "code",
   "execution_count": 2,
   "metadata": {},
   "outputs": [
    {
     "data": {
      "text/plain": [
       "Country                           202\n",
       "CountryID                         202\n",
       "Continent                         202\n",
       "Adolescent fertility rate (%)     177\n",
       "Adult literacy rate (%)           131\n",
       "                                 ... \n",
       "Under_five_mortality_from_IHME    170\n",
       "Under_five_mortality_rate         181\n",
       "Urban_population                  188\n",
       "Urban_population_growth           188\n",
       "Urban_population_pct_of_total     188\n",
       "Length: 358, dtype: int64"
      ]
     },
     "execution_count": 2,
     "metadata": {},
     "output_type": "execute_result"
    }
   ],
   "source": [
    "df.count()"
   ]
  },
  {
   "cell_type": "markdown",
   "metadata": {},
   "source": [
    "Si observem la fila de valors de `count`, veiem que no totes les columnes tenen el mateix número. Hi ha valors desconeguts o perduts."
   ]
  },
  {
   "cell_type": "code",
   "execution_count": 5,
   "metadata": {},
   "outputs": [
    {
     "data": {
      "text/plain": [
       "0      28.0\n",
       "1      98.7\n",
       "2      69.9\n",
       "3       NaN\n",
       "4      67.4\n",
       "       ... \n",
       "197    90.3\n",
       "198     NaN\n",
       "199    54.1\n",
       "200    68.0\n",
       "201    89.5\n",
       "Name: Adult literacy rate (%), Length: 202, dtype: float64"
      ]
     },
     "execution_count": 5,
     "metadata": {},
     "output_type": "execute_result"
    }
   ],
   "source": [
    "df.loc[:,\"Adult literacy rate (%)\"]"
   ]
  },
  {
   "cell_type": "code",
   "execution_count": 6,
   "metadata": {},
   "outputs": [
    {
     "data": {
      "text/plain": [
       "0      False\n",
       "1      False\n",
       "2      False\n",
       "3       True\n",
       "4      False\n",
       "       ...  \n",
       "197    False\n",
       "198     True\n",
       "199    False\n",
       "200    False\n",
       "201    False\n",
       "Name: Adult literacy rate (%), Length: 202, dtype: bool"
      ]
     },
     "execution_count": 6,
     "metadata": {},
     "output_type": "execute_result"
    }
   ],
   "source": [
    "# Podem veure quants valors son NA\n",
    "df.loc[:,\"Adult literacy rate (%)\"].isna()"
   ]
  },
  {
   "cell_type": "code",
   "execution_count": 7,
   "metadata": {},
   "outputs": [
    {
     "data": {
      "text/plain": [
       "0      False\n",
       "1      False\n",
       "2      False\n",
       "3       True\n",
       "4      False\n",
       "       ...  \n",
       "197    False\n",
       "198     True\n",
       "199    False\n",
       "200    False\n",
       "201    False\n",
       "Name: Adult literacy rate (%), Length: 202, dtype: bool"
      ]
     },
     "execution_count": 7,
     "metadata": {},
     "output_type": "execute_result"
    }
   ],
   "source": [
    "df.loc[:,\"Adult literacy rate (%)\"].isnull() #és un alias de isna"
   ]
  },
  {
   "cell_type": "code",
   "execution_count": 9,
   "metadata": {},
   "outputs": [
    {
     "data": {
      "text/plain": [
       "0       True\n",
       "1       True\n",
       "2       True\n",
       "3      False\n",
       "4       True\n",
       "       ...  \n",
       "197     True\n",
       "198    False\n",
       "199     True\n",
       "200     True\n",
       "201     True\n",
       "Name: Adult literacy rate (%), Length: 202, dtype: bool"
      ]
     },
     "execution_count": 9,
     "metadata": {},
     "output_type": "execute_result"
    }
   ],
   "source": [
    "df.loc[:,\"Adult literacy rate (%)\"].notnull() #la negació"
   ]
  },
  {
   "cell_type": "code",
   "execution_count": 29,
   "metadata": {},
   "outputs": [
    {
     "data": {
      "text/plain": [
       "Country                           1.000000\n",
       "CountryID                         1.000000\n",
       "Continent                         1.000000\n",
       "Adolescent fertility rate (%)     0.876238\n",
       "Adult literacy rate (%)           0.648515\n",
       "                                    ...   \n",
       "Under_five_mortality_from_IHME    0.841584\n",
       "Under_five_mortality_rate         0.896040\n",
       "Urban_population                  0.930693\n",
       "Urban_population_growth           0.930693\n",
       "Urban_population_pct_of_total     0.930693\n",
       "Length: 358, dtype: float64"
      ]
     },
     "execution_count": 29,
     "metadata": {},
     "output_type": "execute_result"
    }
   ],
   "source": [
    "df.count()/df.shape[0] # el %  de valors coneguts en les columnes"
   ]
  },
  {
   "cell_type": "markdown",
   "metadata": {},
   "source": [
    "Podem visualitzar els valors NA"
   ]
  },
  {
   "cell_type": "code",
   "execution_count": 18,
   "metadata": {},
   "outputs": [
    {
     "data": {
      "image/png": "[encoded data removed]",
      "text/plain": [
       "<Figure size 800x600 with 1 Axes>"
      ]
     },
     "metadata": {},
     "output_type": "display_data"
    }
   ],
   "source": [
    "import seaborn as sns\n",
    "import matplotlib.pyplot as plt\n",
    "\n",
    "plt.figure(figsize=(8, 6))\n",
    "df[\"Adult literacy rate (%)\"].plot(kind=\"bar\") #No hi ha un cojunt \n",
    "plt.show()\n",
    "\n"
   ]
  },
  {
   "cell_type": "code",
   "execution_count": 31,
   "metadata": {},
   "outputs": [
    {
     "data": {
      "image/png": "[encoded data removed]",
      "text/plain": [
       "<Figure size 800x600 with 1 Axes>"
      ]
     },
     "metadata": {},
     "output_type": "display_data"
    }
   ],
   "source": [
    "plt.figure(figsize=(8, 6))\n",
    "sns.heatmap(df.iloc[:,:10].isnull(), cbar=False, cmap='viridis') #en groc els valors desconeguts\n",
    "plt.show()"
   ]
  },
  {
   "cell_type": "code",
   "execution_count": 46,
   "metadata": {},
   "outputs": [
    {
     "name": "stdout",
     "output_type": "stream",
     "text": [
      "nan\n",
      "----------\n",
      "nan\n",
      "----------\n",
      "a    2.333333\n",
      "dtype: float64\n",
      "----------\n",
      "2.3333333333333335\n"
     ]
    }
   ],
   "source": [
    "import numpy as np #En un arrray de numyy un valor NA impossibilita certes operacions.\n",
    "a = np.array([1.0, 2.0, np.nan, 4.0])\n",
    "print(a.mean())\n",
    "print(\"-\"*10)\n",
    "print(a.sum())\n",
    "print(\"-\"*10)\n",
    "\n",
    "data = {'a': a}\n",
    "df = pd.DataFrame(data) #en Pandas No\n",
    "print(df.mean())\n",
    "print(\"-\"*10)\n",
    "print(df.a.mean())"
   ]
  },
  {
   "cell_type": "code",
   "execution_count": 61,
   "metadata": {},
   "outputs": [
    {
     "name": "stdout",
     "output_type": "stream",
     "text": [
      "[ 1.  2. nan  4.]\n",
      "[ 1.  3. nan nan]\n"
     ]
    }
   ],
   "source": [
    "print(a)\n",
    "print(a.cumsum()) #També afecta a altres operaciones aritmètiques\n"
   ]
  },
  {
   "cell_type": "markdown",
   "metadata": {},
   "source": [
    "### Activitat"
   ]
  },
  {
   "cell_type": "code",
   "execution_count": 30,
   "metadata": {},
   "outputs": [],
   "source": [
    "# Cuants valors desconeguts té el país: Italy?"
   ]
  },
  {
   "cell_type": "code",
   "execution_count": null,
   "metadata": {},
   "outputs": [],
   "source": [
    "# Quin és el país amb més valors desconeguts?\n"
   ]
  },
  {
   "cell_type": "code",
   "execution_count": 47,
   "metadata": {},
   "outputs": [],
   "source": [
    "# Quina es la mitja de valors desconeguts considerant tot el dataframe?"
   ]
  },
  {
   "cell_type": "code",
   "execution_count": null,
   "metadata": {},
   "outputs": [],
   "source": []
  },
  {
   "cell_type": "markdown",
   "metadata": {},
   "source": [
    "### 3.1.2. Imputació de dades mancants\n",
    "Omplir amb mitjanes, medians, modals (fillna())\n",
    "\n",
    "Per a certs càlculs o visualitzacions ens interessa omplir els espais deixats pels NA."
   ]
  },
  {
   "cell_type": "code",
   "execution_count": 55,
   "metadata": {},
   "outputs": [
    {
     "data": {
      "text/html": [
       "<div>\n",
       "<style scoped>\n",
       "    .dataframe tbody tr th:only-of-type {\n",
       "        vertical-align: middle;\n",
       "    }\n",
       "\n",
       "    .dataframe tbody tr th {\n",
       "        vertical-align: top;\n",
       "    }\n",
       "\n",
       "    .dataframe thead th {\n",
       "        text-align: right;\n",
       "    }\n",
       "</style>\n",
       "<table border=\"1\" class=\"dataframe\">\n",
       "  <thead>\n",
       "    <tr style=\"text-align: right;\">\n",
       "      <th></th>\n",
       "      <th>a</th>\n",
       "    </tr>\n",
       "  </thead>\n",
       "  <tbody>\n",
       "    <tr>\n",
       "      <th>0</th>\n",
       "      <td>0</td>\n",
       "    </tr>\n",
       "    <tr>\n",
       "      <th>1</th>\n",
       "      <td>1</td>\n",
       "    </tr>\n",
       "    <tr>\n",
       "      <th>2</th>\n",
       "      <td>2</td>\n",
       "    </tr>\n",
       "    <tr>\n",
       "      <th>3</th>\n",
       "      <td>3</td>\n",
       "    </tr>\n",
       "    <tr>\n",
       "      <th>4</th>\n",
       "      <td>4</td>\n",
       "    </tr>\n",
       "  </tbody>\n",
       "</table>\n",
       "</div>"
      ],
      "text/plain": [
       "   a\n",
       "0  0\n",
       "1  1\n",
       "2  2\n",
       "3  3\n",
       "4  4"
      ]
     },
     "execution_count": 55,
     "metadata": {},
     "output_type": "execute_result"
    }
   ],
   "source": [
    "data = {'a': list(range(5))}\n",
    "df = pd.DataFrame(data)\n",
    "df"
   ]
  },
  {
   "cell_type": "code",
   "execution_count": 59,
   "metadata": {},
   "outputs": [
    {
     "data": {
      "text/html": [
       "<div>\n",
       "<style scoped>\n",
       "    .dataframe tbody tr th:only-of-type {\n",
       "        vertical-align: middle;\n",
       "    }\n",
       "\n",
       "    .dataframe tbody tr th {\n",
       "        vertical-align: top;\n",
       "    }\n",
       "\n",
       "    .dataframe thead th {\n",
       "        text-align: right;\n",
       "    }\n",
       "</style>\n",
       "<table border=\"1\" class=\"dataframe\">\n",
       "  <thead>\n",
       "    <tr style=\"text-align: right;\">\n",
       "      <th></th>\n",
       "      <th>a</th>\n",
       "    </tr>\n",
       "  </thead>\n",
       "  <tbody>\n",
       "    <tr>\n",
       "      <th>0</th>\n",
       "      <td>0.0</td>\n",
       "    </tr>\n",
       "    <tr>\n",
       "      <th>1</th>\n",
       "      <td>NaN</td>\n",
       "    </tr>\n",
       "    <tr>\n",
       "      <th>2</th>\n",
       "      <td>NaN</td>\n",
       "    </tr>\n",
       "    <tr>\n",
       "      <th>3</th>\n",
       "      <td>3.0</td>\n",
       "    </tr>\n",
       "    <tr>\n",
       "      <th>4</th>\n",
       "      <td>4.0</td>\n",
       "    </tr>\n",
       "  </tbody>\n",
       "</table>\n",
       "</div>"
      ],
      "text/plain": [
       "     a\n",
       "0  0.0\n",
       "1  NaN\n",
       "2  NaN\n",
       "3  3.0\n",
       "4  4.0"
      ]
     },
     "execution_count": 59,
     "metadata": {},
     "output_type": "execute_result"
    }
   ],
   "source": [
    "df.loc[1:2,\"a\"]=None #Insercció de NA\n",
    "df.loc[1:2,\"a\"]=np.nan #semblant. Pandas detecta el tipus de la sèrie\n",
    "df"
   ]
  },
  {
   "cell_type": "code",
   "execution_count": 57,
   "metadata": {},
   "outputs": [
    {
     "data": {
      "text/plain": [
       "a    2.333333\n",
       "dtype: float64"
      ]
     },
     "execution_count": 57,
     "metadata": {},
     "output_type": "execute_result"
    }
   ],
   "source": [
    "df.mean()"
   ]
  },
  {
   "cell_type": "markdown",
   "metadata": {},
   "source": [
    "Podem omplir amb valors"
   ]
  },
  {
   "cell_type": "code",
   "execution_count": 62,
   "metadata": {},
   "outputs": [
    {
     "data": {
      "text/html": [
       "<div>\n",
       "<style scoped>\n",
       "    .dataframe tbody tr th:only-of-type {\n",
       "        vertical-align: middle;\n",
       "    }\n",
       "\n",
       "    .dataframe tbody tr th {\n",
       "        vertical-align: top;\n",
       "    }\n",
       "\n",
       "    .dataframe thead th {\n",
       "        text-align: right;\n",
       "    }\n",
       "</style>\n",
       "<table border=\"1\" class=\"dataframe\">\n",
       "  <thead>\n",
       "    <tr style=\"text-align: right;\">\n",
       "      <th></th>\n",
       "      <th>a</th>\n",
       "    </tr>\n",
       "  </thead>\n",
       "  <tbody>\n",
       "    <tr>\n",
       "      <th>0</th>\n",
       "      <td>0.0</td>\n",
       "    </tr>\n",
       "    <tr>\n",
       "      <th>1</th>\n",
       "      <td>0.0</td>\n",
       "    </tr>\n",
       "    <tr>\n",
       "      <th>2</th>\n",
       "      <td>0.0</td>\n",
       "    </tr>\n",
       "    <tr>\n",
       "      <th>3</th>\n",
       "      <td>3.0</td>\n",
       "    </tr>\n",
       "    <tr>\n",
       "      <th>4</th>\n",
       "      <td>4.0</td>\n",
       "    </tr>\n",
       "  </tbody>\n",
       "</table>\n",
       "</div>"
      ],
      "text/plain": [
       "     a\n",
       "0  0.0\n",
       "1  0.0\n",
       "2  0.0\n",
       "3  3.0\n",
       "4  4.0"
      ]
     },
     "execution_count": 62,
     "metadata": {},
     "output_type": "execute_result"
    }
   ],
   "source": [
    "df.fillna(0)"
   ]
  },
  {
   "cell_type": "code",
   "execution_count": 68,
   "metadata": {},
   "outputs": [
    {
     "data": {
      "text/html": [
       "<div>\n",
       "<style scoped>\n",
       "    .dataframe tbody tr th:only-of-type {\n",
       "        vertical-align: middle;\n",
       "    }\n",
       "\n",
       "    .dataframe tbody tr th {\n",
       "        vertical-align: top;\n",
       "    }\n",
       "\n",
       "    .dataframe thead th {\n",
       "        text-align: right;\n",
       "    }\n",
       "</style>\n",
       "<table border=\"1\" class=\"dataframe\">\n",
       "  <thead>\n",
       "    <tr style=\"text-align: right;\">\n",
       "      <th></th>\n",
       "      <th>a</th>\n",
       "    </tr>\n",
       "  </thead>\n",
       "  <tbody>\n",
       "    <tr>\n",
       "      <th>0</th>\n",
       "      <td>-1.0</td>\n",
       "    </tr>\n",
       "    <tr>\n",
       "      <th>1</th>\n",
       "      <td>2.0</td>\n",
       "    </tr>\n",
       "    <tr>\n",
       "      <th>2</th>\n",
       "      <td>2.0</td>\n",
       "    </tr>\n",
       "    <tr>\n",
       "      <th>3</th>\n",
       "      <td>3.0</td>\n",
       "    </tr>\n",
       "    <tr>\n",
       "      <th>4</th>\n",
       "      <td>4.0</td>\n",
       "    </tr>\n",
       "  </tbody>\n",
       "</table>\n",
       "</div>"
      ],
      "text/plain": [
       "     a\n",
       "0 -1.0\n",
       "1  2.0\n",
       "2  2.0\n",
       "3  3.0\n",
       "4  4.0"
      ]
     },
     "execution_count": 68,
     "metadata": {},
     "output_type": "execute_result"
    }
   ],
   "source": [
    "df.fillna(df.mean())"
   ]
  },
  {
   "cell_type": "code",
   "execution_count": 65,
   "metadata": {},
   "outputs": [
    {
     "data": {
      "text/html": [
       "<div>\n",
       "<style scoped>\n",
       "    .dataframe tbody tr th:only-of-type {\n",
       "        vertical-align: middle;\n",
       "    }\n",
       "\n",
       "    .dataframe tbody tr th {\n",
       "        vertical-align: top;\n",
       "    }\n",
       "\n",
       "    .dataframe thead th {\n",
       "        text-align: right;\n",
       "    }\n",
       "</style>\n",
       "<table border=\"1\" class=\"dataframe\">\n",
       "  <thead>\n",
       "    <tr style=\"text-align: right;\">\n",
       "      <th></th>\n",
       "      <th>a</th>\n",
       "    </tr>\n",
       "  </thead>\n",
       "  <tbody>\n",
       "    <tr>\n",
       "      <th>0</th>\n",
       "      <td>-1.0</td>\n",
       "    </tr>\n",
       "    <tr>\n",
       "      <th>1</th>\n",
       "      <td>-1.0</td>\n",
       "    </tr>\n",
       "    <tr>\n",
       "      <th>2</th>\n",
       "      <td>-1.0</td>\n",
       "    </tr>\n",
       "    <tr>\n",
       "      <th>3</th>\n",
       "      <td>3.0</td>\n",
       "    </tr>\n",
       "    <tr>\n",
       "      <th>4</th>\n",
       "      <td>4.0</td>\n",
       "    </tr>\n",
       "  </tbody>\n",
       "</table>\n",
       "</div>"
      ],
      "text/plain": [
       "     a\n",
       "0 -1.0\n",
       "1 -1.0\n",
       "2 -1.0\n",
       "3  3.0\n",
       "4  4.0"
      ]
     },
     "execution_count": 65,
     "metadata": {},
     "output_type": "execute_result"
    }
   ],
   "source": [
    "df.loc[0,\"a\"]=-1\n",
    "df.ffill()  #Agafant el primer valor"
   ]
  },
  {
   "cell_type": "code",
   "execution_count": 66,
   "metadata": {},
   "outputs": [
    {
     "data": {
      "text/html": [
       "<div>\n",
       "<style scoped>\n",
       "    .dataframe tbody tr th:only-of-type {\n",
       "        vertical-align: middle;\n",
       "    }\n",
       "\n",
       "    .dataframe tbody tr th {\n",
       "        vertical-align: top;\n",
       "    }\n",
       "\n",
       "    .dataframe thead th {\n",
       "        text-align: right;\n",
       "    }\n",
       "</style>\n",
       "<table border=\"1\" class=\"dataframe\">\n",
       "  <thead>\n",
       "    <tr style=\"text-align: right;\">\n",
       "      <th></th>\n",
       "      <th>a</th>\n",
       "    </tr>\n",
       "  </thead>\n",
       "  <tbody>\n",
       "    <tr>\n",
       "      <th>0</th>\n",
       "      <td>-1.0</td>\n",
       "    </tr>\n",
       "    <tr>\n",
       "      <th>1</th>\n",
       "      <td>3.0</td>\n",
       "    </tr>\n",
       "    <tr>\n",
       "      <th>2</th>\n",
       "      <td>3.0</td>\n",
       "    </tr>\n",
       "    <tr>\n",
       "      <th>3</th>\n",
       "      <td>3.0</td>\n",
       "    </tr>\n",
       "    <tr>\n",
       "      <th>4</th>\n",
       "      <td>4.0</td>\n",
       "    </tr>\n",
       "  </tbody>\n",
       "</table>\n",
       "</div>"
      ],
      "text/plain": [
       "     a\n",
       "0 -1.0\n",
       "1  3.0\n",
       "2  3.0\n",
       "3  3.0\n",
       "4  4.0"
      ]
     },
     "execution_count": 66,
     "metadata": {},
     "output_type": "execute_result"
    }
   ],
   "source": [
    "df.bfill() #Agafant l'anterior valor"
   ]
  },
  {
   "cell_type": "code",
   "execution_count": 69,
   "metadata": {},
   "outputs": [
    {
     "data": {
      "text/html": [
       "<div>\n",
       "<style scoped>\n",
       "    .dataframe tbody tr th:only-of-type {\n",
       "        vertical-align: middle;\n",
       "    }\n",
       "\n",
       "    .dataframe tbody tr th {\n",
       "        vertical-align: top;\n",
       "    }\n",
       "\n",
       "    .dataframe thead th {\n",
       "        text-align: right;\n",
       "    }\n",
       "</style>\n",
       "<table border=\"1\" class=\"dataframe\">\n",
       "  <thead>\n",
       "    <tr style=\"text-align: right;\">\n",
       "      <th></th>\n",
       "      <th>a</th>\n",
       "    </tr>\n",
       "  </thead>\n",
       "  <tbody>\n",
       "    <tr>\n",
       "      <th>0</th>\n",
       "      <td>-1.000000</td>\n",
       "    </tr>\n",
       "    <tr>\n",
       "      <th>1</th>\n",
       "      <td>0.333333</td>\n",
       "    </tr>\n",
       "    <tr>\n",
       "      <th>2</th>\n",
       "      <td>1.666667</td>\n",
       "    </tr>\n",
       "    <tr>\n",
       "      <th>3</th>\n",
       "      <td>3.000000</td>\n",
       "    </tr>\n",
       "    <tr>\n",
       "      <th>4</th>\n",
       "      <td>4.000000</td>\n",
       "    </tr>\n",
       "  </tbody>\n",
       "</table>\n",
       "</div>"
      ],
      "text/plain": [
       "          a\n",
       "0 -1.000000\n",
       "1  0.333333\n",
       "2  1.666667\n",
       "3  3.000000\n",
       "4  4.000000"
      ]
     },
     "execution_count": 69,
     "metadata": {},
     "output_type": "execute_result"
    }
   ],
   "source": [
    "df.interpolate() # o per interpolació, i amb diferents paràmetres\n",
    "# https://pandas.pydata.org/docs/reference/api/pandas.DataFrame.interpolate.html#pandas.DataFrame.interpolate\n"
   ]
  },
  {
   "cell_type": "markdown",
   "metadata": {},
   "source": [
    "### Activitat"
   ]
  },
  {
   "cell_type": "code",
   "execution_count": 71,
   "metadata": {},
   "outputs": [
    {
     "data": {
      "image/png": "[encoded data removed]",
      "text/plain": [
       "<Figure size 800x600 with 1 Axes>"
      ]
     },
     "metadata": {},
     "output_type": "display_data"
    }
   ],
   "source": [
    "import seaborn as sns\n",
    "import matplotlib.pyplot as plt\n",
    "\n",
    "df = pd.read_csv(\"data/WHO.csv\")\n",
    "\n",
    "plt.figure(figsize=(8, 6))\n",
    "df[\"Adult literacy rate (%)\"].plot(kind=\"bar\") #No hi ha un cojunt \n",
    "plt.show()\n",
    "\n",
    "# Visualitza la columna 'adult literacy rate (%)' on els seus NA siguin el percentil 25% de la seva sèrie."
   ]
  },
  {
   "cell_type": "markdown",
   "metadata": {},
   "source": [
    "El mètode `SimpleImputer`de la llibrería Sklearn, també permet altres subtitucions de NAs.\n",
    "Referència: https://scikit-learn.org/1.5/modules/generated/sklearn.impute.SimpleImputer.html"
   ]
  },
  {
   "cell_type": "code",
   "execution_count": 75,
   "metadata": {},
   "outputs": [
    {
     "name": "stdout",
     "output_type": "stream",
     "text": [
      "     a\n",
      "0  1.0\n",
      "1  2.0\n",
      "2  NaN\n",
      "3  4.0\n",
      "4  4.0\n"
     ]
    }
   ],
   "source": [
    "from sklearn.impute import SimpleImputer\n",
    "\n",
    "data = {'a': [1,2,None,4, 4]}\n",
    "df = pd.DataFrame(data)\n",
    "print(df)"
   ]
  },
  {
   "cell_type": "code",
   "execution_count": 77,
   "metadata": {},
   "outputs": [
    {
     "data": {
      "text/html": [
       "<div>\n",
       "<style scoped>\n",
       "    .dataframe tbody tr th:only-of-type {\n",
       "        vertical-align: middle;\n",
       "    }\n",
       "\n",
       "    .dataframe tbody tr th {\n",
       "        vertical-align: top;\n",
       "    }\n",
       "\n",
       "    .dataframe thead th {\n",
       "        text-align: right;\n",
       "    }\n",
       "</style>\n",
       "<table border=\"1\" class=\"dataframe\">\n",
       "  <thead>\n",
       "    <tr style=\"text-align: right;\">\n",
       "      <th></th>\n",
       "      <th>a</th>\n",
       "    </tr>\n",
       "  </thead>\n",
       "  <tbody>\n",
       "    <tr>\n",
       "      <th>0</th>\n",
       "      <td>1.00</td>\n",
       "    </tr>\n",
       "    <tr>\n",
       "      <th>1</th>\n",
       "      <td>2.00</td>\n",
       "    </tr>\n",
       "    <tr>\n",
       "      <th>2</th>\n",
       "      <td>2.75</td>\n",
       "    </tr>\n",
       "    <tr>\n",
       "      <th>3</th>\n",
       "      <td>4.00</td>\n",
       "    </tr>\n",
       "    <tr>\n",
       "      <th>4</th>\n",
       "      <td>4.00</td>\n",
       "    </tr>\n",
       "  </tbody>\n",
       "</table>\n",
       "</div>"
      ],
      "text/plain": [
       "      a\n",
       "0  1.00\n",
       "1  2.00\n",
       "2  2.75\n",
       "3  4.00\n",
       "4  4.00"
      ]
     },
     "execution_count": 77,
     "metadata": {},
     "output_type": "execute_result"
    }
   ],
   "source": [
    "imputer = SimpleImputer(strategy='mean') # 'mean' , 'median', 'most_frequent', o 'constant'\n",
    "df_imputed = pd.DataFrame(imputer.fit_transform(df), columns=df.columns)\n",
    "df_imputed"
   ]
  },
  {
   "cell_type": "code",
   "execution_count": 78,
   "metadata": {},
   "outputs": [
    {
     "data": {
      "text/html": [
       "<div>\n",
       "<style scoped>\n",
       "    .dataframe tbody tr th:only-of-type {\n",
       "        vertical-align: middle;\n",
       "    }\n",
       "\n",
       "    .dataframe tbody tr th {\n",
       "        vertical-align: top;\n",
       "    }\n",
       "\n",
       "    .dataframe thead th {\n",
       "        text-align: right;\n",
       "    }\n",
       "</style>\n",
       "<table border=\"1\" class=\"dataframe\">\n",
       "  <thead>\n",
       "    <tr style=\"text-align: right;\">\n",
       "      <th></th>\n",
       "      <th>a</th>\n",
       "    </tr>\n",
       "  </thead>\n",
       "  <tbody>\n",
       "    <tr>\n",
       "      <th>0</th>\n",
       "      <td>1.0</td>\n",
       "    </tr>\n",
       "    <tr>\n",
       "      <th>1</th>\n",
       "      <td>2.0</td>\n",
       "    </tr>\n",
       "    <tr>\n",
       "      <th>2</th>\n",
       "      <td>4.0</td>\n",
       "    </tr>\n",
       "    <tr>\n",
       "      <th>3</th>\n",
       "      <td>4.0</td>\n",
       "    </tr>\n",
       "    <tr>\n",
       "      <th>4</th>\n",
       "      <td>4.0</td>\n",
       "    </tr>\n",
       "  </tbody>\n",
       "</table>\n",
       "</div>"
      ],
      "text/plain": [
       "     a\n",
       "0  1.0\n",
       "1  2.0\n",
       "2  4.0\n",
       "3  4.0\n",
       "4  4.0"
      ]
     },
     "execution_count": 78,
     "metadata": {},
     "output_type": "execute_result"
    }
   ],
   "source": [
    "imputer = SimpleImputer(strategy='most_frequent') # 'mean' , 'median', 'most_frequent', o 'constant'\n",
    "df_imputed = pd.DataFrame(imputer.fit_transform(df), columns=df.columns)\n",
    "df_imputed"
   ]
  },
  {
   "cell_type": "markdown",
   "metadata": {},
   "source": [
    "### 3.1.3. Eliminació de dades duplicades\n",
    "\n",
    "Les mostres d'un estudi poden estar duplicades. Hi ha mètodes a Pandas per trobar o eliminar aquestes mostres."
   ]
  },
  {
   "cell_type": "code",
   "execution_count": 81,
   "metadata": {},
   "outputs": [
    {
     "data": {
      "text/html": [
       "<div>\n",
       "<style scoped>\n",
       "    .dataframe tbody tr th:only-of-type {\n",
       "        vertical-align: middle;\n",
       "    }\n",
       "\n",
       "    .dataframe tbody tr th {\n",
       "        vertical-align: top;\n",
       "    }\n",
       "\n",
       "    .dataframe thead th {\n",
       "        text-align: right;\n",
       "    }\n",
       "</style>\n",
       "<table border=\"1\" class=\"dataframe\">\n",
       "  <thead>\n",
       "    <tr style=\"text-align: right;\">\n",
       "      <th></th>\n",
       "      <th>Country</th>\n",
       "      <th>CountryID</th>\n",
       "      <th>Continent</th>\n",
       "      <th>Adolescent fertility rate (%)</th>\n",
       "      <th>Adult literacy rate (%)</th>\n",
       "      <th>Gross national income per capita (PPP international $)</th>\n",
       "      <th>Net primary school enrolment ratio female (%)</th>\n",
       "      <th>Net primary school enrolment ratio male (%)</th>\n",
       "      <th>Population (in thousands) total</th>\n",
       "      <th>Population annual growth rate (%)</th>\n",
       "      <th>...</th>\n",
       "      <th>Total_CO2_emissions</th>\n",
       "      <th>Total_income</th>\n",
       "      <th>Total_reserves</th>\n",
       "      <th>Trade_balance_goods_and_services</th>\n",
       "      <th>Under_five_mortality_from_CME</th>\n",
       "      <th>Under_five_mortality_from_IHME</th>\n",
       "      <th>Under_five_mortality_rate</th>\n",
       "      <th>Urban_population</th>\n",
       "      <th>Urban_population_growth</th>\n",
       "      <th>Urban_population_pct_of_total</th>\n",
       "    </tr>\n",
       "  </thead>\n",
       "  <tbody>\n",
       "    <tr>\n",
       "      <th>0</th>\n",
       "      <td>Afghanistan</td>\n",
       "      <td>1</td>\n",
       "      <td>1</td>\n",
       "      <td>151.0</td>\n",
       "      <td>28.0</td>\n",
       "      <td>NaN</td>\n",
       "      <td>NaN</td>\n",
       "      <td>NaN</td>\n",
       "      <td>26088.0</td>\n",
       "      <td>4.0</td>\n",
       "      <td>...</td>\n",
       "      <td>692.50</td>\n",
       "      <td>NaN</td>\n",
       "      <td>NaN</td>\n",
       "      <td>NaN</td>\n",
       "      <td>257.00</td>\n",
       "      <td>231.9</td>\n",
       "      <td>257.00</td>\n",
       "      <td>5740436.0</td>\n",
       "      <td>5.44</td>\n",
       "      <td>22.9</td>\n",
       "    </tr>\n",
       "    <tr>\n",
       "      <th>1</th>\n",
       "      <td>Albania</td>\n",
       "      <td>2</td>\n",
       "      <td>2</td>\n",
       "      <td>27.0</td>\n",
       "      <td>98.7</td>\n",
       "      <td>6000.0</td>\n",
       "      <td>93.0</td>\n",
       "      <td>94.0</td>\n",
       "      <td>3172.0</td>\n",
       "      <td>0.6</td>\n",
       "      <td>...</td>\n",
       "      <td>3499.12</td>\n",
       "      <td>4.790000e+09</td>\n",
       "      <td>78.14</td>\n",
       "      <td>-2.040000e+09</td>\n",
       "      <td>18.47</td>\n",
       "      <td>15.5</td>\n",
       "      <td>18.47</td>\n",
       "      <td>1431793.9</td>\n",
       "      <td>2.21</td>\n",
       "      <td>45.4</td>\n",
       "    </tr>\n",
       "    <tr>\n",
       "      <th>2</th>\n",
       "      <td>Algeria</td>\n",
       "      <td>3</td>\n",
       "      <td>3</td>\n",
       "      <td>6.0</td>\n",
       "      <td>69.9</td>\n",
       "      <td>5940.0</td>\n",
       "      <td>94.0</td>\n",
       "      <td>96.0</td>\n",
       "      <td>33351.0</td>\n",
       "      <td>1.5</td>\n",
       "      <td>...</td>\n",
       "      <td>137535.56</td>\n",
       "      <td>6.970000e+10</td>\n",
       "      <td>351.36</td>\n",
       "      <td>4.700000e+09</td>\n",
       "      <td>40.00</td>\n",
       "      <td>31.2</td>\n",
       "      <td>40.00</td>\n",
       "      <td>20800000.0</td>\n",
       "      <td>2.61</td>\n",
       "      <td>63.3</td>\n",
       "    </tr>\n",
       "  </tbody>\n",
       "</table>\n",
       "<p>3 rows × 358 columns</p>\n",
       "</div>"
      ],
      "text/plain": [
       "       Country  CountryID  Continent  Adolescent fertility rate (%)  \\\n",
       "0  Afghanistan          1          1                          151.0   \n",
       "1      Albania          2          2                           27.0   \n",
       "2      Algeria          3          3                            6.0   \n",
       "\n",
       "   Adult literacy rate (%)  \\\n",
       "0                     28.0   \n",
       "1                     98.7   \n",
       "2                     69.9   \n",
       "\n",
       "   Gross national income per capita (PPP international $)  \\\n",
       "0                                                NaN        \n",
       "1                                             6000.0        \n",
       "2                                             5940.0        \n",
       "\n",
       "   Net primary school enrolment ratio female (%)  \\\n",
       "0                                            NaN   \n",
       "1                                           93.0   \n",
       "2                                           94.0   \n",
       "\n",
       "   Net primary school enrolment ratio male (%)  \\\n",
       "0                                          NaN   \n",
       "1                                         94.0   \n",
       "2                                         96.0   \n",
       "\n",
       "   Population (in thousands) total  Population annual growth rate (%)  ...  \\\n",
       "0                          26088.0                                4.0  ...   \n",
       "1                           3172.0                                0.6  ...   \n",
       "2                          33351.0                                1.5  ...   \n",
       "\n",
       "   Total_CO2_emissions  Total_income  Total_reserves  \\\n",
       "0               692.50           NaN             NaN   \n",
       "1              3499.12  4.790000e+09           78.14   \n",
       "2            137535.56  6.970000e+10          351.36   \n",
       "\n",
       "   Trade_balance_goods_and_services  Under_five_mortality_from_CME  \\\n",
       "0                               NaN                         257.00   \n",
       "1                     -2.040000e+09                          18.47   \n",
       "2                      4.700000e+09                          40.00   \n",
       "\n",
       "   Under_five_mortality_from_IHME  Under_five_mortality_rate  \\\n",
       "0                           231.9                     257.00   \n",
       "1                            15.5                      18.47   \n",
       "2                            31.2                      40.00   \n",
       "\n",
       "   Urban_population  Urban_population_growth  Urban_population_pct_of_total  \n",
       "0         5740436.0                     5.44                           22.9  \n",
       "1         1431793.9                     2.21                           45.4  \n",
       "2        20800000.0                     2.61                           63.3  \n",
       "\n",
       "[3 rows x 358 columns]"
      ]
     },
     "execution_count": 81,
     "metadata": {},
     "output_type": "execute_result"
    }
   ],
   "source": [
    "import pandas as pd\n",
    "df = pd.read_csv(\"data/WHO.csv\")\n",
    "df.head(3)"
   ]
  },
  {
   "cell_type": "code",
   "execution_count": 82,
   "metadata": {},
   "outputs": [
    {
     "data": {
      "text/plain": [
       "0      False\n",
       "1      False\n",
       "2      False\n",
       "3      False\n",
       "4      False\n",
       "       ...  \n",
       "197    False\n",
       "198    False\n",
       "199    False\n",
       "200    False\n",
       "201    False\n",
       "Length: 202, dtype: bool"
      ]
     },
     "execution_count": 82,
     "metadata": {},
     "output_type": "execute_result"
    }
   ],
   "source": [
    "df.duplicated()"
   ]
  },
  {
   "cell_type": "code",
   "execution_count": 83,
   "metadata": {},
   "outputs": [
    {
     "data": {
      "text/plain": [
       "0"
      ]
     },
     "execution_count": 83,
     "metadata": {},
     "output_type": "execute_result"
    }
   ],
   "source": [
    "df.duplicated().sum() # cap valor duplicat"
   ]
  },
  {
   "cell_type": "code",
   "execution_count": 87,
   "metadata": {},
   "outputs": [
    {
     "data": {
      "text/html": [
       "<div>\n",
       "<style scoped>\n",
       "    .dataframe tbody tr th:only-of-type {\n",
       "        vertical-align: middle;\n",
       "    }\n",
       "\n",
       "    .dataframe tbody tr th {\n",
       "        vertical-align: top;\n",
       "    }\n",
       "\n",
       "    .dataframe thead th {\n",
       "        text-align: right;\n",
       "    }\n",
       "</style>\n",
       "<table border=\"1\" class=\"dataframe\">\n",
       "  <thead>\n",
       "    <tr style=\"text-align: right;\">\n",
       "      <th></th>\n",
       "      <th>CP</th>\n",
       "      <th>Ciutat</th>\n",
       "      <th>Genere</th>\n",
       "      <th>Tipus certificat cat</th>\n",
       "      <th>Punts</th>\n",
       "    </tr>\n",
       "  </thead>\n",
       "  <tbody>\n",
       "    <tr>\n",
       "      <th>0</th>\n",
       "      <td>7800</td>\n",
       "      <td>Eivissa</td>\n",
       "      <td>M</td>\n",
       "      <td>B</td>\n",
       "      <td>73</td>\n",
       "    </tr>\n",
       "    <tr>\n",
       "      <th>1</th>\n",
       "      <td>7511</td>\n",
       "      <td>Ruberts</td>\n",
       "      <td>F</td>\n",
       "      <td>A</td>\n",
       "      <td>40</td>\n",
       "    </tr>\n",
       "    <tr>\n",
       "      <th>2</th>\n",
       "      <td>7340</td>\n",
       "      <td>Alaro</td>\n",
       "      <td>M</td>\n",
       "      <td>A</td>\n",
       "      <td>45</td>\n",
       "    </tr>\n",
       "    <tr>\n",
       "      <th>3</th>\n",
       "      <td>7609</td>\n",
       "      <td>Bellavista</td>\n",
       "      <td>F</td>\n",
       "      <td>B</td>\n",
       "      <td>40</td>\n",
       "    </tr>\n",
       "    <tr>\n",
       "      <th>4</th>\n",
       "      <td>7006</td>\n",
       "      <td>Palma</td>\n",
       "      <td>M</td>\n",
       "      <td>B</td>\n",
       "      <td>86</td>\n",
       "    </tr>\n",
       "    <tr>\n",
       "      <th>...</th>\n",
       "      <td>...</td>\n",
       "      <td>...</td>\n",
       "      <td>...</td>\n",
       "      <td>...</td>\n",
       "      <td>...</td>\n",
       "    </tr>\n",
       "    <tr>\n",
       "      <th>995</th>\n",
       "      <td>7529</td>\n",
       "      <td>Ariany</td>\n",
       "      <td>F</td>\n",
       "      <td>B</td>\n",
       "      <td>32</td>\n",
       "    </tr>\n",
       "    <tr>\n",
       "      <th>996</th>\n",
       "      <td>7701</td>\n",
       "      <td>Mao</td>\n",
       "      <td>M</td>\n",
       "      <td>B</td>\n",
       "      <td>72</td>\n",
       "    </tr>\n",
       "    <tr>\n",
       "      <th>997</th>\n",
       "      <td>7800</td>\n",
       "      <td>Eivissa</td>\n",
       "      <td>F</td>\n",
       "      <td>B</td>\n",
       "      <td>14</td>\n",
       "    </tr>\n",
       "    <tr>\n",
       "      <th>998</th>\n",
       "      <td>7009</td>\n",
       "      <td>Palma</td>\n",
       "      <td>M</td>\n",
       "      <td>A</td>\n",
       "      <td>1</td>\n",
       "    </tr>\n",
       "    <tr>\n",
       "      <th>999</th>\n",
       "      <td>7609</td>\n",
       "      <td>Bellavista</td>\n",
       "      <td>F</td>\n",
       "      <td>A</td>\n",
       "      <td>4</td>\n",
       "    </tr>\n",
       "  </tbody>\n",
       "</table>\n",
       "<p>1000 rows × 5 columns</p>\n",
       "</div>"
      ],
      "text/plain": [
       "       CP      Ciutat Genere Tipus certificat cat  Punts\n",
       "0    7800     Eivissa      M                    B     73\n",
       "1    7511     Ruberts      F                    A     40\n",
       "2    7340       Alaro      M                    A     45\n",
       "3    7609  Bellavista      F                    B     40\n",
       "4    7006       Palma      M                    B     86\n",
       "..    ...         ...    ...                  ...    ...\n",
       "995  7529      Ariany      F                    B     32\n",
       "996  7701         Mao      M                    B     72\n",
       "997  7800     Eivissa      F                    B     14\n",
       "998  7009       Palma      M                    A      1\n",
       "999  7609  Bellavista      F                    A      4\n",
       "\n",
       "[1000 rows x 5 columns]"
      ]
     },
     "execution_count": 87,
     "metadata": {},
     "output_type": "execute_result"
    }
   ],
   "source": [
    "df = pd.read_csv(\"data/data_groups.csv\")\n",
    "df.drop(columns=[df.columns[0],df.columns[1],df.columns[2]],inplace=True)\n",
    "df"
   ]
  },
  {
   "cell_type": "code",
   "execution_count": 89,
   "metadata": {},
   "outputs": [
    {
     "data": {
      "text/plain": [
       "81"
      ]
     },
     "execution_count": 89,
     "metadata": {},
     "output_type": "execute_result"
    }
   ],
   "source": [
    "df.duplicated().sum() #En aquest cas hi ha 81 "
   ]
  },
  {
   "cell_type": "code",
   "execution_count": 94,
   "metadata": {},
   "outputs": [
    {
     "data": {
      "text/plain": [
       "(array(['Alaro', 'Ariany', 'Bellavista', 'Binissalem', 'Eivissa',\n",
       "        'La Savina', 'Mao', 'Palma', 'Pedruscada', 'Ruberts'], dtype=object),\n",
       " array([120, 113,  98,  93,  91,  90, 108,  96, 106,  85]))"
      ]
     },
     "execution_count": 94,
     "metadata": {},
     "output_type": "execute_result"
    }
   ],
   "source": [
    "import numpy as np\n",
    "np.unique(df.Ciutat,return_counts=True) #Aquesta funció de numpy retorna els elements únics i, també, la seva freqüència.\n",
    "#Naturalment aquesta sèrie té valors repetits! "
   ]
  },
  {
   "cell_type": "code",
   "execution_count": 96,
   "metadata": {},
   "outputs": [
    {
     "data": {
      "text/plain": [
       "990"
      ]
     },
     "execution_count": 96,
     "metadata": {},
     "output_type": "execute_result"
    }
   ],
   "source": [
    "df.Ciutat.duplicated().sum()"
   ]
  },
  {
   "cell_type": "markdown",
   "metadata": {},
   "source": [
    "Segons el tipus d'estudi hem d'eliminar els 'duplicates', ja que podem representar anomalies d'un dispositiu, d'inclusió de dades (un duplicat d'una mateixa persona), etc."
   ]
  },
  {
   "cell_type": "code",
   "execution_count": 98,
   "metadata": {},
   "outputs": [
    {
     "name": "stdout",
     "output_type": "stream",
     "text": [
      "(919, 5)\n",
      "(1000, 5)\n"
     ]
    }
   ],
   "source": [
    "print(df.shape) #amb duplicats\n",
    "\n",
    "df_sense = df.drop_duplicates()\n",
    "\n",
    "print(df_sense.shape) #sense\n"
   ]
  },
  {
   "cell_type": "markdown",
   "metadata": {},
   "source": [
    "### Activitat\n",
    "\n",
    "Crea una llista de 100 nombres aleatoris entre 1 i 200, hi ha qualque `duplicate`?"
   ]
  },
  {
   "cell_type": "code",
   "execution_count": 102,
   "metadata": {},
   "outputs": [
    {
     "data": {
      "text/plain": [
       "array([0, 0, 0, 0, 1, 0, 0, 1, 1, 1])"
      ]
     },
     "execution_count": 102,
     "metadata": {},
     "output_type": "execute_result"
    }
   ],
   "source": [
    "import numpy as np\n",
    "np.random.seed(2024) #per repetir la mateixa seqüència aleatoria\n",
    "np.random.randint(0,2,10) #Tip d'ajuda"
   ]
  },
  {
   "cell_type": "markdown",
   "metadata": {},
   "source": [
    "### 3.1.4. Correcció de dades inconsistents"
   ]
  },
  {
   "cell_type": "markdown",
   "metadata": {},
   "source": [
    "La consistència numèrica depèn del tipus de variable i els seus valors, per exemple, és inconsistent trobar-se valors negatius de velocitat de vent. Podem eliminar aquestes mostres o reemplaçar aquests valors. \n",
    "\n",
    "I, per una altra banda, podem tractar també el seu format com la transformació d'elements puntuals de sèries textuals i temporals."
   ]
  },
  {
   "cell_type": "code",
   "execution_count": 123,
   "metadata": {},
   "outputs": [
    {
     "name": "stdout",
     "output_type": "stream",
     "text": [
      "Index(['date', 'temperaturemin', 'temperaturemax', 'precipitation', 'snowfall',\n",
      "       'snowdepth', 'avgwindspeed', 'fastest2minwinddir',\n",
      "       'fastest2minwindspeed', 'fastest5secwinddir', 'fastest5secwindspeed',\n",
      "       'fog', 'fogheavy', 'mist', 'rain', 'fogground', 'ice', 'glaze',\n",
      "       'drizzle', 'snow', 'freezingrain', 'smokehaze', 'thunder', 'highwind',\n",
      "       'hail', 'blowingsnow', 'dust', 'freezingfog'],\n",
      "      dtype='object')\n",
      "(4557, 28)\n"
     ]
    },
    {
     "data": {
      "text/plain": [
       "0"
      ]
     },
     "execution_count": 123,
     "metadata": {},
     "output_type": "execute_result"
    }
   ],
   "source": [
    "import pandas as  pd\n",
    "# Un fitxer amb informació real meteorològica\n",
    "df = pd.read_csv(\"data/rdu-weather-history.csv\",sep=\";\")\n",
    "\n",
    "print(df.columns)\n",
    "\n",
    "print(df.shape)\n",
    "\n",
    "(df[\"avgwindspeed\"]<0).sum() # No hi ha valors negatius de la mitja de la velocitat del vent!"
   ]
  },
  {
   "cell_type": "markdown",
   "metadata": {},
   "source": [
    "La millor manera de comprovar la consistència de valors numérics es analitzan la seva distribució en relació a la seva natura. És pràctic fer un `boxplot`. Referència: https://en.wikipedia.org/wiki/Box_plot"
   ]
  },
  {
   "cell_type": "code",
   "execution_count": 124,
   "metadata": {},
   "outputs": [
    {
     "data": {
      "text/plain": [
       "<Axes: >"
      ]
     },
     "execution_count": 124,
     "metadata": {},
     "output_type": "execute_result"
    },
    {
     "data": {
      "image/png": "[encoded data removed]",
      "text/plain": [
       "<Figure size 640x480 with 1 Axes>"
      ]
     },
     "metadata": {},
     "output_type": "display_data"
    }
   ],
   "source": [
    "import seaborn as sns\n",
    "import matplotlib.pyplot as plt\n",
    "\n",
    "\n",
    "sns.boxplot(data=df[[\"avgwindspeed\"]]) # https://seaborn.pydata.org/generated/seaborn.boxplot.html"
   ]
  },
  {
   "cell_type": "markdown",
   "metadata": {},
   "source": [
    "### Activitat\n",
    "\n",
    "Cuant hi ha valors de `snow`, hi ha `snowfall`?"
   ]
  },
  {
   "cell_type": "code",
   "execution_count": 126,
   "metadata": {},
   "outputs": [
    {
     "data": {
      "text/html": [
       "<div>\n",
       "<style scoped>\n",
       "    .dataframe tbody tr th:only-of-type {\n",
       "        vertical-align: middle;\n",
       "    }\n",
       "\n",
       "    .dataframe tbody tr th {\n",
       "        vertical-align: top;\n",
       "    }\n",
       "\n",
       "    .dataframe thead th {\n",
       "        text-align: right;\n",
       "    }\n",
       "</style>\n",
       "<table border=\"1\" class=\"dataframe\">\n",
       "  <thead>\n",
       "    <tr style=\"text-align: right;\">\n",
       "      <th></th>\n",
       "      <th>snow</th>\n",
       "      <th>snowfall</th>\n",
       "    </tr>\n",
       "  </thead>\n",
       "  <tbody>\n",
       "    <tr>\n",
       "      <th>0</th>\n",
       "      <td>No</td>\n",
       "      <td>0.0</td>\n",
       "    </tr>\n",
       "    <tr>\n",
       "      <th>1</th>\n",
       "      <td>No</td>\n",
       "      <td>0.0</td>\n",
       "    </tr>\n",
       "    <tr>\n",
       "      <th>2</th>\n",
       "      <td>No</td>\n",
       "      <td>0.0</td>\n",
       "    </tr>\n",
       "    <tr>\n",
       "      <th>3</th>\n",
       "      <td>No</td>\n",
       "      <td>0.0</td>\n",
       "    </tr>\n",
       "    <tr>\n",
       "      <th>4</th>\n",
       "      <td>No</td>\n",
       "      <td>0.0</td>\n",
       "    </tr>\n",
       "    <tr>\n",
       "      <th>...</th>\n",
       "      <td>...</td>\n",
       "      <td>...</td>\n",
       "    </tr>\n",
       "    <tr>\n",
       "      <th>4552</th>\n",
       "      <td>No</td>\n",
       "      <td>0.0</td>\n",
       "    </tr>\n",
       "    <tr>\n",
       "      <th>4553</th>\n",
       "      <td>No</td>\n",
       "      <td>0.0</td>\n",
       "    </tr>\n",
       "    <tr>\n",
       "      <th>4554</th>\n",
       "      <td>No</td>\n",
       "      <td>0.0</td>\n",
       "    </tr>\n",
       "    <tr>\n",
       "      <th>4555</th>\n",
       "      <td>No</td>\n",
       "      <td>0.0</td>\n",
       "    </tr>\n",
       "    <tr>\n",
       "      <th>4556</th>\n",
       "      <td>No</td>\n",
       "      <td>0.0</td>\n",
       "    </tr>\n",
       "  </tbody>\n",
       "</table>\n",
       "<p>4557 rows × 2 columns</p>\n",
       "</div>"
      ],
      "text/plain": [
       "     snow  snowfall\n",
       "0      No       0.0\n",
       "1      No       0.0\n",
       "2      No       0.0\n",
       "3      No       0.0\n",
       "4      No       0.0\n",
       "...   ...       ...\n",
       "4552   No       0.0\n",
       "4553   No       0.0\n",
       "4554   No       0.0\n",
       "4555   No       0.0\n",
       "4556   No       0.0\n",
       "\n",
       "[4557 rows x 2 columns]"
      ]
     },
     "execution_count": 126,
     "metadata": {},
     "output_type": "execute_result"
    }
   ],
   "source": [
    "#TODO\n",
    "df[[\"snow\",\"snowfall\"]] #?"
   ]
  },
  {
   "cell_type": "markdown",
   "metadata": {},
   "source": [
    "Els valors textuals poden reemplaçar-se amb altres valors o mitjançant expressions regulars."
   ]
  },
  {
   "cell_type": "code",
   "execution_count": 127,
   "metadata": {},
   "outputs": [
    {
     "data": {
      "text/html": [
       "<div>\n",
       "<style scoped>\n",
       "    .dataframe tbody tr th:only-of-type {\n",
       "        vertical-align: middle;\n",
       "    }\n",
       "\n",
       "    .dataframe tbody tr th {\n",
       "        vertical-align: top;\n",
       "    }\n",
       "\n",
       "    .dataframe thead th {\n",
       "        text-align: right;\n",
       "    }\n",
       "</style>\n",
       "<table border=\"1\" class=\"dataframe\">\n",
       "  <thead>\n",
       "    <tr style=\"text-align: right;\">\n",
       "      <th></th>\n",
       "      <th>Country</th>\n",
       "      <th>CountryID</th>\n",
       "      <th>Continent</th>\n",
       "      <th>Adolescent fertility rate (%)</th>\n",
       "      <th>Adult literacy rate (%)</th>\n",
       "      <th>Gross national income per capita (PPP international $)</th>\n",
       "      <th>Net primary school enrolment ratio female (%)</th>\n",
       "      <th>Net primary school enrolment ratio male (%)</th>\n",
       "      <th>Population (in thousands) total</th>\n",
       "      <th>Population annual growth rate (%)</th>\n",
       "      <th>...</th>\n",
       "      <th>Total_CO2_emissions</th>\n",
       "      <th>Total_income</th>\n",
       "      <th>Total_reserves</th>\n",
       "      <th>Trade_balance_goods_and_services</th>\n",
       "      <th>Under_five_mortality_from_CME</th>\n",
       "      <th>Under_five_mortality_from_IHME</th>\n",
       "      <th>Under_five_mortality_rate</th>\n",
       "      <th>Urban_population</th>\n",
       "      <th>Urban_population_growth</th>\n",
       "      <th>Urban_population_pct_of_total</th>\n",
       "    </tr>\n",
       "  </thead>\n",
       "  <tbody>\n",
       "    <tr>\n",
       "      <th>0</th>\n",
       "      <td>Afghanistan</td>\n",
       "      <td>1</td>\n",
       "      <td>1</td>\n",
       "      <td>151.0</td>\n",
       "      <td>28.0</td>\n",
       "      <td>NaN</td>\n",
       "      <td>NaN</td>\n",
       "      <td>NaN</td>\n",
       "      <td>26088.0</td>\n",
       "      <td>4.0</td>\n",
       "      <td>...</td>\n",
       "      <td>692.50</td>\n",
       "      <td>NaN</td>\n",
       "      <td>NaN</td>\n",
       "      <td>NaN</td>\n",
       "      <td>257.00</td>\n",
       "      <td>231.9</td>\n",
       "      <td>257.00</td>\n",
       "      <td>5740436.0</td>\n",
       "      <td>5.44</td>\n",
       "      <td>22.9</td>\n",
       "    </tr>\n",
       "    <tr>\n",
       "      <th>1</th>\n",
       "      <td>Albania</td>\n",
       "      <td>2</td>\n",
       "      <td>2</td>\n",
       "      <td>27.0</td>\n",
       "      <td>98.7</td>\n",
       "      <td>6000.0</td>\n",
       "      <td>93.0</td>\n",
       "      <td>94.0</td>\n",
       "      <td>3172.0</td>\n",
       "      <td>0.6</td>\n",
       "      <td>...</td>\n",
       "      <td>3499.12</td>\n",
       "      <td>4.790000e+09</td>\n",
       "      <td>78.14</td>\n",
       "      <td>-2.040000e+09</td>\n",
       "      <td>18.47</td>\n",
       "      <td>15.5</td>\n",
       "      <td>18.47</td>\n",
       "      <td>1431793.9</td>\n",
       "      <td>2.21</td>\n",
       "      <td>45.4</td>\n",
       "    </tr>\n",
       "    <tr>\n",
       "      <th>2</th>\n",
       "      <td>Algeria</td>\n",
       "      <td>3</td>\n",
       "      <td>3</td>\n",
       "      <td>6.0</td>\n",
       "      <td>69.9</td>\n",
       "      <td>5940.0</td>\n",
       "      <td>94.0</td>\n",
       "      <td>96.0</td>\n",
       "      <td>33351.0</td>\n",
       "      <td>1.5</td>\n",
       "      <td>...</td>\n",
       "      <td>137535.56</td>\n",
       "      <td>6.970000e+10</td>\n",
       "      <td>351.36</td>\n",
       "      <td>4.700000e+09</td>\n",
       "      <td>40.00</td>\n",
       "      <td>31.2</td>\n",
       "      <td>40.00</td>\n",
       "      <td>20800000.0</td>\n",
       "      <td>2.61</td>\n",
       "      <td>63.3</td>\n",
       "    </tr>\n",
       "  </tbody>\n",
       "</table>\n",
       "<p>3 rows × 358 columns</p>\n",
       "</div>"
      ],
      "text/plain": [
       "       Country  CountryID  Continent  Adolescent fertility rate (%)  \\\n",
       "0  Afghanistan          1          1                          151.0   \n",
       "1      Albania          2          2                           27.0   \n",
       "2      Algeria          3          3                            6.0   \n",
       "\n",
       "   Adult literacy rate (%)  \\\n",
       "0                     28.0   \n",
       "1                     98.7   \n",
       "2                     69.9   \n",
       "\n",
       "   Gross national income per capita (PPP international $)  \\\n",
       "0                                                NaN        \n",
       "1                                             6000.0        \n",
       "2                                             5940.0        \n",
       "\n",
       "   Net primary school enrolment ratio female (%)  \\\n",
       "0                                            NaN   \n",
       "1                                           93.0   \n",
       "2                                           94.0   \n",
       "\n",
       "   Net primary school enrolment ratio male (%)  \\\n",
       "0                                          NaN   \n",
       "1                                         94.0   \n",
       "2                                         96.0   \n",
       "\n",
       "   Population (in thousands) total  Population annual growth rate (%)  ...  \\\n",
       "0                          26088.0                                4.0  ...   \n",
       "1                           3172.0                                0.6  ...   \n",
       "2                          33351.0                                1.5  ...   \n",
       "\n",
       "   Total_CO2_emissions  Total_income  Total_reserves  \\\n",
       "0               692.50           NaN             NaN   \n",
       "1              3499.12  4.790000e+09           78.14   \n",
       "2            137535.56  6.970000e+10          351.36   \n",
       "\n",
       "   Trade_balance_goods_and_services  Under_five_mortality_from_CME  \\\n",
       "0                               NaN                         257.00   \n",
       "1                     -2.040000e+09                          18.47   \n",
       "2                      4.700000e+09                          40.00   \n",
       "\n",
       "   Under_five_mortality_from_IHME  Under_five_mortality_rate  \\\n",
       "0                           231.9                     257.00   \n",
       "1                            15.5                      18.47   \n",
       "2                            31.2                      40.00   \n",
       "\n",
       "   Urban_population  Urban_population_growth  Urban_population_pct_of_total  \n",
       "0         5740436.0                     5.44                           22.9  \n",
       "1         1431793.9                     2.21                           45.4  \n",
       "2        20800000.0                     2.61                           63.3  \n",
       "\n",
       "[3 rows x 358 columns]"
      ]
     },
     "execution_count": 127,
     "metadata": {},
     "output_type": "execute_result"
    }
   ],
   "source": [
    "import pandas as pd\n",
    "df = pd.read_csv(\"data/WHO.csv\")\n",
    "df.head(3)"
   ]
  },
  {
   "cell_type": "code",
   "execution_count": 132,
   "metadata": {},
   "outputs": [
    {
     "data": {
      "text/plain": [
       "0             afghanistan\n",
       "1                 albania\n",
       "2                 algeria\n",
       "3                 andorra\n",
       "4                  angola\n",
       "              ...        \n",
       "197               vietnam\n",
       "198    west bank and gaza\n",
       "199                 yemen\n",
       "200                zambia\n",
       "201              zimbabwe\n",
       "Name: Country, Length: 202, dtype: object"
      ]
     },
     "execution_count": 132,
     "metadata": {},
     "output_type": "execute_result"
    }
   ],
   "source": [
    "df[\"Country\"]=df.Country.str.lower()\n",
    "df[\"Country\"]"
   ]
  },
  {
   "cell_type": "code",
   "execution_count": 142,
   "metadata": {},
   "outputs": [
    {
     "data": {
      "text/plain": [
       "0               afghanistan\n",
       "1                   albania\n",
       "2                   algeria\n",
       "3                     ANDIS\n",
       "4                     ANDIS\n",
       "               ...         \n",
       "197                 vietnam\n",
       "198    west bank ANDIS gaza\n",
       "199                   yemen\n",
       "200                  zambia\n",
       "201                zimbabwe\n",
       "Name: Country, Length: 202, dtype: object"
      ]
     },
     "execution_count": 142,
     "metadata": {},
     "output_type": "execute_result"
    }
   ],
   "source": [
    "df[\"Country\"].replace(r\"\\ban\\w*\",\"ANDIS\", regex=True) #Les expressions regulars determinen la composicó sintàctica de un conjunt de caracters."
   ]
  },
  {
   "cell_type": "code",
   "execution_count": 154,
   "metadata": {},
   "outputs": [
    {
     "name": "stdout",
     "output_type": "stream",
     "text": [
      "     a\n",
      "0  1.0\n",
      "1  2.0\n",
      "2  3.0\n",
      "3  NaN\n",
      "4  3.0\n",
      "5  9.0\n",
      "0     uno\n",
      "1     dos\n",
      "2    tres\n",
      "3     NaN\n",
      "4    tres\n",
      "5     NaN\n",
      "Name: a, dtype: object\n"
     ]
    }
   ],
   "source": [
    "#Funció map i diccionari (que fà?)\n",
    "data = {'a': [1,2,3,None,3,9]} #que efecte té el None?, i el 9?\n",
    "df = pd.DataFrame(data)\n",
    "print(df)\n",
    "print(df[\"a\"].map({1:\"uno\",2:\"dos\",3:\"tres\"})) "
   ]
  },
  {
   "cell_type": "markdown",
   "metadata": {},
   "source": [
    "### Activitat"
   ]
  },
  {
   "cell_type": "code",
   "execution_count": 156,
   "metadata": {},
   "outputs": [
    {
     "data": {
      "text/plain": [
       "0      1\n",
       "1      2\n",
       "2      3\n",
       "3      2\n",
       "4      3\n",
       "      ..\n",
       "197    6\n",
       "198    1\n",
       "199    1\n",
       "200    3\n",
       "201    3\n",
       "Name: Continent, Length: 202, dtype: int64"
      ]
     },
     "execution_count": 156,
     "metadata": {},
     "output_type": "execute_result"
    }
   ],
   "source": [
    "# Reemplaça el id del continent pel seu nom (pots inventar o averiguar el nom del continent per la teva compte)\n",
    "\n",
    "import pandas as pd\n",
    "df = pd.read_csv(\"data/WHO.csv\")\n",
    "df.Continent"
   ]
  },
  {
   "cell_type": "markdown",
   "metadata": {},
   "source": [
    "Els operadors lògics també fan aquesta funció d'identificar patrons i després poder fer canvis pertinents. En aquest punt podem emprar les funcions `lambda`\n",
    "\n",
    "Una funció lambda és una funció efímera que no cal declarar-la com una funció. La seva sintaxis és:\n",
    "\n",
    "```\n",
    "lambda x: y\n",
    "```\n",
    "On `x` es un argument d'entrada i `y`es la sortida+\n",
    "\n",
    "\n",
    "Aquesta funció s'aplica (`apply`) en els elements de un df o una sèrie"
   ]
  },
  {
   "cell_type": "code",
   "execution_count": 158,
   "metadata": {},
   "outputs": [
    {
     "name": "stdout",
     "output_type": "stream",
     "text": [
      "  estudiant  nota\n",
      "0      Juan    55\n",
      "1       Ana    82\n",
      "2      Luis    45\n",
      "3     Maria    67\n",
      "4     Pedro    90\n"
     ]
    }
   ],
   "source": [
    "data = {\n",
    "    'estudiant': ['Juan', 'Ana', 'Luis', 'Maria', 'Pedro'],\n",
    "    'nota': [55, 82, 45, 67, 90]\n",
    "}\n",
    "\n",
    "df = pd.DataFrame(data)\n",
    "print(df)\n",
    "\n"
   ]
  },
  {
   "cell_type": "code",
   "execution_count": 159,
   "metadata": {},
   "outputs": [
    {
     "name": "stdout",
     "output_type": "stream",
     "text": [
      "  estudiant  nota    estat\n",
      "0      Juan    55   Suspes\n",
      "1       Ana    82  Aprovat\n",
      "2      Luis    45   Suspes\n",
      "3     Maria    67  Aprovat\n",
      "4     Pedro    90  Aprovat\n"
     ]
    }
   ],
   "source": [
    "df['estat'] = df['nota'].apply(lambda x: 'Suspes' if x < 60 else 'Aprovat')\n",
    "print(df)"
   ]
  },
  {
   "cell_type": "markdown",
   "metadata": {},
   "source": [
    "### Activitat"
   ]
  },
  {
   "cell_type": "markdown",
   "metadata": {},
   "source": [
    "Fes una classificació MANUAL de les reserves (`Total_reserves`) d'un país en una nova columna (`cat_reserves`)<br/>\n",
    "On:\n",
    "- NaN -> \"Desconegut\"\n",
    "- <50 -> \"Small\"\n",
    "- 50>= x < 100 -> \"Medium\"\n",
    "- x > 100 -> \"Large\"\n",
    "\n",
    "Pots fer també una representació de la quantitat de països en cada classificació (ajuda: `groupby`)"
   ]
  },
  {
   "cell_type": "code",
   "execution_count": 160,
   "metadata": {},
   "outputs": [
    {
     "data": {
      "text/plain": [
       "0       NaN\n",
       "1     78.14\n",
       "2    351.36\n",
       "3       NaN\n",
       "4     27.13\n",
       "5       NaN\n",
       "6     21.11\n",
       "7     35.98\n",
       "8       NaN\n",
       "9       NaN\n",
       "Name: Total_reserves, dtype: float64"
      ]
     },
     "execution_count": 160,
     "metadata": {},
     "output_type": "execute_result"
    }
   ],
   "source": [
    "import pandas as pd\n",
    "df = pd.read_csv(\"data/WHO.csv\")\n",
    "df[\"Total_reserves\"].head(10)"
   ]
  },
  {
   "cell_type": "markdown",
   "metadata": {},
   "source": [
    "- Referencies:\n",
    "  - https://pandas.pydata.org/docs/user_guide/missing_data.html\n",
    "  - https://scikit-learn.org/1.5/modules/generated/sklearn.impute.SimpleImputer.html"
   ]
  },
  {
   "cell_type": "markdown",
   "metadata": {},
   "source": [
    "## 3.2 Normalització o Transformació de Dades\n",
    "- 3.2.1. Escalat de dades numèriques\n",
    "  - Normalització i estandardització\n",
    "- 3.2.2. Codificació de variables categòriques\n",
    "  - One-Hot Encoding amb pandas (get_dummies())\n",
    "  - Label Encoding amb sklearn\n",
    "- 3.2.3. Transformació de característiques\n",
    "  - Aplicar logaritmes, polinomis o transformacions personalitzades\n",
    "  - Ús de FunctionTransformer de sklearn\n"
   ]
  },
  {
   "cell_type": "markdown",
   "metadata": {},
   "source": [
    "### 3.2.1. Escalat de dades numèriques\n",
    "  - Normalització i estandardització"
   ]
  },
  {
   "cell_type": "markdown",
   "metadata": {},
   "source": [
    "No podem comparar escales de nombres de diferents tipologies, com per exemple, salari i edat. Necessitem **normalizar**.\n"
   ]
  },
  {
   "cell_type": "code",
   "execution_count": 163,
   "metadata": {},
   "outputs": [
    {
     "data": {
      "image/png": "[encoded data removed]",
      "text/plain": [
       "<Figure size 800x600 with 1 Axes>"
      ]
     },
     "metadata": {},
     "output_type": "display_data"
    }
   ],
   "source": [
    "import pandas as pd\n",
    "import matplotlib.pyplot as plt\n",
    "\n",
    "data = {\n",
    "    'edat': [25, 45, 55, 23, 30],\n",
    "    'ingressos': [30000, 60000, 120000, 40000, 100000],\n",
    "}\n",
    "\n",
    "df = pd.DataFrame(data)\n",
    "\n",
    "\n",
    "plt.figure(figsize=(8, 6))\n",
    "plt.scatter(df.edat, df.ingressos, color='blue', marker='o')\n",
    "plt.grid(True)\n",
    "plt.show()\n"
   ]
  },
  {
   "cell_type": "markdown",
   "metadata": {},
   "source": [
    "Hi ha dos tipus de normalització:\n",
    "- Per rang (generalment un valor màxim i mínim)\n",
    "- Per z-score (cero la mitja i a 1 la desviació)"
   ]
  },
  {
   "cell_type": "code",
   "execution_count": 165,
   "metadata": {},
   "outputs": [
    {
     "name": "stdout",
     "output_type": "stream",
     "text": [
      "23 55\n",
      "   edat  ingressos  edat_norm\n",
      "0    25      30000    0.06250\n",
      "1    45      60000    0.68750\n",
      "2    55     120000    1.00000\n",
      "3    23      40000    0.00000\n",
      "4    30     100000    0.21875\n"
     ]
    }
   ],
   "source": [
    "# Per rang\n",
    "min, max = df.edat.min(),df.edat.max()\n",
    "print(min,max)\n",
    "df[\"edat_norm\"] = (df.edat-min)/(max-min)\n",
    "print(df)"
   ]
  },
  {
   "cell_type": "code",
   "execution_count": 166,
   "metadata": {},
   "outputs": [
    {
     "name": "stdout",
     "output_type": "stream",
     "text": [
      "30000 120000\n",
      "   edat  ingressos  edat_norm  ingressos_norm\n",
      "0    25      30000    0.06250        0.000000\n",
      "1    45      60000    0.68750        0.333333\n",
      "2    55     120000    1.00000        1.000000\n",
      "3    23      40000    0.00000        0.111111\n",
      "4    30     100000    0.21875        0.777778\n"
     ]
    }
   ],
   "source": [
    "min, max = df.ingressos.min(),df.ingressos.max()\n",
    "print(min,max)\n",
    "df[\"ingressos_norm\"] = (df.ingressos-min)/(max-min)\n",
    "print(df)"
   ]
  },
  {
   "cell_type": "code",
   "execution_count": 169,
   "metadata": {},
   "outputs": [
    {
     "data": {
      "image/png": "[encoded data removed]",
      "text/plain": [
       "<Figure size 800x600 with 1 Axes>"
      ]
     },
     "metadata": {},
     "output_type": "display_data"
    }
   ],
   "source": [
    "plt.figure(figsize=(8, 6))\n",
    "plt.scatter(df.edat_norm, df.ingressos_norm, color='blue', marker='o')\n",
    "plt.grid(True)\n",
    "plt.show() #la distribució és mante, però no les unitats."
   ]
  },
  {
   "cell_type": "code",
   "execution_count": 171,
   "metadata": {},
   "outputs": [
    {
     "name": "stdout",
     "output_type": "stream",
     "text": [
      "       edat  ingressos\n",
      "0 -0.765388  -1.032796\n",
      "1  0.678740  -0.258199\n",
      "2  1.400804   1.290994\n",
      "3 -0.909801  -0.774597\n",
      "4 -0.404356   0.774597\n"
     ]
    }
   ],
   "source": [
    "# per z-score\n",
    "data = {\n",
    "    'edat': [25, 45, 55, 23, 30],\n",
    "    'ingressos': [30000, 60000, 120000, 40000, 100000],\n",
    "}\n",
    "\n",
    "df = pd.DataFrame(data)\n",
    "\n",
    "df_norm = (df-df.mean())/df.std()\n",
    "print(df_norm)"
   ]
  },
  {
   "cell_type": "code",
   "execution_count": 173,
   "metadata": {},
   "outputs": [
    {
     "data": {
      "image/png": "[encoded data removed]",
      "text/plain": [
       "<Figure size 800x600 with 1 Axes>"
      ]
     },
     "metadata": {},
     "output_type": "display_data"
    }
   ],
   "source": [
    "plt.figure(figsize=(8, 6))\n",
    "plt.scatter(df_norm.edat, df_norm.ingressos, color='blue', marker='o')\n",
    "plt.grid(True)\n",
    "plt.show() #mateixa distribució!"
   ]
  },
  {
   "cell_type": "markdown",
   "metadata": {},
   "source": [
    "### Activitat"
   ]
  },
  {
   "cell_type": "markdown",
   "metadata": {},
   "source": [
    "En aquest exemple, cada jugador de futbol fa diferents passades en dos partits. Per exemple, per comparar la mitjana de cada partit convindria normalitzar les dues sèries, ja que cada partit té una naturalesa diferent (local vs. visitant, diferent context, etc.)."
   ]
  },
  {
   "cell_type": "code",
   "execution_count": 179,
   "metadata": {},
   "outputs": [
    {
     "data": {
      "text/html": [
       "<div>\n",
       "<style scoped>\n",
       "    .dataframe tbody tr th:only-of-type {\n",
       "        vertical-align: middle;\n",
       "    }\n",
       "\n",
       "    .dataframe tbody tr th {\n",
       "        vertical-align: top;\n",
       "    }\n",
       "\n",
       "    .dataframe thead th {\n",
       "        text-align: right;\n",
       "    }\n",
       "</style>\n",
       "<table border=\"1\" class=\"dataframe\">\n",
       "  <thead>\n",
       "    <tr style=\"text-align: right;\">\n",
       "      <th></th>\n",
       "      <th>Jugador</th>\n",
       "      <th>Pases_Partido1</th>\n",
       "      <th>Pases_Partido2</th>\n",
       "    </tr>\n",
       "  </thead>\n",
       "  <tbody>\n",
       "    <tr>\n",
       "      <th>0</th>\n",
       "      <td>Jugador1</td>\n",
       "      <td>91</td>\n",
       "      <td>35</td>\n",
       "    </tr>\n",
       "    <tr>\n",
       "      <th>1</th>\n",
       "      <td>Jugador2</td>\n",
       "      <td>54</td>\n",
       "      <td>16</td>\n",
       "    </tr>\n",
       "    <tr>\n",
       "      <th>2</th>\n",
       "      <td>Jugador3</td>\n",
       "      <td>111</td>\n",
       "      <td>38</td>\n",
       "    </tr>\n",
       "    <tr>\n",
       "      <th>3</th>\n",
       "      <td>Jugador4</td>\n",
       "      <td>100</td>\n",
       "      <td>26</td>\n",
       "    </tr>\n",
       "    <tr>\n",
       "      <th>4</th>\n",
       "      <td>Jugador5</td>\n",
       "      <td>60</td>\n",
       "      <td>20</td>\n",
       "    </tr>\n",
       "    <tr>\n",
       "      <th>5</th>\n",
       "      <td>Jugador6</td>\n",
       "      <td>114</td>\n",
       "      <td>16</td>\n",
       "    </tr>\n",
       "    <tr>\n",
       "      <th>6</th>\n",
       "      <td>Jugador7</td>\n",
       "      <td>114</td>\n",
       "      <td>35</td>\n",
       "    </tr>\n",
       "    <tr>\n",
       "      <th>7</th>\n",
       "      <td>Jugador8</td>\n",
       "      <td>63</td>\n",
       "      <td>15</td>\n",
       "    </tr>\n",
       "    <tr>\n",
       "      <th>8</th>\n",
       "      <td>Jugador9</td>\n",
       "      <td>42</td>\n",
       "      <td>26</td>\n",
       "    </tr>\n",
       "    <tr>\n",
       "      <th>9</th>\n",
       "      <td>Jugador10</td>\n",
       "      <td>61</td>\n",
       "      <td>36</td>\n",
       "    </tr>\n",
       "  </tbody>\n",
       "</table>\n",
       "</div>"
      ],
      "text/plain": [
       "     Jugador  Pases_Partido1  Pases_Partido2\n",
       "0   Jugador1              91              35\n",
       "1   Jugador2              54              16\n",
       "2   Jugador3             111              38\n",
       "3   Jugador4             100              26\n",
       "4   Jugador5              60              20\n",
       "5   Jugador6             114              16\n",
       "6   Jugador7             114              35\n",
       "7   Jugador8              63              15\n",
       "8   Jugador9              42              26\n",
       "9  Jugador10              61              36"
      ]
     },
     "execution_count": 179,
     "metadata": {},
     "output_type": "execute_result"
    }
   ],
   "source": [
    "import pandas as pd\n",
    "import numpy as np\n",
    "\n",
    "jugadors = ['Jugador1', 'Jugador2', 'Jugador3', 'Jugador4', 'Jugador5', \n",
    "             'Jugador6', 'Jugador7', 'Jugador8', 'Jugador9', 'Jugador10']\n",
    "\n",
    "np.random.seed(42)\n",
    "partit1 = np.random.randint(40, 120, size=10)\n",
    "partit2 = np.random.randint(15, 40, size=10)\n",
    "\n",
    "df_passades = pd.DataFrame({\n",
    "    'Jugador': jugadors,\n",
    "    'Pases_Partido1': partit1,\n",
    "    'Pases_Partido2': partit2\n",
    "})\n",
    "\n",
    "df_passades\n"
   ]
  },
  {
   "cell_type": "code",
   "execution_count": 180,
   "metadata": {},
   "outputs": [],
   "source": [
    "# Normalitza per rang cada partit\n"
   ]
  },
  {
   "cell_type": "code",
   "execution_count": 181,
   "metadata": {},
   "outputs": [],
   "source": [
    "# Quin jugador té un comportament pitjor en el nombre global de passades.\n",
    "# en aquest cas: pijtor equival a major desviació "
   ]
  },
  {
   "cell_type": "markdown",
   "metadata": {},
   "source": [
    "### 3.2.2. Codificació de variables categòriques\n",
    "  - One-Hot Encoding amb pandas (get_dummies())\n",
    "  - Label Encoding amb sklearn"
   ]
  },
  {
   "cell_type": "markdown",
   "metadata": {},
   "source": [
    "La codificació permet transformar series d'objectes a sèries numerals per fer operacions."
   ]
  },
  {
   "cell_type": "code",
   "execution_count": 182,
   "metadata": {},
   "outputs": [],
   "source": [
    "data = {'ciutats': ['Barcelona', 'Madrid', 'Sevilla', 'Barcelona', 'Madrid']}\n",
    "df = pd.DataFrame(data)"
   ]
  },
  {
   "cell_type": "code",
   "execution_count": 183,
   "metadata": {},
   "outputs": [
    {
     "ename": "TypeError",
     "evalue": "unsupported operand type(s) for -: 'str' and 'str'",
     "output_type": "error",
     "traceback": [
      "\u001b[0;31m---------------------------------------------------------------------------\u001b[0m",
      "\u001b[0;31mTypeError\u001b[0m                                 Traceback (most recent call last)",
      "Cell \u001b[0;32mIn[183], line 1\u001b[0m\n\u001b[0;32m----> 1\u001b[0m \u001b[38;5;124;43m\"\u001b[39;49m\u001b[38;5;124;43mMadrid\u001b[39;49m\u001b[38;5;124;43m\"\u001b[39;49m\u001b[38;5;241;43m-\u001b[39;49m\u001b[38;5;124;43m\"\u001b[39;49m\u001b[38;5;124;43mSevilla\u001b[39;49m\u001b[38;5;124;43m\"\u001b[39;49m\n",
      "\u001b[0;31mTypeError\u001b[0m: unsupported operand type(s) for -: 'str' and 'str'"
     ]
    }
   ],
   "source": [
    "\"Madrid\"-\"Sevilla\" #no té sentit aquesta operació?"
   ]
  },
  {
   "cell_type": "code",
   "execution_count": 190,
   "metadata": {},
   "outputs": [
    {
     "data": {
      "text/plain": [
       "array([[0.],\n",
       "       [1.],\n",
       "       [2.],\n",
       "       [0.],\n",
       "       [1.]])"
      ]
     },
     "execution_count": 190,
     "metadata": {},
     "output_type": "execute_result"
    }
   ],
   "source": [
    "# 1º manera: a cada item li dona un Identificador\n",
    "from sklearn.preprocessing import OrdinalEncoder\n",
    "\n",
    "encoder = OrdinalEncoder() #inicializatció\n",
    "\n",
    "encoder.fit_transform(df[['ciutats']])\n"
   ]
  },
  {
   "cell_type": "code",
   "execution_count": 191,
   "metadata": {},
   "outputs": [
    {
     "name": "stdout",
     "output_type": "stream",
     "text": [
      "   ciutats\n",
      "0      0.0\n",
      "1      1.0\n",
      "2      2.0\n",
      "3      0.0\n",
      "4      1.0\n"
     ]
    }
   ],
   "source": [
    "categorical_encoded = encoder.fit_transform(df[['ciutats']])\n",
    "categorical_encoded_df = pd.DataFrame(categorical_encoded, columns=encoder.get_feature_names_out(['ciutats']))\n",
    "\n",
    "print(categorical_encoded_df)"
   ]
  },
  {
   "cell_type": "code",
   "execution_count": 187,
   "metadata": {},
   "outputs": [
    {
     "data": {
      "text/plain": [
       "array([[1., 0., 0.],\n",
       "       [0., 1., 0.],\n",
       "       [0., 0., 1.],\n",
       "       [1., 0., 0.],\n",
       "       [0., 1., 0.]])"
      ]
     },
     "execution_count": 187,
     "metadata": {},
     "output_type": "execute_result"
    }
   ],
   "source": [
    "# 2º manera: a cada mostra conservant el tipus crean noves columnes\n",
    "from sklearn.preprocessing import OneHotEncoder\n",
    "encoder = OneHotEncoder(sparse_output=False) #inicializatció\n",
    "\n",
    "encoder.fit_transform(df[['ciutats']])"
   ]
  },
  {
   "cell_type": "code",
   "execution_count": 188,
   "metadata": {},
   "outputs": [
    {
     "name": "stdout",
     "output_type": "stream",
     "text": [
      "   ciutats_Barcelona  ciutats_Madrid  ciutats_Sevilla\n",
      "0                1.0             0.0              0.0\n",
      "1                0.0             1.0              0.0\n",
      "2                0.0             0.0              1.0\n",
      "3                1.0             0.0              0.0\n",
      "4                0.0             1.0              0.0\n"
     ]
    }
   ],
   "source": [
    "categorical_encoded = encoder.fit_transform(df[['ciutats']])\n",
    "\n",
    "categorical_encoded_df = pd.DataFrame(categorical_encoded, columns=encoder.get_feature_names_out(['ciutats']))\n",
    "\n",
    "print(categorical_encoded_df)"
   ]
  },
  {
   "cell_type": "markdown",
   "metadata": {},
   "source": [
    "Els `labelencoders` podem utilizar-los per normalitzar etiquetes"
   ]
  },
  {
   "cell_type": "code",
   "execution_count": 192,
   "metadata": {},
   "outputs": [
    {
     "data": {
      "text/html": [
       "<style>#sk-container-id-1 {color: black;background-color: white;}#sk-container-id-1 pre{padding: 0;}#sk-container-id-1 div.sk-toggleable {background-color: white;}#sk-container-id-1 label.sk-toggleable__label {cursor: pointer;display: block;width: 100%;margin-bottom: 0;padding: 0.3em;box-sizing: border-box;text-align: center;}#sk-container-id-1 label.sk-toggleable__label-arrow:before {content: \"▸\";float: left;margin-right: 0.25em;color: #696969;}#sk-container-id-1 label.sk-toggleable__label-arrow:hover:before {color: black;}#sk-container-id-1 div.sk-estimator:hover label.sk-toggleable__label-arrow:before {color: black;}#sk-container-id-1 div.sk-toggleable__content {max-height: 0;max-width: 0;overflow: hidden;text-align: left;background-color: #f0f8ff;}#sk-container-id-1 div.sk-toggleable__content pre {margin: 0.2em;color: black;border-radius: 0.25em;background-color: #f0f8ff;}#sk-container-id-1 input.sk-toggleable__control:checked~div.sk-toggleable__content {max-height: 200px;max-width: 100%;overflow: auto;}#sk-container-id-1 input.sk-toggleable__control:checked~label.sk-toggleable__label-arrow:before {content: \"▾\";}#sk-container-id-1 div.sk-estimator input.sk-toggleable__control:checked~label.sk-toggleable__label {background-color: #d4ebff;}#sk-container-id-1 div.sk-label input.sk-toggleable__control:checked~label.sk-toggleable__label {background-color: #d4ebff;}#sk-container-id-1 input.sk-hidden--visually {border: 0;clip: rect(1px 1px 1px 1px);clip: rect(1px, 1px, 1px, 1px);height: 1px;margin: -1px;overflow: hidden;padding: 0;position: absolute;width: 1px;}#sk-container-id-1 div.sk-estimator {font-family: monospace;background-color: #f0f8ff;border: 1px dotted black;border-radius: 0.25em;box-sizing: border-box;margin-bottom: 0.5em;}#sk-container-id-1 div.sk-estimator:hover {background-color: #d4ebff;}#sk-container-id-1 div.sk-parallel-item::after {content: \"\";width: 100%;border-bottom: 1px solid gray;flex-grow: 1;}#sk-container-id-1 div.sk-label:hover label.sk-toggleable__label {background-color: #d4ebff;}#sk-container-id-1 div.sk-serial::before {content: \"\";position: absolute;border-left: 1px solid gray;box-sizing: border-box;top: 0;bottom: 0;left: 50%;z-index: 0;}#sk-container-id-1 div.sk-serial {display: flex;flex-direction: column;align-items: center;background-color: white;padding-right: 0.2em;padding-left: 0.2em;position: relative;}#sk-container-id-1 div.sk-item {position: relative;z-index: 1;}#sk-container-id-1 div.sk-parallel {display: flex;align-items: stretch;justify-content: center;background-color: white;position: relative;}#sk-container-id-1 div.sk-item::before, #sk-container-id-1 div.sk-parallel-item::before {content: \"\";position: absolute;border-left: 1px solid gray;box-sizing: border-box;top: 0;bottom: 0;left: 50%;z-index: -1;}#sk-container-id-1 div.sk-parallel-item {display: flex;flex-direction: column;z-index: 1;position: relative;background-color: white;}#sk-container-id-1 div.sk-parallel-item:first-child::after {align-self: flex-end;width: 50%;}#sk-container-id-1 div.sk-parallel-item:last-child::after {align-self: flex-start;width: 50%;}#sk-container-id-1 div.sk-parallel-item:only-child::after {width: 0;}#sk-container-id-1 div.sk-dashed-wrapped {border: 1px dashed gray;margin: 0 0.4em 0.5em 0.4em;box-sizing: border-box;padding-bottom: 0.4em;background-color: white;}#sk-container-id-1 div.sk-label label {font-family: monospace;font-weight: bold;display: inline-block;line-height: 1.2em;}#sk-container-id-1 div.sk-label-container {text-align: center;}#sk-container-id-1 div.sk-container {/* jupyter's `normalize.less` sets `[hidden] { display: none; }` but bootstrap.min.css set `[hidden] { display: none !important; }` so we also need the `!important` here to be able to override the default hidden behavior on the sphinx rendered scikit-learn.org. See: https://github.com/scikit-learn/scikit-learn/issues/21755 */display: inline-block !important;position: relative;}#sk-container-id-1 div.sk-text-repr-fallback {display: none;}</style><div id=\"sk-container-id-1\" class=\"sk-top-container\"><div class=\"sk-text-repr-fallback\"><pre>LabelEncoder()</pre><b>In a Jupyter environment, please rerun this cell to show the HTML representation or trust the notebook. <br />On GitHub, the HTML representation is unable to render, please try loading this page with nbviewer.org.</b></div><div class=\"sk-container\" hidden><div class=\"sk-item\"><div class=\"sk-estimator sk-toggleable\"><input class=\"sk-toggleable__control sk-hidden--visually\" id=\"sk-estimator-id-1\" type=\"checkbox\" checked><label for=\"sk-estimator-id-1\" class=\"sk-toggleable__label sk-toggleable__label-arrow\">LabelEncoder</label><div class=\"sk-toggleable__content\"><pre>LabelEncoder()</pre></div></div></div></div></div>"
      ],
      "text/plain": [
       "LabelEncoder()"
      ]
     },
     "execution_count": 192,
     "metadata": {},
     "output_type": "execute_result"
    }
   ],
   "source": [
    "from sklearn.preprocessing import LabelEncoder\n",
    "\n",
    "le = LabelEncoder()\n",
    "le.fit([\"sineu\", \"sineu\", \"palma\", \"andratx\",\"palma\"])"
   ]
  },
  {
   "cell_type": "code",
   "execution_count": 194,
   "metadata": {},
   "outputs": [
    {
     "data": {
      "text/plain": [
       "array([1, 1, 0])"
      ]
     },
     "execution_count": 194,
     "metadata": {},
     "output_type": "execute_result"
    }
   ],
   "source": [
    "le.transform([\"palma\", \"palma\", \"andratx\"]) # de texto a id"
   ]
  },
  {
   "cell_type": "code",
   "execution_count": 196,
   "metadata": {},
   "outputs": [
    {
     "data": {
      "text/plain": [
       "array(['sineu', 'sineu', 'palma'], dtype='<U7')"
      ]
     },
     "execution_count": 196,
     "metadata": {},
     "output_type": "execute_result"
    }
   ],
   "source": [
    "le.inverse_transform([2, 2, 1]) #de id a texto"
   ]
  },
  {
   "cell_type": "markdown",
   "metadata": {},
   "source": [
    "### Activitat"
   ]
  },
  {
   "cell_type": "code",
   "execution_count": 207,
   "metadata": {},
   "outputs": [
    {
     "data": {
      "text/plain": [
       "['jugador9',\n",
       " 'jugador33',\n",
       " 'jugador1',\n",
       " 'jugador28',\n",
       " 'jugador37',\n",
       " 'jugador42',\n",
       " 'jugador2',\n",
       " 'jugador36',\n",
       " 'jugador11',\n",
       " 'jugador3']"
      ]
     },
     "execution_count": 207,
     "metadata": {},
     "output_type": "execute_result"
    }
   ],
   "source": [
    "# Amb la següent informació:\n",
    "import pandas as pd\n",
    "import numpy as np\n",
    "\n",
    "np.random.seed(2024)\n",
    "passades_jugadors = [\"jugador%i\"%np.random.randint(1,50) for i in range(10000)]\n",
    "passades_jugadors[:10]\n"
   ]
  },
  {
   "cell_type": "code",
   "execution_count": 208,
   "metadata": {},
   "outputs": [],
   "source": [
    "## genera un labelencoder de cada jugador\n"
   ]
  },
  {
   "cell_type": "code",
   "execution_count": 1,
   "metadata": {},
   "outputs": [],
   "source": [
    "## quin jugador surt més?"
   ]
  },
  {
   "cell_type": "markdown",
   "metadata": {},
   "source": [
    "### 3.2.3. Transformació de característiques\n",
    "  - Aplicar logaritmes, polinomis o transformacions personalitzades\n",
    "  - Ús de FunctionTransformer de sklearn"
   ]
  },
  {
   "cell_type": "markdown",
   "metadata": {},
   "source": [
    "Les transformacions de característiques són molt útils en machine learning per millorar el rendiment dels models, especialment quan les relacions entre les variables no són lineals o quan les dades tenen distribucions esbiaixades. A continuació t’explico breument les transformacions més comunes i et dono exemples de com aplicar-les utilitzant pandas o scikit-learn.\n",
    "\n",
    "Son semblats a fer una normalització, però l'escala en molt de casos ja no és lineal"
   ]
  },
  {
   "cell_type": "markdown",
   "metadata": {},
   "source": [
    "**Transformació logarítmica**<br/>\n",
    "Serveix per reduir l'asimetria d'una variable (quan una variable té una distribució molt esbiaixada cap a la dreta). És útil quan les dades varien en ordres de magnitud molt diferents."
   ]
  },
  {
   "cell_type": "code",
   "execution_count": 12,
   "metadata": {},
   "outputs": [
    {
     "name": "stdout",
     "output_type": "stream",
     "text": [
      "[ 2.30258509  2.48490665  3.52636052  3.04452244  2.99573227  4.60517019\n",
      "  6.90775528  9.21034037 11.51292546 17.45409832]\n"
     ]
    }
   ],
   "source": [
    "import numpy as np\n",
    "\n",
    "ventes = [10, 12, 34, 21, 20, 100, 1000, 10000, 100000, 38038080]\n",
    "\n",
    "log_ventes = np.log(ventes)\n",
    "print(log_ventes)"
   ]
  },
  {
   "cell_type": "markdown",
   "metadata": {},
   "source": [
    "**Transformacions Polinòmiques**<br/>\n",
    "S'utilitzen per afegir relacions no lineals entre les variables. Genera noves característiques com el quadrat o el cub d'una variable, cosa que pot ajudar els models a captar relacions més complexes.\n"
   ]
  },
  {
   "cell_type": "code",
   "execution_count": 13,
   "metadata": {},
   "outputs": [
    {
     "name": "stdout",
     "output_type": "stream",
     "text": [
      "[[ 2.  4.]\n",
      " [ 3.  9.]\n",
      " [ 4. 16.]]\n"
     ]
    }
   ],
   "source": [
    "from sklearn.preprocessing import PolynomialFeatures\n",
    "import numpy as np\n",
    "\n",
    "X = np.array([[2], [3], [4]])\n",
    "\n",
    "# Crear el objeto PolynomialFeatures\n",
    "poly = PolynomialFeatures(degree=2, include_bias=False)\n",
    "X_poly = poly.fit_transform(X)\n",
    "\n",
    "print(X_poly)"
   ]
  },
  {
   "cell_type": "markdown",
   "metadata": {},
   "source": [
    "**Transformacions Personalitzades**<br/>\n",
    "Pots definir les teves pròpies funcions de transformació, especialment quan coneixes la naturalesa específica del teu problema. Per exemple, transformar una variable amb una arrel cúbica o una funció matemàtica personalitzada."
   ]
  },
  {
   "cell_type": "code",
   "execution_count": 14,
   "metadata": {},
   "outputs": [
    {
     "name": "stdout",
     "output_type": "stream",
     "text": [
      "[10, 12, 34, 21, 20, 100, 1000, 10000, 100000, 38038080]\n",
      "[ 2.30258509  2.48490665  3.52636052  3.04452244  2.99573227  4.60517019\n",
      "  6.90775528  9.21034037 11.51292546 17.45409832]\n",
      "[[ 2.  4.]\n",
      " [ 3.  9.]\n",
      " [ 4. 16.]]\n",
      "[  2.15443469   2.28942849   3.2396118    2.75892418   2.71441762\n",
      "   4.64158883  10.          21.5443469   46.41588834 336.30980496]\n",
      "[[0.5       ]\n",
      " [0.33333333]\n",
      " [0.25      ]]\n"
     ]
    }
   ],
   "source": [
    "raiz = np.cbrt(ventes) #raiz cubica\n",
    "\n",
    "def inversa(x): #una funció propia\n",
    "    return 1/X\n",
    "\n",
    "ventes_inv = np.apply_along_axis(inversa,0,ventes) #https://numpy.org/doc/2.0/reference/generated/numpy.apply_along_axis.html\n",
    "# en pandas és apply\n",
    "\n",
    "print(ventes)\n",
    "print(log_ventes)\n",
    "print(X_poly)\n",
    "print(raiz)\n",
    "print(ventes_inv)\n"
   ]
  },
  {
   "cell_type": "markdown",
   "metadata": {},
   "source": [
    "La funció `FunctionTransformer` fa aquesta funció \"d'apply\""
   ]
  },
  {
   "cell_type": "code",
   "execution_count": 15,
   "metadata": {},
   "outputs": [
    {
     "name": "stdout",
     "output_type": "stream",
     "text": [
      "   valors  arrel_cubica_valors\n",
      "0       8                  2.0\n",
      "1      27                  3.0\n",
      "2      64                  4.0\n",
      "3     125                  5.0\n",
      "4     216                  6.0\n"
     ]
    },
    {
     "name": "stderr",
     "output_type": "stream",
     "text": [
      "/Users/isaac/.pyenv/versions/3.11.0rc2/envs/my3110/lib/python3.11/site-packages/sklearn/base.py:432: UserWarning: X has feature names, but FunctionTransformer was fitted without feature names\n",
      "  warnings.warn(\n"
     ]
    }
   ],
   "source": [
    "from sklearn.preprocessing import FunctionTransformer\n",
    "import numpy as np\n",
    "import pandas as pd\n",
    "\n",
    "data = {'valors': [8, 27, 64, 125, 216]}\n",
    "df = pd.DataFrame(data)\n",
    "\n",
    "def arrel_cubica(x):\n",
    "    return np.cbrt(x)\n",
    "\n",
    "transformador = FunctionTransformer(arrel_cubica, validate=True)\n",
    "\n",
    "df['arrel_cubica_valors'] = transformador.transform(df[['valors']])\n",
    "\n",
    "print(df)"
   ]
  },
  {
   "cell_type": "markdown",
   "metadata": {},
   "source": [
    "### Activitat"
   ]
  },
  {
   "cell_type": "code",
   "execution_count": 17,
   "metadata": {},
   "outputs": [
    {
     "name": "stdout",
     "output_type": "stream",
     "text": [
      "   id_comprador data_compra  vendes_cotxes  vendes_cargols  vendes_cases\n",
      "0             1  2023-01-01             90          850000             4\n",
      "1             2  2023-01-02            110          600000             5\n",
      "2             3  2023-01-03             10          520000             4\n",
      "3             4  2023-01-04             10          820000             3\n",
      "4             5  2023-01-05            120          870000             2\n",
      "5             6  2023-01-06             50          990000             3\n",
      "6             7  2023-01-07             80          800000             5\n",
      "7             8  2023-01-08            100          970000             3\n",
      "8             9  2023-01-09             20          600000             2\n",
      "9            10  2023-01-10            130          960000             4\n"
     ]
    }
   ],
   "source": [
    "import pandas as pd\n",
    "import numpy as np\n",
    "\n",
    "np.random.seed(2024)\n",
    "data = {\n",
    "    'id_comprador': np.arange(1, 11),  # ID dels compradors\n",
    "    'data_compra': pd.date_range(start='2023-01-01', periods=10, freq='D'),  # Dates de compra\n",
    "    'vendes_cotxes': np.random.randint(1, 15, size=10) * 10,  # Vendes de cotxes \n",
    "    'vendes_cargols': np.random.randint(50, 100, size=10) * 10000,  # Vendes de cargols \n",
    "    'vendes_cases': np.random.randint(1, 6, size=10),  # Vendes de cases \n",
    "}\n",
    "\n",
    "df = pd.DataFrame(data)\n",
    "\n",
    "print(df)\n"
   ]
  },
  {
   "cell_type": "code",
   "execution_count": null,
   "metadata": {},
   "outputs": [],
   "source": [
    "# normalitza per logaritmo la sèrie de cargols"
   ]
  },
  {
   "cell_type": "code",
   "execution_count": 18,
   "metadata": {},
   "outputs": [],
   "source": [
    "# normalitza per rang la sèrie de cotxes"
   ]
  },
  {
   "cell_type": "markdown",
   "metadata": {},
   "source": [
    "## 3. Anàlisi Estadística Prèvia\n",
    "- 3.1. Mesures de tendència central i dispersió\n",
    "  - Càlcul de la mitjana, mediana, moda, variància i desviació estàndard amb pandas\n",
    "- 3.2. Anàlisi de distribucions\n",
    "  - Visualització de distribucions amb histogrames (matplotlib, seaborn)\n",
    "  - Anàlisi de simetria i curtosi\n",
    "- 3.3. Detecció de valors atípics (outliers)\n",
    "  - Ús de boxplots i z-scores\n",
    "  - Detecció de valors atípics amb l'IQR (ranc interquartílic)"
   ]
  },
  {
   "cell_type": "markdown",
   "metadata": {},
   "source": [
    "### 3.1. Mesures de tendència central i dispersió\n",
    "  - Càlcul de la mitjana, mediana, moda, variància i desviació estàndard amb pandas"
   ]
  },
  {
   "cell_type": "code",
   "execution_count": null,
   "metadata": {},
   "outputs": [],
   "source": [
    "# Com reecordatori de temaria anterior...\n",
    "import pandas as pd\n",
    "import numpy as np\n",
    "\n",
    "np.random.seed(2024)\n",
    "data = {\n",
    "    'id_comprador': np.arange(1, 11),  # ID dels compradors\n",
    "    'data_compra': pd.date_range(start='2023-01-01', periods=10, freq='D'),  # Dates de compra\n",
    "    'vendes_cotxes': np.random.randint(1, 15, size=10) * 10,  # Vendes de cotxes \n",
    "    'vendes_cargols': np.random.randint(50, 100, size=10) * 10000,  # Vendes de cargols \n",
    "    'vendes_cases': np.random.randint(1, 6, size=10),  # Vendes de cases \n",
    "}\n",
    "\n",
    "df = pd.DataFrame(data)\n",
    "\n",
    "print(df)"
   ]
  },
  {
   "cell_type": "code",
   "execution_count": 22,
   "metadata": {},
   "outputs": [
    {
     "name": "stdout",
     "output_type": "stream",
     "text": [
      "72.0\n",
      "46.139883927995406\n",
      "972000.0\n"
     ]
    }
   ],
   "source": [
    "#damun d'una sèrie podem aplicar aquestes distribucions estadistiques\n",
    "print(df.vendes_cotxes.mean()) #mean\n",
    "print(df.vendes_cotxes.std()) #desviació\n",
    "print(df.vendes_cargols.quantile(0.9)) #percentile 90%"
   ]
  },
  {
   "cell_type": "code",
   "execution_count": 23,
   "metadata": {},
   "outputs": [
    {
     "data": {
      "text/plain": [
       "vendes_cotxes    72.0\n",
       "vendes_cotxes    72.0\n",
       "vendes_cases      3.5\n",
       "dtype: float64"
      ]
     },
     "execution_count": 23,
     "metadata": {},
     "output_type": "execute_result"
    }
   ],
   "source": [
    "df.loc[:,[\"vendes_cotxes\",\"vendes_cotxes\",\"vendes_cases\"]].mean()"
   ]
  },
  {
   "cell_type": "markdown",
   "metadata": {},
   "source": [
    "### 3.2. Anàlisi de distribucions\n",
    "  - Visualització de distribucions amb histogrames (matplotlib, seaborn)\n",
    "  - Anàlisi de simetria i curtosi"
   ]
  },
  {
   "cell_type": "markdown",
   "metadata": {},
   "source": [
    "És important identificar aquelles sèries o característiques que no tenen una representativitat mínima o que estan descompensades respecte a la resta, ja que això pot provocar sobreajustaments inadequats en els models d'aprenentatge automàtic. Per exemple, en les transaccions comercials, hi ha un gran nombre que són correctes, però una petita part són fraus. La preparació d'un catàleg de dades amb molt poques mostres de frau no permetrà que el model d'aprenentatge les detecti.\n",
    "\n",
    "L'aplicació d'un model d'aprenentatge ha d'anar acompanyada d'un estudi de la distribució de les variables."
   ]
  },
  {
   "cell_type": "code",
   "execution_count": 2,
   "metadata": {},
   "outputs": [
    {
     "data": {
      "image/png": "[encoded data removed]",
      "text/plain": [
       "<Figure size 1000x600 with 1 Axes>"
      ]
     },
     "metadata": {},
     "output_type": "display_data"
    }
   ],
   "source": [
    "# Els histogrames son molt efficients per interpretat aquesta distribució\n",
    "\n",
    "import seaborn as sns\n",
    "import matplotlib.pyplot as plt\n",
    "\n",
    "tips = sns.load_dataset(\"tips\") # Hi ha llibreríes que tenem datasets d'us didactic\n",
    "\n",
    "plt.figure(figsize=(10, 6))\n",
    "\n",
    "## HISTOGRAMA amb seabon\n",
    "sns.histplot(tips['total_bill'], kde=True, bins=30, color=\"blue\")\n",
    "\n",
    "plt.title('Distribució de la variable \"total_bill\"', fontsize=16)\n",
    "plt.xlabel('Total', fontsize=14)\n",
    "plt.ylabel('Freqüència', fontsize=14)\n",
    "\n",
    "plt.show()"
   ]
  },
  {
   "cell_type": "markdown",
   "metadata": {},
   "source": [
    "Si, per exemple, volguéssim detectar o classificar propines que estiguin entre 40 i 50, aquesta fracció de mostres hauria d'estar compensada amb la resta en el nou conjunt de dades."
   ]
  },
  {
   "cell_type": "code",
   "execution_count": 4,
   "metadata": {},
   "outputs": [
    {
     "data": {
      "image/png": "[encoded data removed]",
      "text/plain": [
       "<Figure size 1000x600 with 1 Axes>"
      ]
     },
     "metadata": {},
     "output_type": "display_data"
    }
   ],
   "source": [
    "# El nombre de columnes (bin) ajuda a entendre el nivell de resolució\n",
    "plt.figure(figsize=(10, 6))\n",
    "\n",
    "sns.histplot(tips['total_bill'], kde=True, bins=10, color=\"blue\")\n",
    "\n",
    "plt.title('Distribució de la variable \"total_bill\"', fontsize=16)\n",
    "plt.xlabel('Total', fontsize=14)\n",
    "plt.ylabel('Freqüència', fontsize=14)\n",
    "\n",
    "plt.show()"
   ]
  },
  {
   "cell_type": "markdown",
   "metadata": {},
   "source": [
    "**Coeficient d'asimetria**<br/>\n",
    "Mesura el grau d'asimetria de la distribució respecte a la mitjana. Un valor positiu d'aquest indicador significa que la distribució està esbiaixada cap a l'esquerra (orientació positiva). Un resultat negatiu significa que la distribució s'esbiaixa cap a la dreta"
   ]
  },
  {
   "cell_type": "markdown",
   "metadata": {},
   "source": [
    "**Curtosi**, apuntament o biaix (kurtosis): representa com d'afilat està el cim del gràfic, en comparació amb una distribució normal (a major curtosi, més afilat), és a dir, el grau de concentració que presenten els valors d'una variable al voltant d'una zona central. La curtosi és positiva si està per sobre de la distribució normal, i negativa si està per sota.\n",
    "\n",
    "Referències: \n",
    "- https://es.wikipedia.org/wiki/Asimetr%C3%ADa_estad%C3%ADstica\n",
    "- https://es.wikipedia.org/wiki/Curtosis"
   ]
  },
  {
   "cell_type": "code",
   "execution_count": 5,
   "metadata": {},
   "outputs": [
    {
     "data": {
      "text/html": [
       "<div>\n",
       "<style scoped>\n",
       "    .dataframe tbody tr th:only-of-type {\n",
       "        vertical-align: middle;\n",
       "    }\n",
       "\n",
       "    .dataframe tbody tr th {\n",
       "        vertical-align: top;\n",
       "    }\n",
       "\n",
       "    .dataframe thead th {\n",
       "        text-align: right;\n",
       "    }\n",
       "</style>\n",
       "<table border=\"1\" class=\"dataframe\">\n",
       "  <thead>\n",
       "    <tr style=\"text-align: right;\">\n",
       "      <th></th>\n",
       "      <th>total_bill</th>\n",
       "      <th>tip</th>\n",
       "      <th>sex</th>\n",
       "      <th>smoker</th>\n",
       "      <th>day</th>\n",
       "      <th>time</th>\n",
       "      <th>size</th>\n",
       "    </tr>\n",
       "  </thead>\n",
       "  <tbody>\n",
       "    <tr>\n",
       "      <th>0</th>\n",
       "      <td>16.99</td>\n",
       "      <td>1.01</td>\n",
       "      <td>Female</td>\n",
       "      <td>No</td>\n",
       "      <td>Sun</td>\n",
       "      <td>Dinner</td>\n",
       "      <td>2</td>\n",
       "    </tr>\n",
       "    <tr>\n",
       "      <th>1</th>\n",
       "      <td>10.34</td>\n",
       "      <td>1.66</td>\n",
       "      <td>Male</td>\n",
       "      <td>No</td>\n",
       "      <td>Sun</td>\n",
       "      <td>Dinner</td>\n",
       "      <td>3</td>\n",
       "    </tr>\n",
       "    <tr>\n",
       "      <th>2</th>\n",
       "      <td>21.01</td>\n",
       "      <td>3.50</td>\n",
       "      <td>Male</td>\n",
       "      <td>No</td>\n",
       "      <td>Sun</td>\n",
       "      <td>Dinner</td>\n",
       "      <td>3</td>\n",
       "    </tr>\n",
       "    <tr>\n",
       "      <th>3</th>\n",
       "      <td>23.68</td>\n",
       "      <td>3.31</td>\n",
       "      <td>Male</td>\n",
       "      <td>No</td>\n",
       "      <td>Sun</td>\n",
       "      <td>Dinner</td>\n",
       "      <td>2</td>\n",
       "    </tr>\n",
       "    <tr>\n",
       "      <th>4</th>\n",
       "      <td>24.59</td>\n",
       "      <td>3.61</td>\n",
       "      <td>Female</td>\n",
       "      <td>No</td>\n",
       "      <td>Sun</td>\n",
       "      <td>Dinner</td>\n",
       "      <td>4</td>\n",
       "    </tr>\n",
       "    <tr>\n",
       "      <th>...</th>\n",
       "      <td>...</td>\n",
       "      <td>...</td>\n",
       "      <td>...</td>\n",
       "      <td>...</td>\n",
       "      <td>...</td>\n",
       "      <td>...</td>\n",
       "      <td>...</td>\n",
       "    </tr>\n",
       "    <tr>\n",
       "      <th>239</th>\n",
       "      <td>29.03</td>\n",
       "      <td>5.92</td>\n",
       "      <td>Male</td>\n",
       "      <td>No</td>\n",
       "      <td>Sat</td>\n",
       "      <td>Dinner</td>\n",
       "      <td>3</td>\n",
       "    </tr>\n",
       "    <tr>\n",
       "      <th>240</th>\n",
       "      <td>27.18</td>\n",
       "      <td>2.00</td>\n",
       "      <td>Female</td>\n",
       "      <td>Yes</td>\n",
       "      <td>Sat</td>\n",
       "      <td>Dinner</td>\n",
       "      <td>2</td>\n",
       "    </tr>\n",
       "    <tr>\n",
       "      <th>241</th>\n",
       "      <td>22.67</td>\n",
       "      <td>2.00</td>\n",
       "      <td>Male</td>\n",
       "      <td>Yes</td>\n",
       "      <td>Sat</td>\n",
       "      <td>Dinner</td>\n",
       "      <td>2</td>\n",
       "    </tr>\n",
       "    <tr>\n",
       "      <th>242</th>\n",
       "      <td>17.82</td>\n",
       "      <td>1.75</td>\n",
       "      <td>Male</td>\n",
       "      <td>No</td>\n",
       "      <td>Sat</td>\n",
       "      <td>Dinner</td>\n",
       "      <td>2</td>\n",
       "    </tr>\n",
       "    <tr>\n",
       "      <th>243</th>\n",
       "      <td>18.78</td>\n",
       "      <td>3.00</td>\n",
       "      <td>Female</td>\n",
       "      <td>No</td>\n",
       "      <td>Thur</td>\n",
       "      <td>Dinner</td>\n",
       "      <td>2</td>\n",
       "    </tr>\n",
       "  </tbody>\n",
       "</table>\n",
       "<p>244 rows × 7 columns</p>\n",
       "</div>"
      ],
      "text/plain": [
       "     total_bill   tip     sex smoker   day    time  size\n",
       "0         16.99  1.01  Female     No   Sun  Dinner     2\n",
       "1         10.34  1.66    Male     No   Sun  Dinner     3\n",
       "2         21.01  3.50    Male     No   Sun  Dinner     3\n",
       "3         23.68  3.31    Male     No   Sun  Dinner     2\n",
       "4         24.59  3.61  Female     No   Sun  Dinner     4\n",
       "..          ...   ...     ...    ...   ...     ...   ...\n",
       "239       29.03  5.92    Male     No   Sat  Dinner     3\n",
       "240       27.18  2.00  Female    Yes   Sat  Dinner     2\n",
       "241       22.67  2.00    Male    Yes   Sat  Dinner     2\n",
       "242       17.82  1.75    Male     No   Sat  Dinner     2\n",
       "243       18.78  3.00  Female     No  Thur  Dinner     2\n",
       "\n",
       "[244 rows x 7 columns]"
      ]
     },
     "execution_count": 5,
     "metadata": {},
     "output_type": "execute_result"
    }
   ],
   "source": [
    "tips"
   ]
  },
  {
   "cell_type": "code",
   "execution_count": 16,
   "metadata": {},
   "outputs": [
    {
     "name": "stdout",
     "output_type": "stream",
     "text": [
      "Mitjana:  19.78594262295082\n",
      "Variància:  78.92813148851114\n",
      "Asimetria:  1.1262346334818638\n",
      "Curtosis:  1.1691681323851366\n"
     ]
    }
   ],
   "source": [
    "import numpy as np\n",
    "import scipy.stats as sp  \n",
    "\n",
    "# 1st Moment: Mitjana  \n",
    "print(\"Mitjana: \",np.mean(tips.total_bill))\n",
    "# 2nd Moment: Variància  \n",
    "print(\"Variància: \",np.var(tips.total_bill))  \n",
    "# 3rd Moment: Asimetria \n",
    "print(\"Asimetria: \",sp.skew(tips.total_bill)) #\n",
    "# 4th Moment: Curtosis  \n",
    "print(\"Curtosis: \",sp.kurtosis(tips.total_bill))"
   ]
  },
  {
   "cell_type": "markdown",
   "metadata": {},
   "source": [
    "- Asimetria positiva 1.12>0, distribució cap a la detra!\n",
    "- Curtosi (no superior a 3 i positiva): distribució amb \"cues\" menys llargues que una distribució normal (hi ha valors atípics però sense moltes cues)."
   ]
  },
  {
   "cell_type": "markdown",
   "metadata": {},
   "source": [
    "Una curtosi elevada indica:\n",
    "\n",
    "Pic agut al centre de la distribució.\n",
    " - Més valors concentrats al voltant de la mitjana que la distribució normal.\n",
    " - Cues més pesades a causa d'una major concentració de valors extrems o atípics a les cues.\n",
    " - Major probabilitat d'esdeveniments extrems.\n",
    " \n",
    "D'altra banda, una curtosi baixa indica:\n",
    "- Pic pla.\n",
    "- Menys valors concentrats al voltant de la mitjana, però encara més que la distribució normal.\n",
    "- Cues més lleugeres.\n",
    "- Menor probabilitat d'esdeveniments extrems.\n",
    "\n",
    "\n",
    "Segons el grau, les distribucions tenen tres tipus de curtosi:\n",
    "- Distribució mesocúrtica (curtosi = 3, excés de curtosi = 0): distribució normal perfecta o molt propera a ella.\n",
    "- Distribució leptocúrtica (curtosi > 3, excés de curtosi > 0): pic agut, cues pesades.\n",
    "- Distribució platicúrtica (curtosi < 3, excés de curtosi < 0): pic pla, cues lleugeres."
   ]
  },
  {
   "cell_type": "markdown",
   "metadata": {},
   "source": [
    "### Activitat"
   ]
  },
  {
   "cell_type": "code",
   "execution_count": 17,
   "metadata": {},
   "outputs": [
    {
     "name": "stdout",
     "output_type": "stream",
     "text": [
      "0         326\n",
      "1         326\n",
      "2         327\n",
      "3         334\n",
      "4         335\n",
      "         ... \n",
      "53935    2757\n",
      "53936    2757\n",
      "53937    2757\n",
      "53938    2757\n",
      "53939    2757\n",
      "Name: price, Length: 53940, dtype: int64\n"
     ]
    }
   ],
   "source": [
    "import numpy as np\n",
    "import pandas as pd\n",
    "import seaborn as sns\n",
    "\n",
    "# Amb els preus dels diamants\n",
    "diamonds = sns.load_dataset(\"diamonds\")\n",
    "diamond_prices = diamonds[\"price\"]\n",
    "\n",
    "print(diamond_prices)"
   ]
  },
  {
   "cell_type": "code",
   "execution_count": 18,
   "metadata": {},
   "outputs": [],
   "source": [
    "# Calcula la mitjana (media/mean)\n",
    "# Calcula la mediana (mediana/meadian)\n",
    "# Calcula la variància\n",
    "# Calcula l'asimetria\n",
    "# Calcula el coeficient de Curtosi\n",
    "# Fes una visualització de la seva distribució amb seaborn\n",
    "# Com descriuries la distribució d'aquests valors."
   ]
  },
  {
   "cell_type": "markdown",
   "metadata": {},
   "source": [
    "### Activitat"
   ]
  },
  {
   "cell_type": "code",
   "execution_count": 21,
   "metadata": {},
   "outputs": [],
   "source": [
    "# Amb el conjunt de dades dels diamants, crea un nou conjunt on hi hagi una representativitat relativament homogènia entre totes les mostres en relació als preus.\n",
    "# Pensa que aquesta creació ha de ser totalment aleatòria\n",
    "\n",
    "# Tip: Funcions que podem ser útils:\n",
    "# - pd.cut()\n",
    "# - pd.sample()\n",
    "# - np.random.choice()\n",
    "\n",
    "# Dificultat: moderada-elevada"
   ]
  },
  {
   "cell_type": "code",
   "execution_count": 20,
   "metadata": {},
   "outputs": [
    {
     "data": {
      "text/html": [
       "<div>\n",
       "<style scoped>\n",
       "    .dataframe tbody tr th:only-of-type {\n",
       "        vertical-align: middle;\n",
       "    }\n",
       "\n",
       "    .dataframe tbody tr th {\n",
       "        vertical-align: top;\n",
       "    }\n",
       "\n",
       "    .dataframe thead th {\n",
       "        text-align: right;\n",
       "    }\n",
       "</style>\n",
       "<table border=\"1\" class=\"dataframe\">\n",
       "  <thead>\n",
       "    <tr style=\"text-align: right;\">\n",
       "      <th></th>\n",
       "      <th>carat</th>\n",
       "      <th>cut</th>\n",
       "      <th>color</th>\n",
       "      <th>clarity</th>\n",
       "      <th>depth</th>\n",
       "      <th>table</th>\n",
       "      <th>price</th>\n",
       "      <th>x</th>\n",
       "      <th>y</th>\n",
       "      <th>z</th>\n",
       "    </tr>\n",
       "  </thead>\n",
       "  <tbody>\n",
       "    <tr>\n",
       "      <th>0</th>\n",
       "      <td>0.23</td>\n",
       "      <td>Ideal</td>\n",
       "      <td>E</td>\n",
       "      <td>SI2</td>\n",
       "      <td>61.5</td>\n",
       "      <td>55.0</td>\n",
       "      <td>326</td>\n",
       "      <td>3.95</td>\n",
       "      <td>3.98</td>\n",
       "      <td>2.43</td>\n",
       "    </tr>\n",
       "    <tr>\n",
       "      <th>1</th>\n",
       "      <td>0.21</td>\n",
       "      <td>Premium</td>\n",
       "      <td>E</td>\n",
       "      <td>SI1</td>\n",
       "      <td>59.8</td>\n",
       "      <td>61.0</td>\n",
       "      <td>326</td>\n",
       "      <td>3.89</td>\n",
       "      <td>3.84</td>\n",
       "      <td>2.31</td>\n",
       "    </tr>\n",
       "    <tr>\n",
       "      <th>2</th>\n",
       "      <td>0.23</td>\n",
       "      <td>Good</td>\n",
       "      <td>E</td>\n",
       "      <td>VS1</td>\n",
       "      <td>56.9</td>\n",
       "      <td>65.0</td>\n",
       "      <td>327</td>\n",
       "      <td>4.05</td>\n",
       "      <td>4.07</td>\n",
       "      <td>2.31</td>\n",
       "    </tr>\n",
       "    <tr>\n",
       "      <th>3</th>\n",
       "      <td>0.29</td>\n",
       "      <td>Premium</td>\n",
       "      <td>I</td>\n",
       "      <td>VS2</td>\n",
       "      <td>62.4</td>\n",
       "      <td>58.0</td>\n",
       "      <td>334</td>\n",
       "      <td>4.20</td>\n",
       "      <td>4.23</td>\n",
       "      <td>2.63</td>\n",
       "    </tr>\n",
       "    <tr>\n",
       "      <th>4</th>\n",
       "      <td>0.31</td>\n",
       "      <td>Good</td>\n",
       "      <td>J</td>\n",
       "      <td>SI2</td>\n",
       "      <td>63.3</td>\n",
       "      <td>58.0</td>\n",
       "      <td>335</td>\n",
       "      <td>4.34</td>\n",
       "      <td>4.35</td>\n",
       "      <td>2.75</td>\n",
       "    </tr>\n",
       "    <tr>\n",
       "      <th>...</th>\n",
       "      <td>...</td>\n",
       "      <td>...</td>\n",
       "      <td>...</td>\n",
       "      <td>...</td>\n",
       "      <td>...</td>\n",
       "      <td>...</td>\n",
       "      <td>...</td>\n",
       "      <td>...</td>\n",
       "      <td>...</td>\n",
       "      <td>...</td>\n",
       "    </tr>\n",
       "    <tr>\n",
       "      <th>53935</th>\n",
       "      <td>0.72</td>\n",
       "      <td>Ideal</td>\n",
       "      <td>D</td>\n",
       "      <td>SI1</td>\n",
       "      <td>60.8</td>\n",
       "      <td>57.0</td>\n",
       "      <td>2757</td>\n",
       "      <td>5.75</td>\n",
       "      <td>5.76</td>\n",
       "      <td>3.50</td>\n",
       "    </tr>\n",
       "    <tr>\n",
       "      <th>53936</th>\n",
       "      <td>0.72</td>\n",
       "      <td>Good</td>\n",
       "      <td>D</td>\n",
       "      <td>SI1</td>\n",
       "      <td>63.1</td>\n",
       "      <td>55.0</td>\n",
       "      <td>2757</td>\n",
       "      <td>5.69</td>\n",
       "      <td>5.75</td>\n",
       "      <td>3.61</td>\n",
       "    </tr>\n",
       "    <tr>\n",
       "      <th>53937</th>\n",
       "      <td>0.70</td>\n",
       "      <td>Very Good</td>\n",
       "      <td>D</td>\n",
       "      <td>SI1</td>\n",
       "      <td>62.8</td>\n",
       "      <td>60.0</td>\n",
       "      <td>2757</td>\n",
       "      <td>5.66</td>\n",
       "      <td>5.68</td>\n",
       "      <td>3.56</td>\n",
       "    </tr>\n",
       "    <tr>\n",
       "      <th>53938</th>\n",
       "      <td>0.86</td>\n",
       "      <td>Premium</td>\n",
       "      <td>H</td>\n",
       "      <td>SI2</td>\n",
       "      <td>61.0</td>\n",
       "      <td>58.0</td>\n",
       "      <td>2757</td>\n",
       "      <td>6.15</td>\n",
       "      <td>6.12</td>\n",
       "      <td>3.74</td>\n",
       "    </tr>\n",
       "    <tr>\n",
       "      <th>53939</th>\n",
       "      <td>0.75</td>\n",
       "      <td>Ideal</td>\n",
       "      <td>D</td>\n",
       "      <td>SI2</td>\n",
       "      <td>62.2</td>\n",
       "      <td>55.0</td>\n",
       "      <td>2757</td>\n",
       "      <td>5.83</td>\n",
       "      <td>5.87</td>\n",
       "      <td>3.64</td>\n",
       "    </tr>\n",
       "  </tbody>\n",
       "</table>\n",
       "<p>53940 rows × 10 columns</p>\n",
       "</div>"
      ],
      "text/plain": [
       "       carat        cut color clarity  depth  table  price     x     y     z\n",
       "0       0.23      Ideal     E     SI2   61.5   55.0    326  3.95  3.98  2.43\n",
       "1       0.21    Premium     E     SI1   59.8   61.0    326  3.89  3.84  2.31\n",
       "2       0.23       Good     E     VS1   56.9   65.0    327  4.05  4.07  2.31\n",
       "3       0.29    Premium     I     VS2   62.4   58.0    334  4.20  4.23  2.63\n",
       "4       0.31       Good     J     SI2   63.3   58.0    335  4.34  4.35  2.75\n",
       "...      ...        ...   ...     ...    ...    ...    ...   ...   ...   ...\n",
       "53935   0.72      Ideal     D     SI1   60.8   57.0   2757  5.75  5.76  3.50\n",
       "53936   0.72       Good     D     SI1   63.1   55.0   2757  5.69  5.75  3.61\n",
       "53937   0.70  Very Good     D     SI1   62.8   60.0   2757  5.66  5.68  3.56\n",
       "53938   0.86    Premium     H     SI2   61.0   58.0   2757  6.15  6.12  3.74\n",
       "53939   0.75      Ideal     D     SI2   62.2   55.0   2757  5.83  5.87  3.64\n",
       "\n",
       "[53940 rows x 10 columns]"
      ]
     },
     "execution_count": 20,
     "metadata": {},
     "output_type": "execute_result"
    }
   ],
   "source": [
    "diamonds"
   ]
  },
  {
   "cell_type": "code",
   "execution_count": null,
   "metadata": {},
   "outputs": [],
   "source": []
  }
 ],
 "metadata": {
  "kernelspec": {
   "display_name": "my3110",
   "language": "python",
   "name": "python3"
  },
  "language_info": {
   "codemirror_mode": {
    "name": "ipython",
    "version": 3
   },
   "file_extension": ".py",
   "mimetype": "text/x-python",
   "name": "python",
   "nbconvert_exporter": "python",
   "pygments_lexer": "ipython3",
   "version": "3.11.0rc2"
  }
 },
 "nbformat": 4,
 "nbformat_minor": 2
}
