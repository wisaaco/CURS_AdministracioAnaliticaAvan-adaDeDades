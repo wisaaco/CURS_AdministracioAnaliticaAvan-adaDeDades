{
 "cells": [
  {
   "cell_type": "markdown",
   "metadata": {},
   "source": [
    "# U8. Introducció a PowerBi Desktop"
   ]
  },
  {
   "cell_type": "markdown",
   "metadata": {},
   "source": [
    "[PowerBI](https://www.microsoft.com/es-es/power-platform/products/power-bi) és una eina molt útil per crear informes dinàmics amb les dades. Es defineix el model de dades amb compatibilitat amb diferents tipus d'arxius com CSV, XLS, etc., o connexions a bases de dades mitjançant sintaxi SQL, entre altres models d'entrada. Un cop definit el model, es poden crear panells amb molts tipus de gràfics. Són interessants perquè permeten afegir camps dinàmics com llistes d'ítems, i en seleccionar-ne un, la resta de gràfics destaquen aquest item. Si l'entrada de dades s'actualitza, també s'actualitzen els gràfics. Més pràctic que estar executant codi per visualitzar.<br/>\n",
    "\n",
    "Avui dia existeixen molts tutorials gratuïts que podeu trobar per complementar la vostra formació en PowerBI:<br/>\n",
    "- [Documentació oficial](https://learn.microsoft.com/es-es/power-bi/fundamentals/)<br/>\n",
    "- [Una llista de videos a Youtube](https://www.youtube.com/playlist?list=PLXR1MU_rf6FJBO33P90-U2yZkJGcsLZAT)\n",
    "\n",
    "**En aquest curs, només veurem una petita introducció dels principals aspectes perquè tingueu autonomia amb els vostres projectes personals.**<br/>\n",
    "\n",
    "Per això, farem un petit projecte guiat... comencem?"
   ]
  },
  {
   "cell_type": "code",
   "execution_count": null,
   "metadata": {
    "vscode": {
     "languageId": "plaintext"
    }
   },
   "outputs": [],
   "source": []
  },
  {
   "cell_type": "code",
   "execution_count": null,
   "metadata": {
    "vscode": {
     "languageId": "plaintext"
    }
   },
   "outputs": [],
   "source": []
  },
  {
   "cell_type": "markdown",
   "metadata": {},
   "source": [
    "[![License: CC BY 4.0](https://img.shields.io/badge/License-CC_BY_4.0-lightgrey.svg)](https://creativecommons.org/licenses/by/4.0/) <br/>\n",
    "Authors: [Isaac Lera](https://personal.uib.cat/isaac.lera), [Miquel Miró](https://personal.uib.cat/miquel.miro) and [Biel Moyà](https://personal.uib.cat/gabriel.moya)<br/>\n",
    "Institution: Universitat de les Illes Balears (UIB) <br/>"
   ]
  },
  {
   "cell_type": "markdown",
   "metadata": {},
   "source": []
  }
 ],
 "metadata": {
  "language_info": {
   "name": "python"
  }
 },
 "nbformat": 4,
 "nbformat_minor": 2
}
