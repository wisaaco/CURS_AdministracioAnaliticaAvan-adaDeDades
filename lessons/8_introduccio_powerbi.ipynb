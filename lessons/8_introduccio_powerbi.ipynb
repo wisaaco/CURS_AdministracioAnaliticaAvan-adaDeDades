{
 "cells": [
  {
   "cell_type": "markdown",
   "metadata": {},
   "source": [
    "# Unitat 8. Introducció a PowerBi Desktop"
   ]
  },
  {
   "cell_type": "markdown",
   "metadata": {
    "vscode": {
     "languageId": "plaintext"
    }
   },
   "source": [
    "![Home powerbi](powerbidata/powerbi0-home.png \"Home PowerBI\")"
   ]
  },
  {
   "cell_type": "markdown",
   "metadata": {},
   "source": [
    "![Home powerbi](powerbidata/powerbi0-input.png \"Home PowerBI\")"
   ]
  },
  {
   "cell_type": "markdown",
   "metadata": {},
   "source": [
    "![Home powerbi](powerbidata/powerbi0-input2.png \"Home PowerBI\")"
   ]
  },
  {
   "cell_type": "markdown",
   "metadata": {},
   "source": [
    "![Home powerbi](powerbidata/powerbi1-cargawho.png \"Home PowerBI\")"
   ]
  },
  {
   "cell_type": "markdown",
   "metadata": {},
   "source": [
    "![Home powerbi](powerbidata/powerbi2-vistas.png \"Home PowerBI\")"
   ]
  },
  {
   "cell_type": "markdown",
   "metadata": {},
   "source": [
    "![Home powerbi](powerbidata/powerbi3-informe.png \"Home PowerBI\")"
   ]
  },
  {
   "cell_type": "markdown",
   "metadata": {},
   "source": [
    "![Home powerbi](powerbidata/powerbi4-confobjetovisual.png \"Home PowerBI\")"
   ]
  },
  {
   "cell_type": "markdown",
   "metadata": {},
   "source": [
    "![Home powerbi](powerbidata/powerbi5-emisionees.png \"Home PowerBI\")"
   ]
  },
  {
   "cell_type": "markdown",
   "metadata": {},
   "source": [
    "![Home powerbi](powerbidata/powerbi6-indicador.png \"Home PowerBI\")"
   ]
  },
  {
   "cell_type": "markdown",
   "metadata": {},
   "source": [
    "![Home powerbi](powerbidata/powerbi7-transformardatos.png \"Home PowerBI\")"
   ]
  },
  {
   "cell_type": "markdown",
   "metadata": {},
   "source": [
    "![Home powerbi](powerbidata/powerbi7-transformardatos2.png \"Home PowerBI\")"
   ]
  },
  {
   "cell_type": "markdown",
   "metadata": {},
   "source": [
    "![Home powerbi](powerbidata/powerbi8-operacionestransformacion.png \"Home PowerBI\")"
   ]
  },
  {
   "cell_type": "markdown",
   "metadata": {},
   "source": [
    "![Home powerbi](powerbidata/powerbi9-condicional.png \"Home PowerBI\")"
   ]
  },
  {
   "cell_type": "markdown",
   "metadata": {},
   "source": [
    "![Home powerbi](powerbidata/powerbi10-tablacontinentes.png \"Home PowerBI\")"
   ]
  },
  {
   "cell_type": "markdown",
   "metadata": {},
   "source": [
    "![Home powerbi](powerbidata/powerbi11-cambioyeleccion.png \"Home PowerBI\")"
   ]
  },
  {
   "cell_type": "markdown",
   "metadata": {},
   "source": [
    "![Home powerbi](powerbidata/powerbi12-maquetacio.png \"Home PowerBI\")"
   ]
  },
  {
   "cell_type": "markdown",
   "metadata": {},
   "source": [
    "### Activitat"
   ]
  },
  {
   "cell_type": "markdown",
   "metadata": {},
   "source": [
    "![Home powerbi](powerbidata/powerbi13-activitat.png \"Home PowerBI\")"
   ]
  },
  {
   "cell_type": "markdown",
   "metadata": {},
   "source": []
  },
  {
   "cell_type": "markdown",
   "metadata": {},
   "source": [
    "[![License: CC BY 4.0](https://img.shields.io/badge/License-CC_BY_4.0-lightgrey.svg)](https://creativecommons.org/licenses/by/4.0/) <br/>\n",
    "Authors: [Isaac Lera](https://personal.uib.cat/isaac.lera), [Miquel Miró](https://personal.uib.cat/miquel.miro) and [Biel Moyà](https://personal.uib.cat/gabriel.moya)<br/>\n",
    "Institution: Universitat de les Illes Balears (UIB) <br/>"
   ]
  },
  {
   "cell_type": "markdown",
   "metadata": {},
   "source": []
  }
 ],
 "metadata": {
  "language_info": {
   "name": "python"
  }
 },
 "nbformat": 4,
 "nbformat_minor": 2
}
