{
 "cells": [
  {
   "cell_type": "markdown",
   "metadata": {},
   "source": [
    "# Unitat 8. Breu Introducció a PowerBi Desktop"
   ]
  },
  {
   "cell_type": "markdown",
   "metadata": {},
   "source": [
    "[PowerBI](https://www.microsoft.com/es-es/power-platform/products/power-bi) és una eina molt útil per crear informes dinàmics amb les dades. Es defineix el model de dades amb compatibilitat amb diferents tipus d'arxius com CSV, XLS, etc., o connexions a bases de dades mitjançant sintaxi SQL, entre altres models d'entrada. Un cop definit el model, es poden crear panells amb molts tipus de gràfics. Són interessants perquè permeten afegir camps dinàmics com llistes d'ítems, i en seleccionar-ne un, la resta de gràfics destaquen aquest item. Si l'entrada de dades s'actualitza, també s'actualitzen els gràfics. Més pràctic que estar executant codi per visualitzar.<br/>\n",
    "\n",
    "PowerBI està pensat per fer moltes operacions d'una manera interactiva, però també dispossa d'un llenguatge propi que resulta molt pràctic per fer processos de transformació i automatització de dades: [DAX](https://learn.microsoft.com/es-es/power-bi/transform-model/desktop-quickstart-learn-dax-basics). Per altra banda, és molt interessant per integrar diferents models de dades en unica visió. És com si tinguessim un model relacional. Aquests dos punts no ho podem veure en només una unitat.<br/>\n",
    "\n",
    "**En aquest curs, només veurem una petita introducció dels principals aspectes perquè tingueu autonomia amb els vostres projectes personals.**<br/>\n",
    "\n",
    "Existeixen molts tutorials gratuïts que podeu trobar per complementar la vostra formació en PowerBI:<br/>\n",
    "\n",
    "- [Documentació oficial](https://learn.microsoft.com/es-es/power-bi/fundamentals/) <br/>\n",
    "\n",
    "- [Una llista de videos a Youtube](https://www.youtube.com/playlist?list=PLXR1MU_rf6FJBO33P90-U2yZkJGcsLZAT)<br/>\n",
    "\n",
    "    \n",
    "#### Per tot això, farem un petit projecte guiat... comencem?\n",
    "\n",
    "Nota:<br/>\n",
    "- Aquesta guia està feta amb imatges de PowerBi instal·lada en castellà.<br/>\n",
    "- La versió emprada és d'octubre de 2024 (2.137.751.0)\n",
    "- A cada pas hi trobareu la imatge corresponent, i ocasionalment es destacaran els elements d'interès.<br/>"
   ]
  },
  {
   "cell_type": "markdown",
   "metadata": {},
   "source": [
    "### 1. Instal·lació de PowerBI Desktop\n",
    "\n",
    "Tot i que es pot utilitzar una versió web, és altament recomanable instal·lar l’aplicació. Només funciona en el sistema operatiu Windows i no és gratuïta. Tanmateix, amb un registre previ (sense necessitat d’introduir cap informació de pagament), es pot gaudir d’un mes gratuït, que és suficient per a aquest curs.\n",
    "\n",
    "- [Enllaç de descarrega](https://www.microsoft.com/ca-es/download/details.aspx?id=58494)"
   ]
  },
  {
   "cell_type": "markdown",
   "metadata": {},
   "source": [
    "Una vegada instal·lat e iniciat, trobareu una finestra molt similar a aquesta: "
   ]
  },
  {
   "cell_type": "markdown",
   "metadata": {
    "vscode": {
     "languageId": "plaintext"
    }
   },
   "source": [
    "![Home powerbi](powerbidata/powerbi0home.png \"Home PowerBI\")"
   ]
  },
  {
   "cell_type": "markdown",
   "metadata": {},
   "source": [
    "### 2. Creació d'un projecte nou"
   ]
  },
  {
   "cell_type": "markdown",
   "metadata": {},
   "source": [
    "Per crear un nou projecte seleccionem un nou informe (informe en blanco, new report,...). I sortirà una petita finestra amb les principals maneres de importar dades. Per exemple, un fitxer excel és pot obrir com un fitxer excel, o sino podeu anar al boto del menu contextual: `Obtener datos`."
   ]
  },
  {
   "cell_type": "markdown",
   "metadata": {},
   "source": [
    "![Loadmenu](powerbidata/powerbi0input.png \"Loadmenu\")"
   ]
  },
  {
   "cell_type": "markdown",
   "metadata": {},
   "source": [
    "![Obtencio](powerbidata/powerbi0input2.png \"Obtencio\")"
   ]
  },
  {
   "cell_type": "markdown",
   "metadata": {},
   "source": [
    "### 3. Càrrega de dades\n",
    "\n",
    "Com ja esteu acostumats amb els nostres cursos, treballarem amb el fitxer `WHO.csv` [ftxer](https://www.exploredata.net/ftp/WHO.csv)\n",
    "\n",
    "Seguiu els passos d'aquest entorn, configureu les opcions (codificació, separador, etc.) i accepteu!"
   ]
  },
  {
   "cell_type": "markdown",
   "metadata": {},
   "source": [
    "![Carga2](powerbidata/powerbi1cargawho.png \"Carga2\")"
   ]
  },
  {
   "cell_type": "markdown",
   "metadata": {},
   "source": [
    "### 4. Perspectives de les dades i funcions associades"
   ]
  },
  {
   "cell_type": "markdown",
   "metadata": {},
   "source": [
    "\n",
    "Un cop carregat el fitxer de dades, us apareixerà un panell amb la `vista d'informe`.<br/>\n",
    "\n",
    "A la part superior esquerra trobareu quatre icones, cadascuna amb la perspectiva des d'on treballareu:<br/>\n",
    "\n",
    "- **Vista d'informe**: en aquest panell trobareu les funcionalitats per crear els elements visuals.<br/>\n",
    "- **Vista de taula**: on treballareu per crear noves columnes, transformar les existents... és a dir, gestionar les dades.<br/>\n",
    "- **Vista de model**: en aquest entorn podem tenir obertes diferents fonts de dades i definir les relacions entre elles. Per exemple, imagineu un altre fitxer amb els ciutadans dels països que apareixen al WHO.csv.<br/>\n",
    "- **Vista de consultes DAX**: un panell per fer consultes específiques en la sintaxi DAX, similar a SQL per a la gestió de bases de dades.<br/>\n",
    "\n",
    "**Exploreu cadascuna de les vistes!**\n",
    "\n",
    "\n"
   ]
  },
  {
   "cell_type": "markdown",
   "metadata": {},
   "source": [
    "![Vistas](powerbidata/powerbi2vistas.png \"Vistas\")"
   ]
  },
  {
   "cell_type": "markdown",
   "metadata": {},
   "source": [
    "### 5. Creació d'elements visuals"
   ]
  },
  {
   "cell_type": "markdown",
   "metadata": {},
   "source": [
    "A la vista d'informe, disposem d'un entorn molt ric amb menús contextuals. A la dreta d'aquest panell hi ha accessos ràpids: Filtres, Compilar i Dades, on trobareu la majoria d'eines necessàries per definir els gràfics.\n",
    "\n",
    "Començarem fent doble clic o arrossegant un gràfic del tipus circular o \"pastís\" i el col·locarem al nostre informe, tal com es mostra a la figura:"
   ]
  },
  {
   "cell_type": "markdown",
   "metadata": {},
   "source": [
    "![Informe](powerbidata/powerbi3informe.png \"Informe\")"
   ]
  },
  {
   "cell_type": "markdown",
   "metadata": {},
   "source": [
    "Tots els elements visuals tenen una configuració pròpia:<br/>\n",
    "- La icona de les barres i el llamp: on podem definir els valors, etiquetes, etc.<br/>\n",
    "- La icona de la brotxa: on configurar diferents estils de colors, fonts, etc.<br/>\n",
    "- La icona del filtre: on podem vincular aquests gràfics amb altres elements per oferir certa interactivitat.<br/>\n",
    "\n",
    "\n",
    "La més important és la primera. Feu clic al botó i apareixerà una finestra associada on tindreu la possibilitat de canviar-ne el tipus i seleccionar els valors que voleu."
   ]
  },
  {
   "cell_type": "markdown",
   "metadata": {},
   "source": [
    "![PlotConf](powerbidata/powerbi4confobjetovisual.png \"PlotConf\")"
   ]
  },
  {
   "cell_type": "markdown",
   "metadata": {},
   "source": [
    "Com que és un gràfic circular, a `Llegendà` posarem la columna de *Country* i als `Valors` la suma total d'emissions per país (*Total_CO2_emissions*).\n",
    "\n",
    "Aquesta eina no sap si hi ha mostres (files) repetides a la columna *Country*, per tant, indirectament ofereix una agregació dels valors. En el nostre cas, només tenim una mostra per país, i per tant aquesta suma simplement donarà el valor pertinent d'emissions de CO2.\n"
   ]
  },
  {
   "cell_type": "markdown",
   "metadata": {},
   "source": [
    "![Emissions](powerbidata/powerbi5emisionees.png \"Emissions\")"
   ]
  },
  {
   "cell_type": "markdown",
   "metadata": {},
   "source": [
    "Al costat d'aquesta gràfica, afegirem una etiqueta numèrica. Mireu el tipus de gràfic seleccionat al cercle vermell. En aquesta etiqueta, com hem fet abans, afegirem la suma total d'emissions de CO₂.\n",
    "\n",
    "Com podeu veure, és un comptador total o de les seleccions de països, tal com veurem més endavant."
   ]
  },
  {
   "cell_type": "markdown",
   "metadata": {},
   "source": [
    "![Indicador](powerbidata/powerbi6indicador.png \"Indicador\")"
   ]
  },
  {
   "cell_type": "markdown",
   "metadata": {},
   "source": [
    "### 6. Transformació de columnes"
   ]
  },
  {
   "cell_type": "markdown",
   "metadata": {},
   "source": [
    "Malauradament, sempre cal fer operacions sobre les dades. PowerBI ofereix moltes opcions per modificar el tipus d'una variable, la composició condicional i aritmètica dels valors de les columnes, etc. <br/>Seleccioneu l'opció `Transformar dades`."
   ]
  },
  {
   "cell_type": "markdown",
   "metadata": {},
   "source": [
    "![Transformacio0](powerbidata/powerbi7transformardatos.png \"Transformacio'00\")"
   ]
  },
  {
   "cell_type": "markdown",
   "metadata": {},
   "source": [
    "Al menú contextual superior trobareu les operacions més comunes que es poden fer, algunes de les quals es poden fer molt fàcilment amb Pandas, com per exemple, utilitzar la primera fila com a encapçalament.\n",
    "\n",
    "Una part molt interessant és que totes les operacions que feu sobre una columna queden registrades en un historial de passos, `Passos aplicats`. En qualsevol moment podeu retrocedir o fer un copy+paste dels passos a altres columnes.\n",
    "\n",
    "Similar a Excel, podem utilitzar una sintaxi pròpia per definir tot el que fem. Mireu la barra de funcions.\n",
    "\n",
    "Nosaltres crearem una nova columna d’etiquetes de continents, on transformarem l’ID del continent a un nom. Recordeu que a Python això és l’aplicació d’un `map` o `apply` amb un diccionari d’aquesta relació.**"
   ]
  },
  {
   "cell_type": "markdown",
   "metadata": {},
   "source": [
    "![Transformacio1](powerbidata/powerbi7transformardatos2.png \"Transformacio1\")"
   ]
  },
  {
   "cell_type": "markdown",
   "metadata": {},
   "source": [
    "Per crear aquesta nova columna basada en Continent, selecciona el menú clicant sobre la capçalera d'aquesta columna. Després, selecciona `Agregar columna` i, a continuació, `Agregar columna condicional`."
   ]
  },
  {
   "cell_type": "markdown",
   "metadata": {},
   "source": [
    "![Transformacio](powerbidata/powerbi8operacionestransformacion.png \"Transformacio\")"
   ]
  },
  {
   "cell_type": "markdown",
   "metadata": {},
   "source": [
    "En aquest menú, afegim el nou nom de la columna, per exemple, *continent_label*.\n",
    "\n",
    "A més, anirem afegint les correspondències necessàries, com es veu a la figura.\n",
    "**Nota**: ID 1 ==  Àfrica."
   ]
  },
  {
   "cell_type": "markdown",
   "metadata": {},
   "source": [
    "![Condicions](powerbidata/powerbi9condicional.png \"Condicions\")"
   ]
  },
  {
   "cell_type": "markdown",
   "metadata": {},
   "source": [
    "Un cop feta aquesta nova columna, podeu veure els valors a la vista de taula.\n",
    "\n",
    "Tornem a la vista d'informe i afegirem una nova opció de visualització: una taula interactiva. Mireu l'opció a la següent figura. Dins d'aquest element, afegim el seu format de taula i la nova columna, tal com es veu als cercles grocs."
   ]
  },
  {
   "cell_type": "markdown",
   "metadata": {},
   "source": [
    "![Continents](powerbidata/powerbi10tablacontinentes.png \"Continents\")"
   ]
  },
  {
   "cell_type": "markdown",
   "metadata": {},
   "source": [
    "### 7. Interacció"
   ]
  },
  {
   "cell_type": "markdown",
   "metadata": {},
   "source": [
    "Si premeu sobre qualsevol continent, la resta de gràfics s'actualitzen amb els valors associats: com la quantitat d'emissions o el ressaltat dels trossos del pastís.\n",
    "\n",
    "En qualsevol moment podeu canviar el tipus de gràfic. En aquest cas, el pastís no ens dóna gaire joc pel nombre de països. És fàcil canviar-ne el tipus. El seleccionem i premem sobre un altre tipus. En aquest cas, seleccionem un gràfic de barres, com es veu a la figura.\n",
    "\n",
    "Ara queda més clar el ressaltat que es fa sobre els països que formen part d'aquest continent.\n",
    "\n",
    "Aquesta capacitat d'associar valors entre diferents gràfics és el que facilita la interpretació de les dades a nivell analític. I, naturalment, si actualitzem el fitxer amb nou contingut, tot el panell s'actualitza sense haver de fer cap procés extra."
   ]
  },
  {
   "cell_type": "markdown",
   "metadata": {},
   "source": [
    "![Canvi](powerbidata/powerbi11cambioyeleccion.png \"Canvi plot\")"
   ]
  },
  {
   "cell_type": "markdown",
   "metadata": {
    "vscode": {
     "languageId": "plaintext"
    }
   },
   "source": [
    "Com a darrer detall, si premeu sobre qualsevol element del gràfic, apareixerà un menú contextual que us permetrà modificar aquest camp: tipus de lletra, text, estil, etc."
   ]
  },
  {
   "cell_type": "markdown",
   "metadata": {},
   "source": [
    "![Maquetacio](powerbidata/powerbi12maquetacio.png \"Maquetacio\")"
   ]
  },
  {
   "cell_type": "markdown",
   "metadata": {},
   "source": [
    "### Activitat"
   ]
  },
  {
   "cell_type": "markdown",
   "metadata": {},
   "source": [
    "L'activitat d'aquest capítol és senzilla. Afegeix un gràfic de tipus pastís que mostri els continents i les emissions. Intenta donar-li una mica de maquetació."
   ]
  },
  {
   "cell_type": "markdown",
   "metadata": {},
   "source": [
    "![ActivitatPB](powerbidata/powerbi13activitat.png \"ActivitatPBI\")"
   ]
  },
  {
   "cell_type": "markdown",
   "metadata": {},
   "source": []
  },
  {
   "cell_type": "markdown",
   "metadata": {},
   "source": [
    "[![License: CC BY 4.0](https://img.shields.io/badge/License-CC_BY_4.0-lightgrey.svg)](https://creativecommons.org/licenses/by/4.0/) <br/>\n",
    "Authors: [Isaac Lera](https://personal.uib.cat/isaac.lera), [Miquel Miró](https://personal.uib.cat/miquel.miro) and [Biel Moyà](https://personal.uib.cat/gabriel.moya)<br/>\n",
    "Institution: Universitat de les Illes Balears (UIB) <br/>"
   ]
  },
  {
   "cell_type": "markdown",
   "metadata": {},
   "source": []
  }
 ],
 "metadata": {
  "language_info": {
   "name": "python"
  }
 },
 "nbformat": 4,
 "nbformat_minor": 2
}
