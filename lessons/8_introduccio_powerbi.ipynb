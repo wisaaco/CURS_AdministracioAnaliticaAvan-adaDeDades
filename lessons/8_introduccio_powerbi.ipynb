{
 "cells": [
  {
   "cell_type": "markdown",
   "metadata": {},
   "source": [
    "# Unitat 8. Introducció a PowerBi Desktop"
   ]
  },
  {
   "cell_type": "markdown",
   "metadata": {},
   "source": [
    "[PowerBI](https://www.microsoft.com/es-es/power-platform/products/power-bi) és una eina molt útil per crear informes dinàmics amb les dades. Es defineix el model de dades amb compatibilitat amb diferents tipus d'arxius com CSV, XLS, etc., o connexions a bases de dades mitjançant sintaxi SQL, entre altres models d'entrada. Un cop definit el model, es poden crear panells amb molts tipus de gràfics. Són interessants perquè permeten afegir camps dinàmics com llistes d'ítems, i en seleccionar-ne un, la resta de gràfics destaquen aquest item. Si l'entrada de dades s'actualitza, també s'actualitzen els gràfics. Més pràctic que estar executant codi per visualitzar.<br/>\n",
    "\n",
    "PowerBI està pensat per fer moltes operacions d'una manera interactiva, però també dispossa d'un llenguatge propi que resulta molt pràctic per fer processos de transformació i automatització de dades: [DAX](https://learn.microsoft.com/es-es/power-bi/transform-model/desktop-quickstart-learn-dax-basics). Per altra banda, és molt interessant per integrar diferents models de dades en unica visió. És com si tinguessim un model relacional. Aquests dos punts no ho podem veure en només una unitat.<br/>\n",
    "\n",
    "**En aquest curs, només veurem una petita introducció dels principals aspectes perquè tingueu autonomia amb els vostres projectes personals.**<br/>\n",
    "\n",
    "Existeixen molts tutorials gratuïts que podeu trobar per complementar la vostra formació en PowerBI:<br/>\n",
    "\n",
    "- [Documentació oficial](https://learn.microsoft.com/es-es/power-bi/fundamentals/) <br/>\n",
    "\n",
    "- [Una llista de videos a Youtube](https://www.youtube.com/playlist?list=PLXR1MU_rf6FJBO33P90-U2yZkJGcsLZAT)<br/>\n",
    "\n",
    "    \n",
    "Per tot això, farem un petit projecte guiat... comencem?<br/>\n",
    "Nota:<br/>\n",
    "- Aquesta guia està feta amb imatges d'una aplicació instal·lada en castellà.<br/>\n",
    "- A cada pas hi trobareu la imatge corresponent, i ocasionalment es destacaran els elements d'interès.<br/>"
   ]
  },
  {
   "cell_type": "markdown",
   "metadata": {},
   "source": [
    "### 1. Instal·lació de PowerBI Desktop\n",
    "\n",
    "Tot i que es pot utilitzar una versió web, és altament recomanable instal·lar l’aplicació. Només funciona en el sistema operatiu Windows i no és gratuïta. Tanmateix, amb un registre previ (sense necessitat d’introduir cap informació de pagament), es pot gaudir d’un mes gratuït, que és suficient per a aquest curs.\n",
    "\n",
    "- [Enllaç de descarrega](https://www.microsoft.com/ca-es/download/details.aspx?id=58494)"
   ]
  },
  {
   "cell_type": "markdown",
   "metadata": {},
   "source": [
    "Una vegada instal·lat e iniciat, trobareu una finestra molt similar a aquesta: "
   ]
  },
  {
   "cell_type": "markdown",
   "metadata": {
    "vscode": {
     "languageId": "plaintext"
    }
   },
   "source": [
    "![Home powerbi](powerbidata/powerbi0home.png \"Home PowerBI\")"
   ]
  },
  {
   "cell_type": "markdown",
   "metadata": {},
   "source": [
    "### 2. Creació d'un projecte nou"
   ]
  },
  {
   "cell_type": "markdown",
   "metadata": {},
   "source": [
    "Per crear un nou projecte seleccionem un nou informe (informe en blanco, new report,...). I sortirà una petita finestra amb les principals maneres de importar dades. Per exemple, un fitxer excel és pot obrir com un fitxer excel, o sino podeu anar al boto del menu contextual: `Obtener datos`."
   ]
  },
  {
   "cell_type": "markdown",
   "metadata": {},
   "source": [
    "![Home powerbi](powerbidata/powerbi0input.png \"Home PowerBI\")"
   ]
  },
  {
   "cell_type": "markdown",
   "metadata": {},
   "source": [
    "![Home powerbi](powerbidata/powerbi0input2.png \"Home PowerBI\")"
   ]
  },
  {
   "cell_type": "markdown",
   "metadata": {},
   "source": [
    "### 3. Càrrega de dades\n",
    "\n",
    "Com ja esteu acostumats amb els nostres cursos, treballarem amb el fitxer `WHO.csv` [ftxer](https://www.exploredata.net/ftp/WHO.csv)\n",
    "\n",
    "Seguiu els passos d'aquest entorn, configureu les opcions (codificació, separador, etc.) i accepteu!"
   ]
  },
  {
   "cell_type": "markdown",
   "metadata": {},
   "source": [
    "![Home powerbi](powerbidata/powerbi1cargawho.png \"Home PowerBI\")"
   ]
  },
  {
   "cell_type": "markdown",
   "metadata": {},
   "source": [
    "### 4. Perspectives de les dades i funcions associades"
   ]
  },
  {
   "cell_type": "markdown",
   "metadata": {},
   "source": [
    "\n",
    "Un cop carregat el fitxer de dades, us apareixerà un panell amb la `vista d'informe`.<br/>\n",
    "\n",
    "A la part superior esquerra trobareu quatre icones, cadascuna amb la perspectiva des d'on treballareu:<br/>\n",
    "\n",
    "- Vista d'informe: en aquest panell trobareu les funcionalitats per crear els elements visuals.<br/>\n",
    "- Vista de taula: on treballareu per crear noves columnes, transformar les existents... és a dir, gestionar les dades.<br/>\n",
    "- Vista de model: en aquest entorn podem tenir obertes diferents fonts de dades i definir les relacions entre elles. Per exemple, imagineu un altre fitxer amb els ciutadans dels països que apareixen al WHO.csv.<br/>\n",
    "- Vista de consultes DAX: un panell per fer consultes específiques en la sintaxi DAX, similar a SQL per a la gestió de bases de dades.<br/>\n",
    "\n",
    "**Exploreu cadascuna de les vistes!**\n",
    "\n",
    "\n"
   ]
  },
  {
   "cell_type": "markdown",
   "metadata": {},
   "source": [
    "![Home powerbi](powerbidata/powerbi2vistas.png \"Home PowerBI\")"
   ]
  },
  {
   "cell_type": "code",
   "execution_count": null,
   "metadata": {
    "vscode": {
     "languageId": "plaintext"
    }
   },
   "outputs": [],
   "source": []
  },
  {
   "cell_type": "markdown",
   "metadata": {},
   "source": [
    "### 5. Creació d'elements visuals"
   ]
  },
  {
   "cell_type": "markdown",
   "metadata": {},
   "source": [
    "![Home powerbi](powerbidata/powerbi3informe.png \"Home PowerBI\")"
   ]
  },
  {
   "cell_type": "markdown",
   "metadata": {},
   "source": [
    "![Home powerbi](powerbidata/powerbi4confobjetovisual.png \"Home PowerBI\")"
   ]
  },
  {
   "cell_type": "markdown",
   "metadata": {},
   "source": [
    "![Home powerbi](powerbidata/powerbi5emisionees.png \"Home PowerBI\")"
   ]
  },
  {
   "cell_type": "markdown",
   "metadata": {},
   "source": [
    "![Home powerbi](powerbidata/powerbi6indicador.png \"Home PowerBI\")"
   ]
  },
  {
   "cell_type": "markdown",
   "metadata": {},
   "source": [
    "![Home powerbi](powerbidata/powerbi7transformardatos.png \"Home PowerBI\")"
   ]
  },
  {
   "cell_type": "markdown",
   "metadata": {},
   "source": [
    "![Home powerbi](powerbidata/powerbi7transformardatos2.png \"Home PowerBI\")"
   ]
  },
  {
   "cell_type": "markdown",
   "metadata": {},
   "source": [
    "![Home powerbi](powerbidata/powerbi8operacionestransformacion.png \"Home PowerBI\")"
   ]
  },
  {
   "cell_type": "markdown",
   "metadata": {},
   "source": [
    "![Home powerbi](powerbidata/powerbi9condicional.png \"Home PowerBI\")"
   ]
  },
  {
   "cell_type": "markdown",
   "metadata": {},
   "source": [
    "![Home powerbi](powerbidata/powerbi10tablacontinentes.png \"Home PowerBI\")"
   ]
  },
  {
   "cell_type": "markdown",
   "metadata": {},
   "source": [
    "![Home powerbi](powerbidata/powerbi11-cambioyeleccion.png \"Home PowerBI\")"
   ]
  },
  {
   "cell_type": "markdown",
   "metadata": {},
   "source": [
    "![Home powerbi](powerbidata/powerbi12maquetacio.png \"Home PowerBI\")"
   ]
  },
  {
   "cell_type": "markdown",
   "metadata": {},
   "source": [
    "### Activitat"
   ]
  },
  {
   "cell_type": "markdown",
   "metadata": {},
   "source": [
    "![Home powerbi](powerbidata/powerbi13activitat.png \"Home PowerBI\")"
   ]
  },
  {
   "cell_type": "markdown",
   "metadata": {},
   "source": []
  },
  {
   "cell_type": "markdown",
   "metadata": {},
   "source": [
    "[![License: CC BY 4.0](https://img.shields.io/badge/License-CC_BY_4.0-lightgrey.svg)](https://creativecommons.org/licenses/by/4.0/) <br/>\n",
    "Authors: [Isaac Lera](https://personal.uib.cat/isaac.lera), [Miquel Miró](https://personal.uib.cat/miquel.miro) and [Biel Moyà](https://personal.uib.cat/gabriel.moya)<br/>\n",
    "Institution: Universitat de les Illes Balears (UIB) <br/>"
   ]
  },
  {
   "cell_type": "markdown",
   "metadata": {},
   "source": []
  }
 ],
 "metadata": {
  "language_info": {
   "name": "python"
  }
 },
 "nbformat": 4,
 "nbformat_minor": 2
}
