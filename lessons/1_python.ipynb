{
 "cells": [
  {
   "attachments": {},
   "cell_type": "markdown",
   "metadata": {},
   "source": [
    "<div align=\"center\">\n",
    "\n",
    "[![Open In Colab](https://colab.research.google.com/assets/colab-badge.png)](https://colab.research.google.com/github/wisaaco/CURS_AdministracioAnaliticaAvancadaDeDades/blob/main/lessons/1_python.ipynb)\n",
    "\n",
    "Si no funciona el botó podeu copiar el següent [enllaç](https://colab.research.google.com/github/wisaaco/CURS_AdministracioAnaliticaAvancadaDeDades/blob/main/lessons/1_python.ipynb)\n",
    "\n",
    "</div>"
   ]
  },
  {
   "cell_type": "markdown",
   "metadata": {},
   "source": [
    "# Unitat 1: Fundaments de Python \n",
    "\n",
    "Contingut de la unitat:\n",
    "\n",
    "- Variables bàsiques\n",
    "- Variables compostes\n",
    "- Funcions i mètodes\n",
    "- Ús de llibreries\n",
    "- Activitat\n",
    "  "
   ]
  },
  {
   "cell_type": "markdown",
   "metadata": {},
   "source": [
    "Un dels factors que influeix en la corba d'aprenentatge d'un llenguatge és la seva sintaxi. Òbviament, Python és un llenguatge més, i cal aprendre les seves instruccions i l'estructura del seu codi.\n",
    "\n",
    "En aquest curs veurem les principals estructures i maneres d'operar amb ella. A grans trets, el més essencial és entendre com usar mètodes o funcions ja definides, aquest concepte és coneix amb el nom d'invocació. \n",
    "\n",
    "Aquesta invocació es realitza amb el seu nom i parèntesis:"
   ]
  },
  {
   "cell_type": "code",
   "metadata": {
    "ExecuteTime": {
     "end_time": "2024-10-21T14:39:46.837580Z",
     "start_time": "2024-10-21T14:39:46.834157Z"
    }
   },
   "source": [
    "print(\"HOLA\")"
   ],
   "outputs": [
    {
     "name": "stdout",
     "output_type": "stream",
     "text": [
      "HOLA\n"
     ]
    }
   ],
   "execution_count": 1
  },
  {
   "cell_type": "markdown",
   "metadata": {},
   "source": [
    "\n",
    "Dins dels parèntesis, hi posem els arguments que aquesta funció processa (separats per coma). En el cas anterior la cadena de caracters `\"HOLA\"` és el paràmetre de la funció `print`. A continuació veiem com es pot emprar la funció `sorted` per ordenar seqüència de nombres (primer paràmetre). El segon paràmetre anomenat `reverse` indica que l'ordenació es fa de major a menor. "
   ]
  },
  {
   "cell_type": "code",
   "metadata": {
    "ExecuteTime": {
     "end_time": "2024-10-21T14:39:46.909263Z",
     "start_time": "2024-10-21T14:39:46.900329Z"
    }
   },
   "source": [
    "sorted([2,1,3,2,4,2],reverse=True)"
   ],
   "outputs": [
    {
     "data": {
      "text/plain": [
       "[4, 3, 2, 2, 2, 1]"
      ]
     },
     "execution_count": 2,
     "metadata": {},
     "output_type": "execute_result"
    }
   ],
   "execution_count": 2
  },
  {
   "cell_type": "markdown",
   "metadata": {},
   "source": [
    "També podem concatenar resultats de funcions i fins i tot de variables amb l'ús d'un punt o com a argument d'una altra funció:"
   ]
  },
  {
   "cell_type": "code",
   "metadata": {
    "ExecuteTime": {
     "end_time": "2024-10-21T14:39:47.158671Z",
     "start_time": "2024-10-21T14:39:47.153702Z"
    }
   },
   "source": [
    "sorted([2,1,3,2,4,2],reverse=True).count(2) "
   ],
   "outputs": [
    {
     "data": {
      "text/plain": [
       "3"
      ]
     },
     "execution_count": 3,
     "metadata": {},
     "output_type": "execute_result"
    }
   ],
   "execution_count": 3
  },
  {
   "cell_type": "code",
   "metadata": {
    "ExecuteTime": {
     "end_time": "2024-10-21T14:39:47.191985Z",
     "start_time": "2024-10-21T14:39:47.186299Z"
    }
   },
   "source": [
    "\"HOLA MAR\".split(\" \")"
   ],
   "outputs": [
    {
     "data": {
      "text/plain": [
       "['HOLA', 'MAR']"
      ]
     },
     "execution_count": 4,
     "metadata": {},
     "output_type": "execute_result"
    }
   ],
   "execution_count": 4
  },
  {
   "cell_type": "markdown",
   "metadata": {},
   "source": [
    "La línia de sota conté funcions que són paràmetres d'altres funcions:"
   ]
  },
  {
   "cell_type": "code",
   "metadata": {
    "ExecuteTime": {
     "end_time": "2024-10-21T14:39:47.251617Z",
     "start_time": "2024-10-21T14:39:47.248723Z"
    }
   },
   "source": [
    "print(list(range(10)))"
   ],
   "outputs": [
    {
     "name": "stdout",
     "output_type": "stream",
     "text": [
      "[0, 1, 2, 3, 4, 5, 6, 7, 8, 9]\n"
     ]
    }
   ],
   "execution_count": 5
  },
  {
   "cell_type": "markdown",
   "metadata": {},
   "source": [
    "**Els comentaris** \n",
    "\n",
    "Els comentaris són importants per descriure línies de codi complicades, l'intèrpret del llenguatge no executará les línies que comencen amb el símbol `#`:"
   ]
  },
  {
   "cell_type": "code",
   "metadata": {
    "ExecuteTime": {
     "end_time": "2024-10-21T14:39:47.301151Z",
     "start_time": "2024-10-21T14:39:47.297916Z"
    }
   },
   "source": [
    "# Això és un comentari d'una cel·la amb codi. \n",
    "# Si et trobes a Colab pots executar aquesta cel·la fent: shit+enter o icona de triangle\n",
    "print(\"Hello World !\")\n",
    "print(\"Print a list of numbers: %s\"%list(range(10)))"
   ],
   "outputs": [
    {
     "name": "stdout",
     "output_type": "stream",
     "text": [
      "Hello World !\n",
      "Print a list of numbers: [0, 1, 2, 3, 4, 5, 6, 7, 8, 9]\n"
     ]
    }
   ],
   "execution_count": 6
  },
  {
   "cell_type": "markdown",
   "metadata": {},
   "source": [
    "**Les assignacions**\n",
    "\n",
    "Les dades que utilitzen els programes es guarden dins la memòria mitjançant el que anomenem com a variables. Com el nom indica, una variable pot canviar de contingut al llarg de l’execució d’un programa.\n",
    "En les següents línies de codi tenim diferents exemples d'operacions que es guarden en una variable usant el símbol `=`. El que es troba a l'esquerra d'aquest símbol és la variable que empram per guardar el resultat de l'operació que es realitza a la seva dreta"
   ]
  },
  {
   "cell_type": "code",
   "metadata": {
    "ExecuteTime": {
     "end_time": "2024-10-21T14:39:47.358145Z",
     "start_time": "2024-10-21T14:39:47.353537Z"
    }
   },
   "source": [
    "# Cel·la de codi #1\n",
    "a = 1 + 1 # suma 1 + 1, per tant, la variable a tendra valor 2\n",
    "b = 3 # asigna a la variable b el valor 3\n",
    "c = len(\"HOLA\") #la seva longitud\n",
    "d = len([\"HOLA\"])\n",
    "print(a,b,c,d)"
   ],
   "outputs": [
    {
     "name": "stdout",
     "output_type": "stream",
     "text": [
      "2 3 4 1\n"
     ]
    }
   ],
   "execution_count": 7
  },
  {
   "cell_type": "markdown",
   "metadata": {},
   "source": [
    "**Finalment, Python té una abstracció de tipus molt simple (duck typing), la qual cosa permet simplificar molt la programació i ens serà molt útil per a l'anàlisi de dades.** El tipus d'una variable defineix la natura dels valors que aquesta pot emmagatzemar. També limita les operacions que es poden fer amb elles."
   ]
  },
  {
   "cell_type": "code",
   "metadata": {
    "ExecuteTime": {
     "end_time": "2024-10-21T14:39:47.574380Z",
     "start_time": "2024-10-21T14:39:47.414300Z"
    }
   },
   "source": [
    "import numpy as np # importació d'un conjunt de dades i mètodes no inclosos per defecte\n",
    "\n",
    "valors = np.array([1,3,4,5,6])\n",
    "\n",
    "print(valors*10)\n",
    "print(\"-\"*30)\n",
    "print(valors*valors)\n",
    "print(\"+\"*30)\n",
    "print(valors.mean())\n",
    "print(valors.std())\n",
    "print(valors.min())"
   ],
   "outputs": [
    {
     "name": "stdout",
     "output_type": "stream",
     "text": [
      "[10 30 40 50 60]\n",
      "------------------------------\n",
      "[ 1  9 16 25 36]\n",
      "++++++++++++++++++++++++++++++\n",
      "3.8\n",
      "1.7204650534085253\n",
      "1\n"
     ]
    }
   ],
   "execution_count": 8
  },
  {
   "attachments": {},
   "cell_type": "markdown",
   "metadata": {},
   "source": [
    "## Operadors\n",
    "Un llenguatge de programació ofereix operacions aritmètiques i lògiques relacionades amb el tipus de dades de les variables amb les quals operen. Els tipus de dades elementals són: _String_, enter, real i booleà:"
   ]
  },
  {
   "cell_type": "code",
   "metadata": {
    "ExecuteTime": {
     "end_time": "2024-10-21T14:39:47.602003Z",
     "start_time": "2024-10-21T14:39:47.596037Z"
    }
   },
   "source": [
    "caracter = 'a'\n",
    "estring = \"Hello!\"\n",
    "enter =  123\n",
    "decimal = 1.23\n",
    "complexe = 1+23j\n",
    "logic = False\n",
    "\n",
    "print(type(caracter))\n",
    "print(type(estring))\n",
    "print(type(enter))\n",
    "print(type(decimal))\n",
    "print(type(complexe))\n",
    "print(type(logic))\n",
    "\n",
    "# Pots crear totes les variables que vulguis amb format lliure.\n",
    "# Intenta que les variables tinguin un nom adequat al seu contingut.\n",
    "# Evita espais, símbols i accents.\n",
    "\n",
    "nameCognoms = \"Pep Vila\"\n",
    "telefono = \"97100000\"\n",
    "dni = \"34989542A\"\n",
    "pes = 80.3\n",
    "pesos = [1.3, 40.3, 20.0, -1.0]\n",
    "\n",
    "print(pesos)"
   ],
   "outputs": [
    {
     "name": "stdout",
     "output_type": "stream",
     "text": [
      "<class 'str'>\n",
      "<class 'str'>\n",
      "<class 'int'>\n",
      "<class 'float'>\n",
      "<class 'complex'>\n",
      "<class 'bool'>\n",
      "[1.3, 40.3, 20.0, -1.0]\n"
     ]
    }
   ],
   "execution_count": 9
  },
  {
   "attachments": {},
   "cell_type": "markdown",
   "metadata": {},
   "source": [
    "En Python, els **operadors** són símbols especials que indiquen que és necessari realitzar algun tipus de computació. Els valors amb els quals actua un operador es diuen **operands**.\n",
    "\n",
    "Ho entendrem amb un petit exemple:\n",
    "```python\n",
    "x = 10.0\n",
    "i = 5\n",
    "resultat = x + i\n",
    "```\n",
    "En aquest cas, l'operador `+` ens permet sumar els operands `x` i `i` junts i guardar el resultat en la variable del mateix nom. Hem de destacar que en aquest codi hem necessitat definir tres variables diferents.\n",
    "\n",
    "Un operand pot ser una variable o literal. Definim els **literals** en un programa com la idea d'expressar un valor que no canvia en el codi font, aquests han de ser d'un dels diferents tipus de dades que hem descrit\n",
    "anteriorment.\n",
    "\n",
    "A continuació tenim un altre fragment de codi en el qual usem altres operadors i literals de tipus sencer:\n",
    "```python\n",
    "a = 10\n",
    "b = 20\n",
    "x = 45\n",
    "r = (a + b - 5) + (x + 10 + 20)\n",
    "```"
   ]
  },
  {
   "cell_type": "markdown",
   "metadata": {},
   "source": [
    "A continuació trobareu exemples dels diferents operadors que es poden usar a Python:\n",
    "\n",
    "### Operadors Aritmètics\n",
    "Serveixen per operar informació numèrica"
   ]
  },
  {
   "cell_type": "code",
   "metadata": {
    "ExecuteTime": {
     "end_time": "2024-10-21T14:39:47.651628Z",
     "start_time": "2024-10-21T14:39:47.646093Z"
    }
   },
   "source": [
    "a = 10\n",
    "b = 20\n",
    "print(a+b) # suma\n",
    "print(a-b) # resta\n",
    "print(-a)  # negació\n",
    "print(a*b) # multiplicació\n",
    "print(a/b) # divisió\n",
    "print(a%b) # modul\n",
    "print(a//b) # divisió entera\n",
    "print(a**b) # exponent\n",
    "print(\"---\")\n",
    "a = 10.3\n",
    "b = 2.34\n",
    "\n",
    "print(a%b) # modul flotant\n",
    "print(a//b) # divisió entera\n",
    "print(a**b) # exponent\n",
    "print(\"---\")\n",
    "\n",
    "aj = 1+23j\n",
    "bj = 23j\n",
    "\n",
    "print(aj-bj) # resta complexe\n",
    "print(-aj)  # negació complexe\n",
    "print(aj*bj) # multiplicació complexe\n"
   ],
   "outputs": [
    {
     "name": "stdout",
     "output_type": "stream",
     "text": [
      "30\n",
      "-10\n",
      "-10\n",
      "200\n",
      "0.5\n",
      "10\n",
      "0\n",
      "100000000000000000000\n",
      "---\n",
      "0.9400000000000013\n",
      "4.0\n",
      "234.4439909630706\n",
      "---\n",
      "(1+0j)\n",
      "(-1-23j)\n",
      "(-529+23j)\n"
     ]
    }
   ],
   "execution_count": 10
  },
  {
   "cell_type": "markdown",
   "metadata": {},
   "source": [
    "### Operadors de Comparació\n",
    "\n",
    "Serveixen per comparar qualsevol tipus de dades:"
   ]
  },
  {
   "cell_type": "code",
   "metadata": {
    "ExecuteTime": {
     "end_time": "2024-10-21T14:39:47.711301Z",
     "start_time": "2024-10-21T14:39:47.706239Z"
    }
   },
   "source": [
    "\n",
    "a = 10\n",
    "b = 12\n",
    "\n",
    "print(a==b) # Igualtat\n",
    "print(a!=b) # diferència\n",
    "print(a>b)\n",
    "print(a<b)\n",
    "print(a>=b)\n",
    "print(a<=b)\n",
    "\n",
    "print(\"---\")\n",
    "a = 10.0\n",
    "b = 10.0\n",
    "result = a==b\n",
    "print(result)"
   ],
   "outputs": [
    {
     "name": "stdout",
     "output_type": "stream",
     "text": [
      "False\n",
      "True\n",
      "False\n",
      "True\n",
      "False\n",
      "True\n",
      "---\n",
      "True\n"
     ]
    }
   ],
   "execution_count": 11
  },
  {
   "cell_type": "markdown",
   "metadata": {},
   "source": [
    "### Operadors lògics\n",
    "\n",
    "Operen variables booleanes que només tenen els valors vertader (`True`) i fals (`False`)"
   ]
  },
  {
   "cell_type": "code",
   "metadata": {
    "ExecuteTime": {
     "end_time": "2024-10-21T14:39:47.759659Z",
     "start_time": "2024-10-21T14:39:47.754465Z"
    }
   },
   "source": [
    "\n",
    "a = 10.0\n",
    "b = 10.0\n",
    "c = True\n",
    "f = False\n",
    "print(not(a==b))\n",
    "print(c or f)\n",
    "print(c and (a==c))\n",
    "print(True and True)\n",
    "print(False or True)\n",
    "print(not(not(not(True))))"
   ],
   "outputs": [
    {
     "name": "stdout",
     "output_type": "stream",
     "text": [
      "False\n",
      "True\n",
      "False\n",
      "True\n",
      "True\n",
      "False\n"
     ]
    }
   ],
   "execution_count": 12
  },
  {
   "cell_type": "code",
   "metadata": {
    "ExecuteTime": {
     "end_time": "2024-10-21T14:39:47.831926Z",
     "start_time": "2024-10-21T14:39:47.793217Z"
    }
   },
   "source": [
    "# Print data\n",
    "a = \"HOLA\"\n",
    "b = 10\n",
    "c = 3.141618\n",
    "\n",
    "print(\"This is the value of a string %s\"%a)\n",
    "print(\"This is the value of a integer %i\"%b)\n",
    "print(\"This is the value of a float %f\"%c)\n",
    "print(\"This is the value of a float %0.2f\"%c)\n",
    "\n",
    "print(\"---\")\n",
    "print(\"Print a float as a integer %i\"%c)\n",
    "print(\"Print a integer as a string %s\"%b)\n",
    "\n",
    "print(\"---\")\n",
    "print(\"Print a string as a float %f\"%a) # ERRORs!"
   ],
   "outputs": [
    {
     "name": "stdout",
     "output_type": "stream",
     "text": [
      "This is the value of a string HOLA\n",
      "This is the value of a integer 10\n",
      "This is the value of a float 3.141618\n",
      "This is the value of a float 3.14\n",
      "---\n",
      "Print a float as a integer 3\n",
      "Print a integer as a string 10\n",
      "---\n"
     ]
    },
    {
     "ename": "TypeError",
     "evalue": "must be real number, not str",
     "output_type": "error",
     "traceback": [
      "\u001B[1;31m---------------------------------------------------------------------------\u001B[0m",
      "\u001B[1;31mTypeError\u001B[0m                                 Traceback (most recent call last)",
      "Cell \u001B[1;32mIn[13], line 16\u001B[0m\n\u001B[0;32m     13\u001B[0m \u001B[38;5;28mprint\u001B[39m(\u001B[38;5;124m\"\u001B[39m\u001B[38;5;124mPrint a integer as a string \u001B[39m\u001B[38;5;132;01m%s\u001B[39;00m\u001B[38;5;124m\"\u001B[39m\u001B[38;5;241m%\u001B[39mb)\n\u001B[0;32m     15\u001B[0m \u001B[38;5;28mprint\u001B[39m(\u001B[38;5;124m\"\u001B[39m\u001B[38;5;124m---\u001B[39m\u001B[38;5;124m\"\u001B[39m)\n\u001B[1;32m---> 16\u001B[0m \u001B[38;5;28mprint\u001B[39m(\u001B[38;5;124;43m\"\u001B[39;49m\u001B[38;5;124;43mPrint a string as a float \u001B[39;49m\u001B[38;5;132;43;01m%f\u001B[39;49;00m\u001B[38;5;124;43m\"\u001B[39;49m\u001B[38;5;241;43m%\u001B[39;49m\u001B[43ma\u001B[49m) \u001B[38;5;66;03m# ERRORs!\u001B[39;00m\n",
      "\u001B[1;31mTypeError\u001B[0m: must be real number, not str"
     ]
    }
   ],
   "execution_count": 13
  },
  {
   "metadata": {},
   "cell_type": "markdown",
   "source": [
    "Podeu veure aquesta informació resumida en format taula tot seguit:\n",
    "\n",
    "| Operador  |          Operació          |      Exemple      | Resultat |\n",
    "|:---------:|:--------------------------:|:-----------------:|:--------:|\n",
    "|    `+`    |            Suma            |       5 + 3       |    8     |\n",
    "|    `-`    |           Resta            |       5 - 3       |    2     |\n",
    "|    `*`    |       Multiplicació        |       5 * 3       |    18    |\n",
    "|    `/`    |          Divisió           |       5 /3        | 1.666667 |\n",
    "|    `^`    |          Potencia          |      5 ** 3       |   125    |\n",
    "|   `%/%`   |      División entera       |      5 // 2       |    2     |\n",
    "|   `%%`    |           Mòdul            |       5 % 2       |    1     |\n",
    "| x `or` y  |     x Ó y és verdater      |  `TRUE or FALSE`  | `TRUE`       |\n",
    "| x `and` y |    x I y son verdaters     | `TRUE  and FALSE` | `FALSE`      |\n",
    "|  `not`x   | x no és verdater (negació) |    `not TRUE`     | `FALSE`      |\n",
    "| `<`        |         Menor que          | 5 < 3   | `FALSE`     |\n",
    "| `<=`       |     Menor o igual que      | 5 <= 3  | `FALSE`     |\n",
    "| `>`        |         Major que          | 5 > 3   | `TRUE`      |\n",
    "| `>=`       |     Major o igual que      | 5 >= 3  | `TRUE`      |\n",
    "| `==`       |    Exactament igual que    | 5 == 3  | `FALSE`     |\n",
    "| `!=`       |        Diferent que        | 5 != 3  | `TRUE`      |\n",
    "\n"
   ]
  },
  {
   "attachments": {},
   "cell_type": "markdown",
   "metadata": {},
   "source": [
    "### Activitats\n",
    "\n",
    "\n",
    "1. Suposem que un objecte es llança verticalment cap amunt des del sòl amb una velocitat inicial de 20 m/s. L'acceleració deguda a la gravetat és de -9.8 m/s². Calcula:\n",
    "    * El temps que trigarà a aconseguir la seva altura màxima.\n",
    "        Formula: <br />\n",
    "            \n",
    "        $v = o + a \\cdot t$\n",
    "        \n",
    "        On:\n",
    "        \n",
    "        - v = velocitat final\n",
    "        - o = velocitat inicial\n",
    "        - a = acceleració\n",
    "        - t = temps\n",
    "    * L'altura màxima que aconseguirà l'objecte.\n",
    "        Formula: <br/>\n",
    "        \n",
    "        $s = o \\cdot t + \\frac{1}{2} \\cdot a \\cdot t²$\n",
    "        \n",
    "        On:\n",
    "        \n",
    "        - s = desplaçament vertical (altura)\n",
    "        - o = velocitat inicial\n",
    "        - a = acceleració\n",
    "        - t = temps\n"
   ]
  },
  {
   "cell_type": "code",
   "execution_count": null,
   "metadata": {},
   "outputs": [],
   "source": [
    "v = 0\n",
    "a = -9.8"
   ]
  },
  {
   "attachments": {},
   "cell_type": "markdown",
   "metadata": {},
   "source": [
    "2. Realitzar un conjunt d'expressions en Python que ens calculi l'índex de massa corporal (IMC) d'una persona que mesura 2 m i pesa 60 Kg. Es calcula dividint el pes entre l'altura al quadrat (en cm).\n",
    "3. Realitzar un conjunt d'expressions en Python per a resoldre una equació de primer grau de la forma ax+b= 0. Els valors d'i b els posarem directament en el codi i mostrar la solució per pantalla."
   ]
  },
  {
   "attachments": {},
   "cell_type": "markdown",
   "metadata": {},
   "source": [
    "## Estructures de control\n",
    "\n",
    "No volem introduir molta complexitat en aquest curs, però es necessari entendre que podem fer certes operacions de control amb les dades: recorreguts de seqüències, crear diferents branques d'execució, etc ..."
   ]
  },
  {
   "cell_type": "code",
   "metadata": {
    "ExecuteTime": {
     "end_time": "2024-10-21T14:28:55.670593Z",
     "start_time": "2024-10-21T14:28:55.666460Z"
    }
   },
   "source": [
    "name = \"Pep\"\n",
    "grau = 0.3\n",
    "\n",
    "if name == \"Pep\":\n",
    "    factor = 10\n",
    "else: \n",
    "    factor = 1\n",
    "\n",
    "grau = grau * factor\n",
    "print(\"Grau d'amistat amb %s es: %f \"%(name,grau))"
   ],
   "outputs": [
    {
     "name": "stdout",
     "output_type": "stream",
     "text": [
      "Grau d'amistat amb Pep es: 3.000000 \n"
     ]
    }
   ],
   "execution_count": 3
  },
  {
   "cell_type": "code",
   "metadata": {
    "ExecuteTime": {
     "end_time": "2024-10-21T14:28:56.550898Z",
     "start_time": "2024-10-21T14:28:56.546383Z"
    }
   },
   "source": [
    "names = [\"Pep\",\"Lluis\",\"Paco\"]\n",
    "\n",
    "for name in names:\n",
    "    grau = 0.3\n",
    "\n",
    "    if name == \"Pep\":\n",
    "        factor = 10\n",
    "    else: \n",
    "        factor = 1\n",
    "\n",
    "    grau = grau * factor\n",
    "    print(\"Grau d'amistat amb %s es: %f \"%(name,grau))"
   ],
   "outputs": [
    {
     "name": "stdout",
     "output_type": "stream",
     "text": [
      "Grau d'amistat amb Pep es: 3.000000 \n",
      "Grau d'amistat amb Lluis es: 0.300000 \n",
      "Grau d'amistat amb Paco es: 0.300000 \n"
     ]
    }
   ],
   "execution_count": 4
  },
  {
   "metadata": {
    "ExecuteTime": {
     "end_time": "2024-10-21T14:29:01.460985Z",
     "start_time": "2024-10-21T14:29:01.457106Z"
    }
   },
   "cell_type": "code",
   "source": [
    "names = [\"Pep\",\"Lluis\",\"Paco\"]\n",
    "\n",
    "i = 0\n",
    "while i<len(names):\n",
    "    print(names[i])\n",
    "    i+=1"
   ],
   "outputs": [
    {
     "name": "stdout",
     "output_type": "stream",
     "text": [
      "Pep\n",
      "Lluis\n",
      "Paco\n"
     ]
    }
   ],
   "execution_count": 5
  },
  {
   "metadata": {
    "ExecuteTime": {
     "end_time": "2024-10-21T14:29:53.740625Z",
     "start_time": "2024-10-21T14:29:53.736580Z"
    }
   },
   "cell_type": "code",
   "source": [
    "names = [\"Pep\",\"Lluis\",\"Paco\"]\n",
    "\n",
    "for i in range(len(names)):\n",
    "    print(names[i])"
   ],
   "outputs": [
    {
     "name": "stdout",
     "output_type": "stream",
     "text": [
      "Pep\n",
      "Lluis\n",
      "Paco\n"
     ]
    }
   ],
   "execution_count": 6
  },
  {
   "attachments": {},
   "cell_type": "markdown",
   "metadata": {},
   "source": [
    "### Activitats\n",
    "1. Realitzar un programa que imprimeixi tots els números del 0 al 10 excepte el 3 i el 6."
   ]
  },
  {
   "metadata": {},
   "cell_type": "code",
   "outputs": [],
   "execution_count": null,
   "source": ""
  },
  {
   "metadata": {},
   "cell_type": "markdown",
   "source": [
    "2. Donada la següent llista de noms es demana:\n",
    "    * Es troba el cognom \"Gasol\" en aquesta llista: Sí/No?\n",
    "    * Imprimeix cada ítem de la llista sempre que la seva longitud (nombre de caràcters) sigui major que 6.\n",
    "     Pista: La funció ``len`` de Python ens permet mesurar la longitud d'una cadena de caràcters.\n",
    "    * Afegeix \"Gasol\" a aquesta llista"
   ]
  },
  {
   "metadata": {},
   "cell_type": "code",
   "outputs": [],
   "execution_count": null,
   "source": "noms = [\"Ruscalleda\", \"Nadal\", \"Gaudi\", \"Rodoreda\"]"
  },
  {
   "metadata": {},
   "cell_type": "markdown",
   "source": [
    "\n",
    "3. Escriu un programa que mostri la taula de multiplicar d'un nombre fins al 10 utilitzant un bucle ``for``."
   ]
  },
  {
   "metadata": {},
   "cell_type": "code",
   "outputs": [],
   "execution_count": null,
   "source": ""
  },
  {
   "metadata": {},
   "cell_type": "markdown",
   "source": "4. Escriu un programa que determini si un nombre és perfecte (és a dir, si és igual a la suma dels seus divisors propis) utilitzant bucles i condicionals."
  },
  {
   "metadata": {},
   "cell_type": "code",
   "outputs": [],
   "execution_count": null,
   "source": ""
  },
  {
   "attachments": {},
   "cell_type": "markdown",
   "metadata": {},
   "source": [
    "## Funcions\n",
    "\n",
    "Encara que normalment usarem funcions ja definides en el propi llenguatge, en algunes ocasions ens serà necessari crear les nostres pròpies funcions. Per a això usarem la instrucció `def` Aquí tenim la sintaxi bàsica per a definir una funció en ``Python``:\n",
    "\n",
    "\n",
    "```python\n",
    "\n",
    "def nom_de_la_funcio(arguments):\n",
    "    # Codi que realitza l'operació desitjada\n",
    "    # Podem incloure múltiples sentències\n",
    "    resultat = ...\n",
    "    \n",
    "    return resultat\n",
    "```\n",
    "\n",
    "A continuació expliquem els components clau:\n",
    "\n",
    "- **nom_de_la_funcion**: Això és el nom que li donem a la nostra funció. Ha de ser un nom vàlid de variable en Python i ha de començar amb una lletra (no un número ni un caràcter especial). El nom de la funció és com l'anomenarem més endavant per a executar-la.\n",
    "\n",
    "- **arguments**: Són els paràmetres que la nostra funció accepta com a entrada. Podem especificar zero o més arguments separats per comes. Els arguments són variables que prenen valors quan anomenem a la funció i s'utilitzen dins de la funció per a efectuar operacions.\n",
    "\n",
    "- **resultat**: Dins del cos de la funció, podem calcular un resultat o fer qualsevol tasca desitjada. Podem usar la paraula clau ``return`` per a retornar un valor específic com a resultat de la funció. El valor que es retorna s'emmagatzema en la variable resultat.\n",
    "\n",
    "\n",
    "Un exemple molt simple de funció:\n",
    "```python\n",
    "def suma(a, b):\n",
    "    resultat = a + b\n",
    "    return resultat\n",
    "```\n",
    "\n",
    "### Activitats\n",
    "\n",
    "1. Convertir graus Celsius a Fahrenheit: Crea una funció que rep un paràmetre (temperatura en graus Celsius) i retorna l'equivalent en graus Fahrenheit.\n",
    "2. Calculadora de descomptes: Definir una funció anomenada ``calcular_descompte`` que rep el preu original d'un producte i l'edat del client com a arguments. La funció ha de calcular el preu amb descompte segons les següents regles:\n",
    "    - Si el client té menys de 18 anys, el descompte és del 20%.\n",
    "    - Si el client té entre 18 i 60 anys (inclusivament), no hi ha descompte.\n",
    "    - Si el client té més de 60 anys, el descompte és del 25%.\n",
    "\n",
    "3. Calculadora d'impostos sobre la renda: Definir una funció anomenada calcular_impost que prengui l'ingrés anual d'una persona com a argument i retorni la quantitat d'impostos a pagar segons les següents regles:\n",
    "    - Si l'ingrés anual és menor o igual a 10.000 €, l'impost és del 10\\%.\n",
    "    - Si l'ingrés anual està entre 10.001 € i 50.000 €, l'impost és del 20% per a la quantitat que excedeix 10.000 € i del 10% per a la part fins a 10.000 €.\n",
    "    - Si l'ingrés anual és major a 50.000 €, l'impost és del 30% per a la quantitat que excedeix $50,000, del 20% per a la quantitat entre 10.001 € i 50.000 €, i del 10% per a la part fins a 10.000 €.\n",
    "\n",
    "## Variables compostes\n",
    "\n",
    "Fins al moment nosaltres hem definit les variables com a dades simples (“unidimensionals”), cada variable guarda un únic valor d’un únic tipus de dades. Introduirem el concepte de dades estructurades o dades compostes que ens permetran agrupar conjunts de valors en una única variable, és a dir, en un únic nom. Ja n'hem vist alguns exemples amb l'ús de llistes, per exemple a l'exercici anterior.\n",
    "\n",
    "Així com no hi ha un únic tipus problema a resoldre, tampoc hi ha una única manera de dotar d’estructura a les nostres dades. Cada una d’aquestes estructures té unes característiques particulars que les fa adients per diferents circumstàncies."
   ]
  },
  {
   "cell_type": "code",
   "execution_count": null,
   "metadata": {},
   "outputs": [],
   "source": [
    "llistes =  [\"Pep\",\"Lluis\",\"Paco\"]  # Les llistes consisteixen en un conjunt de variables i/o literals entre dos claudàtors\n",
    "print(llistes)\n",
    "print(llistes[0])\n",
    "print(len(llistes))\n",
    "\n",
    "print(\"-\"*20)\n",
    "\n",
    "\n",
    "diccionaris = { \"Pep\": \"324345C\", \"Lluis\":\"493094B\", \"Paco\":\"309403A\"} # Un diccionari és un conjunt de parelles clau-valor entre dues claus\n",
    "print(diccionaris)\n",
    "print(len(diccionaris))\n",
    "print(diccionaris.keys())\n",
    "print(diccionaris.values())\n",
    "print(diccionaris[\"Pep\"])\n",
    "\n",
    "print(\"-\"*20)\n",
    "\n",
    "tuples = (\"Pep\",33,\"3490940A\")  # Una tupla és molt similar a una llista, però un cop n'hem definit una, no la podem modificar de cap manera, només la podem consultar.\n",
    "print(tuples)\n",
    "print(tuples[1])\n",
    "\n",
    "print(\"-\"*20)\n",
    "\n",
    "grups = set([0, 2, 2, 3, \"Pep\", \"Paco\", \"Pep\"]) # Un conjunt és un cas especial d'una llista en el qual no hi pot haver elements repetits.\n",
    "print(grups)\n",
    "print(len(grups))\n",
    "print(\"Paco\" in grups)\n"
   ]
  },
  {
   "attachments": {},
   "cell_type": "markdown",
   "metadata": {},
   "source": [
    "És molt important conèixer el tipus de cada composició d'una variable i dels seus mètodes associats (_built types_)"
   ]
  },
  {
   "cell_type": "code",
   "execution_count": null,
   "metadata": {},
   "outputs": [],
   "source": [
    "codiPostal = { \"Palma\": [\"07004\",\"07122\"], \"Inca\": [\"07300\"]}\n",
    "\n",
    "print(type(codiPostal))"
   ]
  },
  {
   "cell_type": "code",
   "execution_count": null,
   "metadata": {},
   "outputs": [],
   "source": [
    "print(type(codiPostal[\"Palma\"]))"
   ]
  },
  {
   "cell_type": "code",
   "execution_count": null,
   "metadata": {},
   "outputs": [],
   "source": [
    "print(type(codiPostal[\"Palma\"][0]))"
   ]
  },
  {
   "cell_type": "code",
   "execution_count": null,
   "metadata": {},
   "outputs": [],
   "source": [
    "if \"07122\" in codiPostal[\"Palma\"]:\n",
    "    print(\"El codi 07122 és el CP de la UIB\")"
   ]
  },
  {
   "cell_type": "code",
   "execution_count": null,
   "metadata": {},
   "outputs": [],
   "source": [
    "codiPostal[\"Sineu\"] = [\"07510\"]\n",
    "print(codiPostal)\n",
    "print(len(codiPostal))"
   ]
  },
  {
   "cell_type": "code",
   "execution_count": null,
   "metadata": {},
   "outputs": [],
   "source": [
    "codiPostal[\"Sineu\"].append(\"07511\")\n",
    "\n",
    "for key in codiPostal:\n",
    "    print(key, codiPostal[key])"
   ]
  },
  {
   "attachments": {},
   "cell_type": "markdown",
   "metadata": {},
   "source": [
    "### Activitats\n",
    "1. Donada aquesta variable anomenada `data` es demana:\n",
    "    * Quina lletra té el DNI de Pep.\n",
    "    * Quants elements té la variable data.\n",
    "    * Afegeix una altra persona. Nota: no cal que tingui els mateixos camps.\n",
    "<br />"
   ]
  },
  {
   "metadata": {
    "ExecuteTime": {
     "end_time": "2024-10-21T15:01:08.922978Z",
     "start_time": "2024-10-21T15:01:08.919452Z"
    }
   },
   "cell_type": "code",
   "source": [
    "data = [\n",
    "    {\n",
    "        \"nom\":\"Pep\",\n",
    "        \"DNI\": {\n",
    "            \"numero\":3243434,\n",
    "            \"lletra\":\"A\"\n",
    "        }\n",
    "    },\n",
    "    {\n",
    "        \"nom\":\"Lluis\",\n",
    "        \"DNI\": {\n",
    "            \"numero\":1000000,\n",
    "            \"lletra\":\"B\"\n",
    "        }\n",
    "    }\n",
    "]"
   ],
   "outputs": [],
   "execution_count": 14
  },
  {
   "metadata": {},
   "cell_type": "markdown",
   "source": [
    "2. Una empresa té un inventari de productes amb diferents categories, i cada producte té un preu i una quantitat en estoc. \n",
    "    * Crea un diccionari on la clau sigui el nom d'una categoria de producte i el valor sigui una llista de tuples. Cada tupla contindrà el nom del producte, el preu i la quantitat en estoc.\n",
    "    * Crea una funció que calculi el valor total de l'inventari per categoria (preu per quantitat per a cada producte).\n",
    "    * Mostra la categoria que té el valor total més alt en inventari."
   ]
  },
  {
   "metadata": {},
   "cell_type": "code",
   "outputs": [],
   "execution_count": null,
   "source": ""
  },
  {
   "attachments": {},
   "cell_type": "markdown",
   "metadata": {},
   "source": [
    "## Llibreries\n",
    "\n",
    "Python inclou moltes funcionalitats de base, però hi ha llibreries que donen molt de potencial. Pràcticament, tot el que puguem necessitar a l'hora de fer els nostres anàlisis de dades ja està tot implementat en Python i a les seves llibreries. Per tant, la nostra feina serà conèixer l'entorn de Python i les seves llibreries i emprar les funcions i estructures de dades més adients.\n",
    "\n",
    "A Google Colab no cal instal·lar-ne, però a una plataforma pròpia si seria necessari. En aquest curs introductori no cobriren aquest punt."
   ]
  },
  {
   "cell_type": "code",
   "execution_count": null,
   "metadata": {},
   "outputs": [],
   "source": [
    "preus = [10.0, 20.3, 12.3, 13.4, 9.65, 9.98, 7.98, 9.9]\n",
    "\n",
    "print(sum(preus)/len(preus))\n"
   ]
  },
  {
   "cell_type": "code",
   "execution_count": null,
   "metadata": {},
   "outputs": [],
   "source": [
    "# Hi ha llibreries incloses en el nucli de Python. Estan instal·lades, però per defecte no es carreguen, per tant ho haurem de fer nosaltres\n",
    "import math\n",
    "print(math.sqrt(preus[0])) # arrel quadrada\n"
   ]
  },
  {
   "attachments": {},
   "cell_type": "markdown",
   "metadata": {},
   "source": [
    "### Llibreria Numpy\n",
    "\n",
    "Numpy és la llibreria numèrica per excel·lència.\n",
    "\n",
    "https://numpy.org/\n",
    "\n",
    "Aquesta llibrería està instalada per defecte a Google Colab però no està a una instal·lació nativa de Python. "
   ]
  },
  {
   "cell_type": "code",
   "execution_count": null,
   "metadata": {},
   "outputs": [],
   "source": [
    "# Hi ha d'altres que cal instal·lar-les\n",
    "import numpy as np #np és un alias\n",
    "\n",
    "preus = [10.0, 20.3, 12.3, 13.4, 9.65, 9.98, 7.98, 9.9] # una llista de items\n",
    "preus = np.array(preus) #un array/llista de valors númerics\n",
    "\n",
    "print(preus.mean())\n",
    "print(preus.std())\n",
    "print(preus.min())\n",
    "print(preus.max())\n"
   ]
  },
  {
   "cell_type": "code",
   "execution_count": null,
   "metadata": {},
   "outputs": [],
   "source": [
    "# Operacions vectorials\n",
    "preusIVA = preus*1.21\n",
    "print(preusIVA)"
   ]
  },
  {
   "cell_type": "code",
   "execution_count": null,
   "metadata": {},
   "outputs": [],
   "source": [
    "# Operacions lògiques\n",
    "print(preus>10.0)\n",
    "print(preus[preus>10.0])"
   ]
  },
  {
   "cell_type": "markdown",
   "metadata": {},
   "source": [
    "**Accedint als elements d’una llista**\n",
    "\n",
    "Es pot accedir a elements individuals d’una llista especificant la seva posició, també anomenada índex, entre claudàtors. La indexació de llistes comença a l’índex zero, això vol dir que el primer element es troba en aquesta posició i el darrer en la posició $n-1$ on $n$ és el nombre d’elements de la llista.\n",
    "\n",
    "Python també permet una sintaxi d’indexació avançada que permet extreure subllistes d’una llista. Aquesta tècnica és coneguda com a _slicing_. Sigui `ll` una variable que identifica una llista, una expressió de la forma `ll[inici:final]` retorna la porció de `ll` que comença en la posició `inici`, i acaba en la posició `final-1`. És a dir, la posició indexada per `final` no és inclosa dins aquesta subllista."
   ]
  },
  {
   "cell_type": "code",
   "execution_count": null,
   "metadata": {},
   "outputs": [],
   "source": [
    "# Seleccio (slicing)\n",
    "print(preus)\n",
    "print(preus[3])\n",
    "print(preus[-1])\n",
    "\n",
    "print(\"-\"*30)\n",
    "\n",
    "print(preus[:3])\n",
    "print(preus[:-1])\n",
    "print(preus[2:4])\n",
    "print(preus[6:])"
   ]
  },
  {
   "attachments": {},
   "cell_type": "markdown",
   "metadata": {},
   "source": [
    "### Activitats\n",
    "\n",
    "1. S'ha fet un petit estudi de mercat del preu d'origen de certs productes. Són preus per kilogram durant quatre dies. L'objectiu d'aquesta activitat és la consolidació de les estructures bàsiques de Python.\n",
    "\n",
    "Recomanacions\n",
    "- Identificar quines estructures de dades tenim\n",
    "- Identificar com podem seleccionar informació"
   ]
  },
  {
   "metadata": {},
   "cell_type": "code",
   "outputs": [
    {
     "name": "stdout",
     "output_type": "stream",
     "text": [
      "[[30.3  20.3  25.9  39.  ]\n",
      " [ 0.33  0.43  0.34  0.12]\n",
      " [ 0.45  0.56  0.38  0.43]]\n"
     ]
    }
   ],
   "execution_count": 58,
   "source": [
    "preus = np.array(\n",
    "        [ #Dia0, Dia1, Dia2, Dia3\n",
    "            [30.3, 20.3, 25.9, 39.0], # Cebes, preus per cèntims/kg \n",
    "            [0.33, 0.43, 0.34, 0.12], # Patates, euro/kg\n",
    "            [0.45, 0.56, 0.38, 0.43] # Taronges euro/kg\n",
    "])\n",
    "\n",
    "print(preus)"
   ]
  },
  {
   "cell_type": "markdown",
   "metadata": {},
   "source": [
    "**La importància del _slicing_**"
   ]
  },
  {
   "cell_type": "code",
   "execution_count": 49,
   "metadata": {},
   "outputs": [
    {
     "data": {
      "text/plain": [
       "array([30.3, 20.3, 25.9, 39. ])"
      ]
     },
     "execution_count": 49,
     "metadata": {},
     "output_type": "execute_result"
    }
   ],
   "source": [
    "preus[0] # Cebes"
   ]
  },
  {
   "cell_type": "code",
   "execution_count": 50,
   "metadata": {},
   "outputs": [
    {
     "data": {
      "text/plain": [
       "array([0.33, 0.43, 0.34, 0.12])"
      ]
     },
     "execution_count": 50,
     "metadata": {},
     "output_type": "execute_result"
    }
   ],
   "source": [
    "preus[1] # Patates"
   ]
  },
  {
   "cell_type": "code",
   "execution_count": 51,
   "metadata": {},
   "outputs": [
    {
     "data": {
      "text/plain": [
       "array([0.45, 0.56, 0.38, 0.43])"
      ]
     },
     "execution_count": 51,
     "metadata": {},
     "output_type": "execute_result"
    }
   ],
   "source": [
    "preus[2] #Taronges"
   ]
  },
  {
   "cell_type": "code",
   "execution_count": 66,
   "metadata": {},
   "outputs": [
    {
     "ename": "IndexError",
     "evalue": "index 19 is out of bounds for axis 0 with size 3",
     "output_type": "error",
     "traceback": [
      "\u001B[0;31m---------------------------------------------------------------------------\u001B[0m",
      "\u001B[0;31mIndexError\u001B[0m                                Traceback (most recent call last)",
      "Cell \u001B[0;32mIn[66], line 1\u001B[0m\n\u001B[0;32m----> 1\u001B[0m \u001B[43mpreus\u001B[49m\u001B[43m[\u001B[49m\u001B[38;5;241;43m19\u001B[39;49m\u001B[43m]\u001B[49m\n",
      "\u001B[0;31mIndexError\u001B[0m: index 19 is out of bounds for axis 0 with size 3"
     ]
    }
   ],
   "source": [
    "preus[19]"
   ]
  },
  {
   "cell_type": "code",
   "execution_count": 55,
   "metadata": {},
   "outputs": [
    {
     "data": {
      "text/plain": [
       "array([[0.33, 0.43, 0.34, 0.12],\n",
       "       [0.45, 0.56, 0.38, 0.43]])"
      ]
     },
     "execution_count": 55,
     "metadata": {},
     "output_type": "execute_result"
    }
   ],
   "source": [
    "preus[1:] #Patates i Taronges"
   ]
  },
  {
   "cell_type": "code",
   "execution_count": 62,
   "metadata": {},
   "outputs": [
    {
     "data": {
      "text/plain": [
       "array([0.303, 0.33 , 0.45 ])"
      ]
     },
     "execution_count": 62,
     "metadata": {},
     "output_type": "execute_result"
    }
   ],
   "source": [
    "preus[:,0] # preus del dia 0"
   ]
  },
  {
   "cell_type": "code",
   "execution_count": 65,
   "metadata": {},
   "outputs": [
    {
     "data": {
      "text/plain": [
       "array([[0.203, 0.259],\n",
       "       [0.43 , 0.34 ],\n",
       "       [0.56 , 0.38 ]])"
      ]
     },
     "execution_count": 65,
     "metadata": {},
     "output_type": "execute_result"
    }
   ],
   "source": [
    "preus[:,1:3] #preus del día 1 i 2"
   ]
  },
  {
   "attachments": {},
   "cell_type": "markdown",
   "metadata": {},
   "source": [
    "Recomanacions:\n",
    "\n",
    "- Identifiqueu el tipus de variable i els tipus inherents que pugui tindre aquest objecte (*preuOrigin*)\n",
    "- Com podem accedir a cada part?, i subapartat?\n",
    "\n",
    "#### Qüestions\n"
   ]
  },
  {
   "cell_type": "code",
   "execution_count": 59,
   "metadata": {},
   "outputs": [
    {
     "name": "stdout",
     "output_type": "stream",
     "text": [
      "[[0.303 0.203 0.259 0.39 ]\n",
      " [0.33  0.43  0.34  0.12 ]\n",
      " [0.45  0.56  0.38  0.43 ]]\n"
     ]
    }
   ],
   "source": [
    "#. 0) Preparació i normalització dels preus (resolt)\n",
    "\n",
    "# Cebes a euro/kg. Dividir per 100\n",
    "preus[0] = preus[0]/100\n",
    "print(preus)"
   ]
  },
  {
   "cell_type": "code",
   "execution_count": null,
   "metadata": {},
   "outputs": [],
   "source": [
    "# A) Quin és el preu màxim de cada producte?\n"
   ]
  },
  {
   "cell_type": "code",
   "execution_count": null,
   "metadata": {},
   "outputs": [],
   "source": [
    "# B) Quin és el producte més car?"
   ]
  },
  {
   "cell_type": "code",
   "execution_count": null,
   "metadata": {},
   "outputs": [],
   "source": [
    "# C) Quin dia són més cares les taronges?"
   ]
  },
  {
   "cell_type": "code",
   "execution_count": null,
   "metadata": {},
   "outputs": [],
   "source": [
    "# D) I si el preu de mercat és un 20% més, quins preus tindrem?"
   ]
  },
  {
   "cell_type": "code",
   "execution_count": null,
   "metadata": {},
   "outputs": [],
   "source": [
    "# E) Quin és el cost de comprar 3 kg de taronges i 2.5 kg de cebes el dia 2?"
   ]
  },
  {
   "attachments": {},
   "cell_type": "markdown",
   "metadata": {},
   "source": [
    "[![License: CC BY 4.0](https://img.shields.io/badge/License-CC_BY_4.0-lightgrey.svg)](https://creativecommons.org/licenses/by/4.0/) <br/>\n",
    "Authors: [Isaac Lera](https://personal.uib.cat/isaac.lera), [Miquel Miró](https://personal.uib.cat/miquel.miro) and [Biel Moyà](https://personal.uib.cat/gabriel.moya)<br/>\n",
    "Institution: Universitat de les Illes Balears (UIB) <br/>"
   ]
  },
  {
   "cell_type": "markdown",
   "metadata": {},
   "source": []
  }
 ],
 "metadata": {
  "kernelspec": {
   "display_name": "Python 3.9.7 64-bit ('3.9.7')",
   "language": "python",
   "name": "python3"
  },
  "language_info": {
   "codemirror_mode": {
    "name": "ipython",
    "version": 3
   },
   "file_extension": ".py",
   "mimetype": "text/x-python",
   "name": "python",
   "nbconvert_exporter": "python",
   "pygments_lexer": "ipython3",
   "version": "3.11.0"
  },
  "orig_nbformat": 4,
  "vscode": {
   "interpreter": {
    "hash": "1dd6de46b7c7be538353ccdeaa948031a5b4d43665739a26f55ca28b247c53cc"
   }
  }
 },
 "nbformat": 4,
 "nbformat_minor": 2
}
